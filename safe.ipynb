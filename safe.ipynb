{
 "cells": [
  {
   "cell_type": "code",
   "execution_count": 1,
   "id": "f7bcf7b0",
   "metadata": {},
   "outputs": [],
   "source": [
    "import pandas as pd\n",
    "import numpy as np\n",
    "import matplotlib.pyplot as plt"
   ]
  },
  {
   "cell_type": "code",
   "execution_count": 2,
   "id": "1ad1d49a",
   "metadata": {},
   "outputs": [],
   "source": [
    "path = \"./data_ok/all_data_ok.xlsx\""
   ]
  },
  {
   "cell_type": "markdown",
   "id": "242e5f93",
   "metadata": {},
   "source": [
    "**Không có index_col**"
   ]
  },
  {
   "cell_type": "code",
   "execution_count": 3,
   "id": "089fbf81",
   "metadata": {},
   "outputs": [],
   "source": [
    "all_data_1 = pd.read_excel(path)"
   ]
  },
  {
   "cell_type": "code",
   "execution_count": 4,
   "id": "d389f4c7",
   "metadata": {},
   "outputs": [
    {
     "data": {
      "text/html": [
       "<div>\n",
       "<style scoped>\n",
       "    .dataframe tbody tr th:only-of-type {\n",
       "        vertical-align: middle;\n",
       "    }\n",
       "\n",
       "    .dataframe tbody tr th {\n",
       "        vertical-align: top;\n",
       "    }\n",
       "\n",
       "    .dataframe thead th {\n",
       "        text-align: right;\n",
       "    }\n",
       "</style>\n",
       "<table border=\"1\" class=\"dataframe\">\n",
       "  <thead>\n",
       "    <tr style=\"text-align: right;\">\n",
       "      <th></th>\n",
       "      <th>Unnamed: 0</th>\n",
       "      <th>Số báo danh</th>\n",
       "      <th>Toán</th>\n",
       "      <th>Ngữ văn</th>\n",
       "      <th>Ngoại ngữ</th>\n",
       "      <th>Vật lý</th>\n",
       "      <th>Hóa học</th>\n",
       "      <th>Sinh học</th>\n",
       "      <th>Lịch sử</th>\n",
       "      <th>Địa lý</th>\n",
       "      <th>GDCD</th>\n",
       "    </tr>\n",
       "  </thead>\n",
       "  <tbody>\n",
       "    <tr>\n",
       "      <th>0</th>\n",
       "      <td>0</td>\n",
       "      <td>1000001</td>\n",
       "      <td>3.6</td>\n",
       "      <td>5.00</td>\n",
       "      <td>4.0</td>\n",
       "      <td>NaN</td>\n",
       "      <td>NaN</td>\n",
       "      <td>NaN</td>\n",
       "      <td>2.75</td>\n",
       "      <td>6.00</td>\n",
       "      <td>8.75</td>\n",
       "    </tr>\n",
       "    <tr>\n",
       "      <th>1</th>\n",
       "      <td>1</td>\n",
       "      <td>1000002</td>\n",
       "      <td>8.4</td>\n",
       "      <td>6.75</td>\n",
       "      <td>7.6</td>\n",
       "      <td>NaN</td>\n",
       "      <td>NaN</td>\n",
       "      <td>NaN</td>\n",
       "      <td>8.50</td>\n",
       "      <td>7.50</td>\n",
       "      <td>8.25</td>\n",
       "    </tr>\n",
       "    <tr>\n",
       "      <th>2</th>\n",
       "      <td>2</td>\n",
       "      <td>1000003</td>\n",
       "      <td>5.8</td>\n",
       "      <td>7.50</td>\n",
       "      <td>5.0</td>\n",
       "      <td>NaN</td>\n",
       "      <td>NaN</td>\n",
       "      <td>NaN</td>\n",
       "      <td>7.25</td>\n",
       "      <td>5.50</td>\n",
       "      <td>8.75</td>\n",
       "    </tr>\n",
       "    <tr>\n",
       "      <th>3</th>\n",
       "      <td>3</td>\n",
       "      <td>1000004</td>\n",
       "      <td>7.4</td>\n",
       "      <td>7.50</td>\n",
       "      <td>8.6</td>\n",
       "      <td>NaN</td>\n",
       "      <td>NaN</td>\n",
       "      <td>NaN</td>\n",
       "      <td>7.50</td>\n",
       "      <td>6.50</td>\n",
       "      <td>7.50</td>\n",
       "    </tr>\n",
       "    <tr>\n",
       "      <th>4</th>\n",
       "      <td>4</td>\n",
       "      <td>1000005</td>\n",
       "      <td>7.2</td>\n",
       "      <td>8.50</td>\n",
       "      <td>9.0</td>\n",
       "      <td>NaN</td>\n",
       "      <td>NaN</td>\n",
       "      <td>NaN</td>\n",
       "      <td>8.00</td>\n",
       "      <td>8.50</td>\n",
       "      <td>8.25</td>\n",
       "    </tr>\n",
       "    <tr>\n",
       "      <th>...</th>\n",
       "      <td>...</td>\n",
       "      <td>...</td>\n",
       "      <td>...</td>\n",
       "      <td>...</td>\n",
       "      <td>...</td>\n",
       "      <td>...</td>\n",
       "      <td>...</td>\n",
       "      <td>...</td>\n",
       "      <td>...</td>\n",
       "      <td>...</td>\n",
       "      <td>...</td>\n",
       "    </tr>\n",
       "    <tr>\n",
       "      <th>995436</th>\n",
       "      <td>995436</td>\n",
       "      <td>64006584</td>\n",
       "      <td>8.4</td>\n",
       "      <td>6.75</td>\n",
       "      <td>4.6</td>\n",
       "      <td>NaN</td>\n",
       "      <td>NaN</td>\n",
       "      <td>NaN</td>\n",
       "      <td>6.50</td>\n",
       "      <td>6.75</td>\n",
       "      <td>9.00</td>\n",
       "    </tr>\n",
       "    <tr>\n",
       "      <th>995437</th>\n",
       "      <td>995437</td>\n",
       "      <td>64006585</td>\n",
       "      <td>5.6</td>\n",
       "      <td>6.50</td>\n",
       "      <td>2.8</td>\n",
       "      <td>NaN</td>\n",
       "      <td>NaN</td>\n",
       "      <td>NaN</td>\n",
       "      <td>6.25</td>\n",
       "      <td>6.75</td>\n",
       "      <td>8.50</td>\n",
       "    </tr>\n",
       "    <tr>\n",
       "      <th>995438</th>\n",
       "      <td>995438</td>\n",
       "      <td>64006586</td>\n",
       "      <td>5.8</td>\n",
       "      <td>6.00</td>\n",
       "      <td>6.6</td>\n",
       "      <td>NaN</td>\n",
       "      <td>NaN</td>\n",
       "      <td>NaN</td>\n",
       "      <td>7.25</td>\n",
       "      <td>8.00</td>\n",
       "      <td>8.00</td>\n",
       "    </tr>\n",
       "    <tr>\n",
       "      <th>995439</th>\n",
       "      <td>995439</td>\n",
       "      <td>64006587</td>\n",
       "      <td>7.6</td>\n",
       "      <td>6.75</td>\n",
       "      <td>7.0</td>\n",
       "      <td>NaN</td>\n",
       "      <td>NaN</td>\n",
       "      <td>NaN</td>\n",
       "      <td>8.75</td>\n",
       "      <td>7.25</td>\n",
       "      <td>9.75</td>\n",
       "    </tr>\n",
       "    <tr>\n",
       "      <th>995440</th>\n",
       "      <td>995440</td>\n",
       "      <td>64006588</td>\n",
       "      <td>6.6</td>\n",
       "      <td>4.50</td>\n",
       "      <td>3.2</td>\n",
       "      <td>NaN</td>\n",
       "      <td>NaN</td>\n",
       "      <td>NaN</td>\n",
       "      <td>3.00</td>\n",
       "      <td>6.00</td>\n",
       "      <td>7.50</td>\n",
       "    </tr>\n",
       "  </tbody>\n",
       "</table>\n",
       "<p>995441 rows × 11 columns</p>\n",
       "</div>"
      ],
      "text/plain": [
       "        Unnamed: 0  Số báo danh  Toán  Ngữ văn  Ngoại ngữ  Vật lý  Hóa học  \\\n",
       "0                0      1000001   3.6     5.00        4.0     NaN      NaN   \n",
       "1                1      1000002   8.4     6.75        7.6     NaN      NaN   \n",
       "2                2      1000003   5.8     7.50        5.0     NaN      NaN   \n",
       "3                3      1000004   7.4     7.50        8.6     NaN      NaN   \n",
       "4                4      1000005   7.2     8.50        9.0     NaN      NaN   \n",
       "...            ...          ...   ...      ...        ...     ...      ...   \n",
       "995436      995436     64006584   8.4     6.75        4.6     NaN      NaN   \n",
       "995437      995437     64006585   5.6     6.50        2.8     NaN      NaN   \n",
       "995438      995438     64006586   5.8     6.00        6.6     NaN      NaN   \n",
       "995439      995439     64006587   7.6     6.75        7.0     NaN      NaN   \n",
       "995440      995440     64006588   6.6     4.50        3.2     NaN      NaN   \n",
       "\n",
       "        Sinh học  Lịch sử  Địa lý  GDCD  \n",
       "0            NaN     2.75    6.00  8.75  \n",
       "1            NaN     8.50    7.50  8.25  \n",
       "2            NaN     7.25    5.50  8.75  \n",
       "3            NaN     7.50    6.50  7.50  \n",
       "4            NaN     8.00    8.50  8.25  \n",
       "...          ...      ...     ...   ...  \n",
       "995436       NaN     6.50    6.75  9.00  \n",
       "995437       NaN     6.25    6.75  8.50  \n",
       "995438       NaN     7.25    8.00  8.00  \n",
       "995439       NaN     8.75    7.25  9.75  \n",
       "995440       NaN     3.00    6.00  7.50  \n",
       "\n",
       "[995441 rows x 11 columns]"
      ]
     },
     "execution_count": 4,
     "metadata": {},
     "output_type": "execute_result"
    }
   ],
   "source": [
    "all_data_1"
   ]
  },
  {
   "cell_type": "markdown",
   "id": "836d3258",
   "metadata": {},
   "source": [
    "**Có index_col**"
   ]
  },
  {
   "cell_type": "code",
   "execution_count": 5,
   "id": "d07db09a",
   "metadata": {},
   "outputs": [],
   "source": [
    "all_data = pd.read_excel(path, index_col=0)"
   ]
  },
  {
   "cell_type": "code",
   "execution_count": 6,
   "id": "d4885e5c",
   "metadata": {},
   "outputs": [
    {
     "name": "stdout",
     "output_type": "stream",
     "text": [
      "<class 'pandas.core.frame.DataFrame'>\n",
      "Int64Index: 995441 entries, 0 to 995440\n",
      "Data columns (total 10 columns):\n",
      " #   Column       Non-Null Count   Dtype  \n",
      "---  ------       --------------   -----  \n",
      " 0   Số báo danh  995441 non-null  int64  \n",
      " 1   Toán         982726 non-null  float64\n",
      " 2   Ngữ văn      981407 non-null  float64\n",
      " 3   Ngoại ngữ    870609 non-null  float64\n",
      " 4   Vật lý       325523 non-null  float64\n",
      " 5   Hóa học      327367 non-null  float64\n",
      " 6   Sinh học     322198 non-null  float64\n",
      " 7   Lịch sử      659662 non-null  float64\n",
      " 8   Địa lý       657421 non-null  float64\n",
      " 9   GDCD         554343 non-null  float64\n",
      "dtypes: float64(9), int64(1)\n",
      "memory usage: 83.5 MB\n"
     ]
    }
   ],
   "source": [
    "all_data.info()"
   ]
  },
  {
   "cell_type": "code",
   "execution_count": 7,
   "id": "46561cea",
   "metadata": {},
   "outputs": [
    {
     "data": {
      "text/html": [
       "<div>\n",
       "<style scoped>\n",
       "    .dataframe tbody tr th:only-of-type {\n",
       "        vertical-align: middle;\n",
       "    }\n",
       "\n",
       "    .dataframe tbody tr th {\n",
       "        vertical-align: top;\n",
       "    }\n",
       "\n",
       "    .dataframe thead th {\n",
       "        text-align: right;\n",
       "    }\n",
       "</style>\n",
       "<table border=\"1\" class=\"dataframe\">\n",
       "  <thead>\n",
       "    <tr style=\"text-align: right;\">\n",
       "      <th></th>\n",
       "      <th>Số báo danh</th>\n",
       "      <th>Toán</th>\n",
       "      <th>Ngữ văn</th>\n",
       "      <th>Ngoại ngữ</th>\n",
       "      <th>Vật lý</th>\n",
       "      <th>Hóa học</th>\n",
       "      <th>Sinh học</th>\n",
       "      <th>Lịch sử</th>\n",
       "      <th>Địa lý</th>\n",
       "      <th>GDCD</th>\n",
       "    </tr>\n",
       "  </thead>\n",
       "  <tbody>\n",
       "    <tr>\n",
       "      <th>0</th>\n",
       "      <td>1000001</td>\n",
       "      <td>3.6</td>\n",
       "      <td>5.00</td>\n",
       "      <td>4.0</td>\n",
       "      <td>NaN</td>\n",
       "      <td>NaN</td>\n",
       "      <td>NaN</td>\n",
       "      <td>2.75</td>\n",
       "      <td>6.0</td>\n",
       "      <td>8.75</td>\n",
       "    </tr>\n",
       "    <tr>\n",
       "      <th>1</th>\n",
       "      <td>1000002</td>\n",
       "      <td>8.4</td>\n",
       "      <td>6.75</td>\n",
       "      <td>7.6</td>\n",
       "      <td>NaN</td>\n",
       "      <td>NaN</td>\n",
       "      <td>NaN</td>\n",
       "      <td>8.50</td>\n",
       "      <td>7.5</td>\n",
       "      <td>8.25</td>\n",
       "    </tr>\n",
       "    <tr>\n",
       "      <th>2</th>\n",
       "      <td>1000003</td>\n",
       "      <td>5.8</td>\n",
       "      <td>7.50</td>\n",
       "      <td>5.0</td>\n",
       "      <td>NaN</td>\n",
       "      <td>NaN</td>\n",
       "      <td>NaN</td>\n",
       "      <td>7.25</td>\n",
       "      <td>5.5</td>\n",
       "      <td>8.75</td>\n",
       "    </tr>\n",
       "    <tr>\n",
       "      <th>3</th>\n",
       "      <td>1000004</td>\n",
       "      <td>7.4</td>\n",
       "      <td>7.50</td>\n",
       "      <td>8.6</td>\n",
       "      <td>NaN</td>\n",
       "      <td>NaN</td>\n",
       "      <td>NaN</td>\n",
       "      <td>7.50</td>\n",
       "      <td>6.5</td>\n",
       "      <td>7.50</td>\n",
       "    </tr>\n",
       "    <tr>\n",
       "      <th>4</th>\n",
       "      <td>1000005</td>\n",
       "      <td>7.2</td>\n",
       "      <td>8.50</td>\n",
       "      <td>9.0</td>\n",
       "      <td>NaN</td>\n",
       "      <td>NaN</td>\n",
       "      <td>NaN</td>\n",
       "      <td>8.00</td>\n",
       "      <td>8.5</td>\n",
       "      <td>8.25</td>\n",
       "    </tr>\n",
       "  </tbody>\n",
       "</table>\n",
       "</div>"
      ],
      "text/plain": [
       "   Số báo danh  Toán  Ngữ văn  Ngoại ngữ  Vật lý  Hóa học  Sinh học  Lịch sử  \\\n",
       "0      1000001   3.6     5.00        4.0     NaN      NaN       NaN     2.75   \n",
       "1      1000002   8.4     6.75        7.6     NaN      NaN       NaN     8.50   \n",
       "2      1000003   5.8     7.50        5.0     NaN      NaN       NaN     7.25   \n",
       "3      1000004   7.4     7.50        8.6     NaN      NaN       NaN     7.50   \n",
       "4      1000005   7.2     8.50        9.0     NaN      NaN       NaN     8.00   \n",
       "\n",
       "   Địa lý  GDCD  \n",
       "0     6.0  8.75  \n",
       "1     7.5  8.25  \n",
       "2     5.5  8.75  \n",
       "3     6.5  7.50  \n",
       "4     8.5  8.25  "
      ]
     },
     "execution_count": 7,
     "metadata": {},
     "output_type": "execute_result"
    }
   ],
   "source": [
    "all_data.head()"
   ]
  },
  {
   "cell_type": "code",
   "execution_count": 8,
   "id": "b6758977",
   "metadata": {
    "scrolled": true
   },
   "outputs": [
    {
     "data": {
      "text/html": [
       "<div>\n",
       "<style scoped>\n",
       "    .dataframe tbody tr th:only-of-type {\n",
       "        vertical-align: middle;\n",
       "    }\n",
       "\n",
       "    .dataframe tbody tr th {\n",
       "        vertical-align: top;\n",
       "    }\n",
       "\n",
       "    .dataframe thead th {\n",
       "        text-align: right;\n",
       "    }\n",
       "</style>\n",
       "<table border=\"1\" class=\"dataframe\">\n",
       "  <thead>\n",
       "    <tr style=\"text-align: right;\">\n",
       "      <th></th>\n",
       "      <th>Số báo danh</th>\n",
       "      <th>Toán</th>\n",
       "      <th>Ngữ văn</th>\n",
       "      <th>Ngoại ngữ</th>\n",
       "      <th>Vật lý</th>\n",
       "      <th>Hóa học</th>\n",
       "      <th>Sinh học</th>\n",
       "      <th>Lịch sử</th>\n",
       "      <th>Địa lý</th>\n",
       "      <th>GDCD</th>\n",
       "    </tr>\n",
       "  </thead>\n",
       "  <tbody>\n",
       "    <tr>\n",
       "      <th>995436</th>\n",
       "      <td>64006584</td>\n",
       "      <td>8.4</td>\n",
       "      <td>6.75</td>\n",
       "      <td>4.6</td>\n",
       "      <td>NaN</td>\n",
       "      <td>NaN</td>\n",
       "      <td>NaN</td>\n",
       "      <td>6.50</td>\n",
       "      <td>6.75</td>\n",
       "      <td>9.00</td>\n",
       "    </tr>\n",
       "    <tr>\n",
       "      <th>995437</th>\n",
       "      <td>64006585</td>\n",
       "      <td>5.6</td>\n",
       "      <td>6.50</td>\n",
       "      <td>2.8</td>\n",
       "      <td>NaN</td>\n",
       "      <td>NaN</td>\n",
       "      <td>NaN</td>\n",
       "      <td>6.25</td>\n",
       "      <td>6.75</td>\n",
       "      <td>8.50</td>\n",
       "    </tr>\n",
       "    <tr>\n",
       "      <th>995438</th>\n",
       "      <td>64006586</td>\n",
       "      <td>5.8</td>\n",
       "      <td>6.00</td>\n",
       "      <td>6.6</td>\n",
       "      <td>NaN</td>\n",
       "      <td>NaN</td>\n",
       "      <td>NaN</td>\n",
       "      <td>7.25</td>\n",
       "      <td>8.00</td>\n",
       "      <td>8.00</td>\n",
       "    </tr>\n",
       "    <tr>\n",
       "      <th>995439</th>\n",
       "      <td>64006587</td>\n",
       "      <td>7.6</td>\n",
       "      <td>6.75</td>\n",
       "      <td>7.0</td>\n",
       "      <td>NaN</td>\n",
       "      <td>NaN</td>\n",
       "      <td>NaN</td>\n",
       "      <td>8.75</td>\n",
       "      <td>7.25</td>\n",
       "      <td>9.75</td>\n",
       "    </tr>\n",
       "    <tr>\n",
       "      <th>995440</th>\n",
       "      <td>64006588</td>\n",
       "      <td>6.6</td>\n",
       "      <td>4.50</td>\n",
       "      <td>3.2</td>\n",
       "      <td>NaN</td>\n",
       "      <td>NaN</td>\n",
       "      <td>NaN</td>\n",
       "      <td>3.00</td>\n",
       "      <td>6.00</td>\n",
       "      <td>7.50</td>\n",
       "    </tr>\n",
       "  </tbody>\n",
       "</table>\n",
       "</div>"
      ],
      "text/plain": [
       "        Số báo danh  Toán  Ngữ văn  Ngoại ngữ  Vật lý  Hóa học  Sinh học  \\\n",
       "995436     64006584   8.4     6.75        4.6     NaN      NaN       NaN   \n",
       "995437     64006585   5.6     6.50        2.8     NaN      NaN       NaN   \n",
       "995438     64006586   5.8     6.00        6.6     NaN      NaN       NaN   \n",
       "995439     64006587   7.6     6.75        7.0     NaN      NaN       NaN   \n",
       "995440     64006588   6.6     4.50        3.2     NaN      NaN       NaN   \n",
       "\n",
       "        Lịch sử  Địa lý  GDCD  \n",
       "995436     6.50    6.75  9.00  \n",
       "995437     6.25    6.75  8.50  \n",
       "995438     7.25    8.00  8.00  \n",
       "995439     8.75    7.25  9.75  \n",
       "995440     3.00    6.00  7.50  "
      ]
     },
     "execution_count": 8,
     "metadata": {},
     "output_type": "execute_result"
    }
   ],
   "source": [
    "all_data.tail()"
   ]
  },
  {
   "cell_type": "code",
   "execution_count": 9,
   "id": "317aa190",
   "metadata": {},
   "outputs": [],
   "source": [
    "all_data.fillna(-1, inplace=True)"
   ]
  },
  {
   "cell_type": "code",
   "execution_count": 10,
   "id": "414e4f6a",
   "metadata": {
    "scrolled": true
   },
   "outputs": [
    {
     "data": {
      "text/html": [
       "<div>\n",
       "<style scoped>\n",
       "    .dataframe tbody tr th:only-of-type {\n",
       "        vertical-align: middle;\n",
       "    }\n",
       "\n",
       "    .dataframe tbody tr th {\n",
       "        vertical-align: top;\n",
       "    }\n",
       "\n",
       "    .dataframe thead th {\n",
       "        text-align: right;\n",
       "    }\n",
       "</style>\n",
       "<table border=\"1\" class=\"dataframe\">\n",
       "  <thead>\n",
       "    <tr style=\"text-align: right;\">\n",
       "      <th></th>\n",
       "      <th>Số báo danh</th>\n",
       "      <th>Toán</th>\n",
       "      <th>Ngữ văn</th>\n",
       "      <th>Ngoại ngữ</th>\n",
       "      <th>Vật lý</th>\n",
       "      <th>Hóa học</th>\n",
       "      <th>Sinh học</th>\n",
       "      <th>Lịch sử</th>\n",
       "      <th>Địa lý</th>\n",
       "      <th>GDCD</th>\n",
       "    </tr>\n",
       "  </thead>\n",
       "  <tbody>\n",
       "    <tr>\n",
       "      <th>995436</th>\n",
       "      <td>64006584</td>\n",
       "      <td>8.4</td>\n",
       "      <td>6.75</td>\n",
       "      <td>4.6</td>\n",
       "      <td>-1.0</td>\n",
       "      <td>-1.0</td>\n",
       "      <td>-1.0</td>\n",
       "      <td>6.50</td>\n",
       "      <td>6.75</td>\n",
       "      <td>9.00</td>\n",
       "    </tr>\n",
       "    <tr>\n",
       "      <th>995437</th>\n",
       "      <td>64006585</td>\n",
       "      <td>5.6</td>\n",
       "      <td>6.50</td>\n",
       "      <td>2.8</td>\n",
       "      <td>-1.0</td>\n",
       "      <td>-1.0</td>\n",
       "      <td>-1.0</td>\n",
       "      <td>6.25</td>\n",
       "      <td>6.75</td>\n",
       "      <td>8.50</td>\n",
       "    </tr>\n",
       "    <tr>\n",
       "      <th>995438</th>\n",
       "      <td>64006586</td>\n",
       "      <td>5.8</td>\n",
       "      <td>6.00</td>\n",
       "      <td>6.6</td>\n",
       "      <td>-1.0</td>\n",
       "      <td>-1.0</td>\n",
       "      <td>-1.0</td>\n",
       "      <td>7.25</td>\n",
       "      <td>8.00</td>\n",
       "      <td>8.00</td>\n",
       "    </tr>\n",
       "    <tr>\n",
       "      <th>995439</th>\n",
       "      <td>64006587</td>\n",
       "      <td>7.6</td>\n",
       "      <td>6.75</td>\n",
       "      <td>7.0</td>\n",
       "      <td>-1.0</td>\n",
       "      <td>-1.0</td>\n",
       "      <td>-1.0</td>\n",
       "      <td>8.75</td>\n",
       "      <td>7.25</td>\n",
       "      <td>9.75</td>\n",
       "    </tr>\n",
       "    <tr>\n",
       "      <th>995440</th>\n",
       "      <td>64006588</td>\n",
       "      <td>6.6</td>\n",
       "      <td>4.50</td>\n",
       "      <td>3.2</td>\n",
       "      <td>-1.0</td>\n",
       "      <td>-1.0</td>\n",
       "      <td>-1.0</td>\n",
       "      <td>3.00</td>\n",
       "      <td>6.00</td>\n",
       "      <td>7.50</td>\n",
       "    </tr>\n",
       "  </tbody>\n",
       "</table>\n",
       "</div>"
      ],
      "text/plain": [
       "        Số báo danh  Toán  Ngữ văn  Ngoại ngữ  Vật lý  Hóa học  Sinh học  \\\n",
       "995436     64006584   8.4     6.75        4.6    -1.0     -1.0      -1.0   \n",
       "995437     64006585   5.6     6.50        2.8    -1.0     -1.0      -1.0   \n",
       "995438     64006586   5.8     6.00        6.6    -1.0     -1.0      -1.0   \n",
       "995439     64006587   7.6     6.75        7.0    -1.0     -1.0      -1.0   \n",
       "995440     64006588   6.6     4.50        3.2    -1.0     -1.0      -1.0   \n",
       "\n",
       "        Lịch sử  Địa lý  GDCD  \n",
       "995436     6.50    6.75  9.00  \n",
       "995437     6.25    6.75  8.50  \n",
       "995438     7.25    8.00  8.00  \n",
       "995439     8.75    7.25  9.75  \n",
       "995440     3.00    6.00  7.50  "
      ]
     },
     "execution_count": 10,
     "metadata": {},
     "output_type": "execute_result"
    }
   ],
   "source": [
    "all_data.tail()"
   ]
  },
  {
   "cell_type": "code",
   "execution_count": 11,
   "id": "c3b0f13a",
   "metadata": {},
   "outputs": [
    {
     "data": {
      "text/plain": [
       "995441"
      ]
     },
     "execution_count": 11,
     "metadata": {},
     "output_type": "execute_result"
    }
   ],
   "source": [
    "all_data.shape[0]"
   ]
  },
  {
   "cell_type": "code",
   "execution_count": 12,
   "id": "3c3370f9",
   "metadata": {},
   "outputs": [
    {
     "data": {
      "text/plain": [
       "0"
      ]
     },
     "execution_count": 12,
     "metadata": {},
     "output_type": "execute_result"
    }
   ],
   "source": [
    "all_data[\"Toán\"].isnull().sum()"
   ]
  },
  {
   "cell_type": "code",
   "execution_count": 13,
   "id": "008a51ff",
   "metadata": {},
   "outputs": [
    {
     "data": {
      "text/plain": [
       "0"
      ]
     },
     "execution_count": 13,
     "metadata": {},
     "output_type": "execute_result"
    }
   ],
   "source": [
    "all_data[\"Ngữ văn\"].isnull().sum()"
   ]
  },
  {
   "cell_type": "markdown",
   "id": "d7c0141d",
   "metadata": {},
   "source": [
    "**Thí sinh hợp lệ là thí sinh thi đủ 6 môn**\n",
    "\n",
    "**Thí sinh hợp lệ = KHXH + KHTN**"
   ]
  },
  {
   "cell_type": "code",
   "execution_count": 14,
   "id": "45ad239e",
   "metadata": {},
   "outputs": [],
   "source": [
    "thi_sinh_thi_KHXH = all_data[(all_data[\"Toán\"] != -1) \n",
    "                            & (all_data[\"Ngữ văn\"] != -1)\n",
    "                            & (all_data[\"Ngoại ngữ\"] != -1)\n",
    "                            & (all_data[\"Lịch sử\"] != -1)\n",
    "                            & (all_data[\"Địa lý\"] != -1)\n",
    "                            & (all_data[\"GDCD\"] != -1)]"
   ]
  },
  {
   "cell_type": "code",
   "execution_count": 15,
   "id": "8dcc7b8d",
   "metadata": {
    "scrolled": true
   },
   "outputs": [
    {
     "name": "stdout",
     "output_type": "stream",
     "text": [
      "<class 'pandas.core.frame.DataFrame'>\n",
      "Int64Index: 549574 entries, 0 to 995440\n",
      "Data columns (total 10 columns):\n",
      " #   Column       Non-Null Count   Dtype  \n",
      "---  ------       --------------   -----  \n",
      " 0   Số báo danh  549574 non-null  int64  \n",
      " 1   Toán         549574 non-null  float64\n",
      " 2   Ngữ văn      549574 non-null  float64\n",
      " 3   Ngoại ngữ    549574 non-null  float64\n",
      " 4   Vật lý       549574 non-null  float64\n",
      " 5   Hóa học      549574 non-null  float64\n",
      " 6   Sinh học     549574 non-null  float64\n",
      " 7   Lịch sử      549574 non-null  float64\n",
      " 8   Địa lý       549574 non-null  float64\n",
      " 9   GDCD         549574 non-null  float64\n",
      "dtypes: float64(9), int64(1)\n",
      "memory usage: 46.1 MB\n"
     ]
    }
   ],
   "source": [
    "thi_sinh_thi_KHXH.info()"
   ]
  },
  {
   "cell_type": "code",
   "execution_count": 16,
   "id": "095dc3e4",
   "metadata": {
    "scrolled": false
   },
   "outputs": [
    {
     "data": {
      "text/plain": [
       "Số báo danh    549574\n",
       "Toán           549574\n",
       "Ngữ văn        549574\n",
       "Ngoại ngữ      549574\n",
       "Vật lý         549574\n",
       "Hóa học        549574\n",
       "Sinh học       549574\n",
       "Lịch sử        549574\n",
       "Địa lý         549574\n",
       "GDCD           549574\n",
       "dtype: int64"
      ]
     },
     "execution_count": 16,
     "metadata": {},
     "output_type": "execute_result"
    }
   ],
   "source": [
    "thi_sinh_thi_KHXH.count()"
   ]
  },
  {
   "cell_type": "code",
   "execution_count": 17,
   "id": "3271d33c",
   "metadata": {},
   "outputs": [
    {
     "data": {
      "text/plain": [
       "(549574, 10)"
      ]
     },
     "execution_count": 17,
     "metadata": {},
     "output_type": "execute_result"
    }
   ],
   "source": [
    "thi_sinh_thi_KHXH.shape"
   ]
  },
  {
   "cell_type": "code",
   "execution_count": 18,
   "id": "1ff52274",
   "metadata": {},
   "outputs": [
    {
     "data": {
      "text/plain": [
       "549574"
      ]
     },
     "execution_count": 18,
     "metadata": {},
     "output_type": "execute_result"
    }
   ],
   "source": [
    "thi_sinh_thi_KHXH.shape[0]"
   ]
  },
  {
   "cell_type": "code",
   "execution_count": null,
   "id": "d97c6775",
   "metadata": {},
   "outputs": [],
   "source": []
  },
  {
   "cell_type": "code",
   "execution_count": 19,
   "id": "6f38ce0c",
   "metadata": {},
   "outputs": [],
   "source": [
    "thi_sinh_thi_KHTN = all_data[(all_data[\"Toán\"] != -1) \n",
    "                            & (all_data[\"Ngữ văn\"] != -1)\n",
    "                            & (all_data[\"Ngoại ngữ\"] != -1)\n",
    "                            & (all_data[\"Vật lý\"] != -1)\n",
    "                            & (all_data[\"Hóa học\"] != -1)\n",
    "                            & (all_data[\"Sinh học\"] != -1)]"
   ]
  },
  {
   "cell_type": "code",
   "execution_count": 20,
   "id": "5057ee03",
   "metadata": {
    "scrolled": true
   },
   "outputs": [
    {
     "data": {
      "text/html": [
       "<div>\n",
       "<style scoped>\n",
       "    .dataframe tbody tr th:only-of-type {\n",
       "        vertical-align: middle;\n",
       "    }\n",
       "\n",
       "    .dataframe tbody tr th {\n",
       "        vertical-align: top;\n",
       "    }\n",
       "\n",
       "    .dataframe thead th {\n",
       "        text-align: right;\n",
       "    }\n",
       "</style>\n",
       "<table border=\"1\" class=\"dataframe\">\n",
       "  <thead>\n",
       "    <tr style=\"text-align: right;\">\n",
       "      <th></th>\n",
       "      <th>Số báo danh</th>\n",
       "      <th>Toán</th>\n",
       "      <th>Ngữ văn</th>\n",
       "      <th>Ngoại ngữ</th>\n",
       "      <th>Vật lý</th>\n",
       "      <th>Hóa học</th>\n",
       "      <th>Sinh học</th>\n",
       "      <th>Lịch sử</th>\n",
       "      <th>Địa lý</th>\n",
       "      <th>GDCD</th>\n",
       "    </tr>\n",
       "  </thead>\n",
       "  <tbody>\n",
       "    <tr>\n",
       "      <th>10</th>\n",
       "      <td>1000011</td>\n",
       "      <td>6.4</td>\n",
       "      <td>7.25</td>\n",
       "      <td>7.6</td>\n",
       "      <td>3.50</td>\n",
       "      <td>8.00</td>\n",
       "      <td>3.00</td>\n",
       "      <td>-1.0</td>\n",
       "      <td>-1.0</td>\n",
       "      <td>-1.0</td>\n",
       "    </tr>\n",
       "    <tr>\n",
       "      <th>14</th>\n",
       "      <td>1000015</td>\n",
       "      <td>8.6</td>\n",
       "      <td>7.25</td>\n",
       "      <td>9.6</td>\n",
       "      <td>8.25</td>\n",
       "      <td>3.25</td>\n",
       "      <td>4.25</td>\n",
       "      <td>-1.0</td>\n",
       "      <td>-1.0</td>\n",
       "      <td>-1.0</td>\n",
       "    </tr>\n",
       "    <tr>\n",
       "      <th>15</th>\n",
       "      <td>1000016</td>\n",
       "      <td>7.8</td>\n",
       "      <td>5.75</td>\n",
       "      <td>8.4</td>\n",
       "      <td>4.25</td>\n",
       "      <td>8.00</td>\n",
       "      <td>4.75</td>\n",
       "      <td>-1.0</td>\n",
       "      <td>-1.0</td>\n",
       "      <td>-1.0</td>\n",
       "    </tr>\n",
       "    <tr>\n",
       "      <th>16</th>\n",
       "      <td>1000017</td>\n",
       "      <td>8.6</td>\n",
       "      <td>6.25</td>\n",
       "      <td>7.0</td>\n",
       "      <td>7.00</td>\n",
       "      <td>3.50</td>\n",
       "      <td>3.75</td>\n",
       "      <td>-1.0</td>\n",
       "      <td>-1.0</td>\n",
       "      <td>-1.0</td>\n",
       "    </tr>\n",
       "    <tr>\n",
       "      <th>22</th>\n",
       "      <td>1000023</td>\n",
       "      <td>6.8</td>\n",
       "      <td>6.00</td>\n",
       "      <td>6.8</td>\n",
       "      <td>2.50</td>\n",
       "      <td>5.50</td>\n",
       "      <td>3.00</td>\n",
       "      <td>-1.0</td>\n",
       "      <td>-1.0</td>\n",
       "      <td>-1.0</td>\n",
       "    </tr>\n",
       "    <tr>\n",
       "      <th>...</th>\n",
       "      <td>...</td>\n",
       "      <td>...</td>\n",
       "      <td>...</td>\n",
       "      <td>...</td>\n",
       "      <td>...</td>\n",
       "      <td>...</td>\n",
       "      <td>...</td>\n",
       "      <td>...</td>\n",
       "      <td>...</td>\n",
       "      <td>...</td>\n",
       "    </tr>\n",
       "    <tr>\n",
       "      <th>995410</th>\n",
       "      <td>64006558</td>\n",
       "      <td>8.0</td>\n",
       "      <td>5.00</td>\n",
       "      <td>3.0</td>\n",
       "      <td>6.00</td>\n",
       "      <td>8.00</td>\n",
       "      <td>2.75</td>\n",
       "      <td>-1.0</td>\n",
       "      <td>-1.0</td>\n",
       "      <td>-1.0</td>\n",
       "    </tr>\n",
       "    <tr>\n",
       "      <th>995411</th>\n",
       "      <td>64006559</td>\n",
       "      <td>5.8</td>\n",
       "      <td>4.75</td>\n",
       "      <td>3.6</td>\n",
       "      <td>4.75</td>\n",
       "      <td>3.50</td>\n",
       "      <td>3.50</td>\n",
       "      <td>-1.0</td>\n",
       "      <td>-1.0</td>\n",
       "      <td>-1.0</td>\n",
       "    </tr>\n",
       "    <tr>\n",
       "      <th>995423</th>\n",
       "      <td>64006571</td>\n",
       "      <td>6.4</td>\n",
       "      <td>6.50</td>\n",
       "      <td>3.4</td>\n",
       "      <td>6.75</td>\n",
       "      <td>6.00</td>\n",
       "      <td>5.25</td>\n",
       "      <td>-1.0</td>\n",
       "      <td>-1.0</td>\n",
       "      <td>-1.0</td>\n",
       "    </tr>\n",
       "    <tr>\n",
       "      <th>995427</th>\n",
       "      <td>64006575</td>\n",
       "      <td>5.8</td>\n",
       "      <td>5.25</td>\n",
       "      <td>3.4</td>\n",
       "      <td>5.00</td>\n",
       "      <td>5.00</td>\n",
       "      <td>2.00</td>\n",
       "      <td>-1.0</td>\n",
       "      <td>-1.0</td>\n",
       "      <td>-1.0</td>\n",
       "    </tr>\n",
       "    <tr>\n",
       "      <th>995429</th>\n",
       "      <td>64006577</td>\n",
       "      <td>7.2</td>\n",
       "      <td>4.25</td>\n",
       "      <td>4.6</td>\n",
       "      <td>6.25</td>\n",
       "      <td>5.25</td>\n",
       "      <td>3.50</td>\n",
       "      <td>-1.0</td>\n",
       "      <td>-1.0</td>\n",
       "      <td>-1.0</td>\n",
       "    </tr>\n",
       "  </tbody>\n",
       "</table>\n",
       "<p>309162 rows × 10 columns</p>\n",
       "</div>"
      ],
      "text/plain": [
       "        Số báo danh  Toán  Ngữ văn  Ngoại ngữ  Vật lý  Hóa học  Sinh học  \\\n",
       "10          1000011   6.4     7.25        7.6    3.50     8.00      3.00   \n",
       "14          1000015   8.6     7.25        9.6    8.25     3.25      4.25   \n",
       "15          1000016   7.8     5.75        8.4    4.25     8.00      4.75   \n",
       "16          1000017   8.6     6.25        7.0    7.00     3.50      3.75   \n",
       "22          1000023   6.8     6.00        6.8    2.50     5.50      3.00   \n",
       "...             ...   ...      ...        ...     ...      ...       ...   \n",
       "995410     64006558   8.0     5.00        3.0    6.00     8.00      2.75   \n",
       "995411     64006559   5.8     4.75        3.6    4.75     3.50      3.50   \n",
       "995423     64006571   6.4     6.50        3.4    6.75     6.00      5.25   \n",
       "995427     64006575   5.8     5.25        3.4    5.00     5.00      2.00   \n",
       "995429     64006577   7.2     4.25        4.6    6.25     5.25      3.50   \n",
       "\n",
       "        Lịch sử  Địa lý  GDCD  \n",
       "10         -1.0    -1.0  -1.0  \n",
       "14         -1.0    -1.0  -1.0  \n",
       "15         -1.0    -1.0  -1.0  \n",
       "16         -1.0    -1.0  -1.0  \n",
       "22         -1.0    -1.0  -1.0  \n",
       "...         ...     ...   ...  \n",
       "995410     -1.0    -1.0  -1.0  \n",
       "995411     -1.0    -1.0  -1.0  \n",
       "995423     -1.0    -1.0  -1.0  \n",
       "995427     -1.0    -1.0  -1.0  \n",
       "995429     -1.0    -1.0  -1.0  \n",
       "\n",
       "[309162 rows x 10 columns]"
      ]
     },
     "execution_count": 20,
     "metadata": {},
     "output_type": "execute_result"
    }
   ],
   "source": [
    "thi_sinh_thi_KHTN"
   ]
  },
  {
   "cell_type": "code",
   "execution_count": 21,
   "id": "9cce6abb",
   "metadata": {},
   "outputs": [
    {
     "data": {
      "text/plain": [
       "Số báo danh    309162\n",
       "Toán           309162\n",
       "Ngữ văn        309162\n",
       "Ngoại ngữ      309162\n",
       "Vật lý         309162\n",
       "Hóa học        309162\n",
       "Sinh học       309162\n",
       "Lịch sử        309162\n",
       "Địa lý         309162\n",
       "GDCD           309162\n",
       "dtype: int64"
      ]
     },
     "execution_count": 21,
     "metadata": {},
     "output_type": "execute_result"
    }
   ],
   "source": [
    "thi_sinh_thi_KHTN.count()"
   ]
  },
  {
   "cell_type": "code",
   "execution_count": 22,
   "id": "ece787a3",
   "metadata": {
    "scrolled": true
   },
   "outputs": [
    {
     "name": "stdout",
     "output_type": "stream",
     "text": [
      "<class 'pandas.core.frame.DataFrame'>\n",
      "Int64Index: 309162 entries, 10 to 995429\n",
      "Data columns (total 10 columns):\n",
      " #   Column       Non-Null Count   Dtype  \n",
      "---  ------       --------------   -----  \n",
      " 0   Số báo danh  309162 non-null  int64  \n",
      " 1   Toán         309162 non-null  float64\n",
      " 2   Ngữ văn      309162 non-null  float64\n",
      " 3   Ngoại ngữ    309162 non-null  float64\n",
      " 4   Vật lý       309162 non-null  float64\n",
      " 5   Hóa học      309162 non-null  float64\n",
      " 6   Sinh học     309162 non-null  float64\n",
      " 7   Lịch sử      309162 non-null  float64\n",
      " 8   Địa lý       309162 non-null  float64\n",
      " 9   GDCD         309162 non-null  float64\n",
      "dtypes: float64(9), int64(1)\n",
      "memory usage: 25.9 MB\n"
     ]
    }
   ],
   "source": [
    "thi_sinh_thi_KHTN.info()"
   ]
  },
  {
   "cell_type": "markdown",
   "id": "4881ca07",
   "metadata": {},
   "source": [
    "**Thí sinh hợp lệ**"
   ]
  },
  {
   "cell_type": "code",
   "execution_count": 23,
   "id": "aa6e923d",
   "metadata": {},
   "outputs": [],
   "source": [
    "thi_sinh_hop_le = pd.concat([thi_sinh_thi_KHTN,thi_sinh_thi_KHXH],ignore_index=True)"
   ]
  },
  {
   "cell_type": "code",
   "execution_count": 24,
   "id": "fa9f72f0",
   "metadata": {},
   "outputs": [
    {
     "name": "stdout",
     "output_type": "stream",
     "text": [
      "<class 'pandas.core.frame.DataFrame'>\n",
      "RangeIndex: 858736 entries, 0 to 858735\n",
      "Data columns (total 10 columns):\n",
      " #   Column       Non-Null Count   Dtype  \n",
      "---  ------       --------------   -----  \n",
      " 0   Số báo danh  858736 non-null  int64  \n",
      " 1   Toán         858736 non-null  float64\n",
      " 2   Ngữ văn      858736 non-null  float64\n",
      " 3   Ngoại ngữ    858736 non-null  float64\n",
      " 4   Vật lý       858736 non-null  float64\n",
      " 5   Hóa học      858736 non-null  float64\n",
      " 6   Sinh học     858736 non-null  float64\n",
      " 7   Lịch sử      858736 non-null  float64\n",
      " 8   Địa lý       858736 non-null  float64\n",
      " 9   GDCD         858736 non-null  float64\n",
      "dtypes: float64(9), int64(1)\n",
      "memory usage: 65.5 MB\n"
     ]
    }
   ],
   "source": [
    "thi_sinh_hop_le.info()"
   ]
  },
  {
   "cell_type": "code",
   "execution_count": 25,
   "id": "f5736cb5",
   "metadata": {},
   "outputs": [
    {
     "data": {
      "text/plain": [
       "True"
      ]
     },
     "execution_count": 25,
     "metadata": {},
     "output_type": "execute_result"
    }
   ],
   "source": [
    "thi_sinh_hop_le.shape[0] == thi_sinh_thi_KHTN.shape[0] + thi_sinh_thi_KHXH.shape[0]"
   ]
  },
  {
   "cell_type": "code",
   "execution_count": null,
   "id": "5c095413",
   "metadata": {},
   "outputs": [],
   "source": []
  },
  {
   "cell_type": "code",
   "execution_count": 26,
   "id": "8adf8be7",
   "metadata": {},
   "outputs": [],
   "source": [
    "# tạo dataframe chứa tất cả các thí sinh không hợp lệ\n",
    "# ứng dụng xóa các hàng trùng lặp\n",
    "# df.drop_duplicates(keep=False):\n",
    "#thi_sinh_hop_le = pd.concat([thi_sinh_thi_KHTN,thi_sinh_thi_KHXH],ignore_index=True)\n",
    "join_data = pd.concat([thi_sinh_hop_le, all_data], ignore_index=True)"
   ]
  },
  {
   "cell_type": "code",
   "execution_count": 27,
   "id": "5c7f39c7",
   "metadata": {},
   "outputs": [],
   "source": [
    "# xóa các hàng trùng lặp sẽ có df thi_sinh_khong_hop_le\n",
    "thi_sinh_khong_hop_le = join_data.drop_duplicates(keep=False)"
   ]
  },
  {
   "cell_type": "code",
   "execution_count": 30,
   "id": "341f8536",
   "metadata": {},
   "outputs": [
    {
     "data": {
      "text/html": [
       "<div>\n",
       "<style scoped>\n",
       "    .dataframe tbody tr th:only-of-type {\n",
       "        vertical-align: middle;\n",
       "    }\n",
       "\n",
       "    .dataframe tbody tr th {\n",
       "        vertical-align: top;\n",
       "    }\n",
       "\n",
       "    .dataframe thead th {\n",
       "        text-align: right;\n",
       "    }\n",
       "</style>\n",
       "<table border=\"1\" class=\"dataframe\">\n",
       "  <thead>\n",
       "    <tr style=\"text-align: right;\">\n",
       "      <th></th>\n",
       "      <th>Số báo danh</th>\n",
       "      <th>Toán</th>\n",
       "      <th>Ngữ văn</th>\n",
       "      <th>Ngoại ngữ</th>\n",
       "      <th>Vật lý</th>\n",
       "      <th>Hóa học</th>\n",
       "      <th>Sinh học</th>\n",
       "      <th>Lịch sử</th>\n",
       "      <th>Địa lý</th>\n",
       "      <th>GDCD</th>\n",
       "    </tr>\n",
       "  </thead>\n",
       "  <tbody>\n",
       "    <tr>\n",
       "      <th>858744</th>\n",
       "      <td>1000009</td>\n",
       "      <td>2.6</td>\n",
       "      <td>5.25</td>\n",
       "      <td>-1.0</td>\n",
       "      <td>-1.0</td>\n",
       "      <td>-1.0</td>\n",
       "      <td>-1.0</td>\n",
       "      <td>5.25</td>\n",
       "      <td>6.75</td>\n",
       "      <td>-1.0</td>\n",
       "    </tr>\n",
       "    <tr>\n",
       "      <th>858747</th>\n",
       "      <td>1000012</td>\n",
       "      <td>6.4</td>\n",
       "      <td>7.50</td>\n",
       "      <td>-1.0</td>\n",
       "      <td>-1.0</td>\n",
       "      <td>-1.0</td>\n",
       "      <td>-1.0</td>\n",
       "      <td>4.75</td>\n",
       "      <td>5.00</td>\n",
       "      <td>8.0</td>\n",
       "    </tr>\n",
       "    <tr>\n",
       "      <th>858749</th>\n",
       "      <td>1000014</td>\n",
       "      <td>5.8</td>\n",
       "      <td>5.50</td>\n",
       "      <td>6.4</td>\n",
       "      <td>-1.0</td>\n",
       "      <td>-1.0</td>\n",
       "      <td>-1.0</td>\n",
       "      <td>8.50</td>\n",
       "      <td>8.00</td>\n",
       "      <td>-1.0</td>\n",
       "    </tr>\n",
       "    <tr>\n",
       "      <th>858754</th>\n",
       "      <td>1000019</td>\n",
       "      <td>6.8</td>\n",
       "      <td>7.50</td>\n",
       "      <td>-1.0</td>\n",
       "      <td>-1.0</td>\n",
       "      <td>-1.0</td>\n",
       "      <td>-1.0</td>\n",
       "      <td>7.25</td>\n",
       "      <td>6.25</td>\n",
       "      <td>8.0</td>\n",
       "    </tr>\n",
       "    <tr>\n",
       "      <th>858755</th>\n",
       "      <td>1000020</td>\n",
       "      <td>-1.0</td>\n",
       "      <td>6.75</td>\n",
       "      <td>-1.0</td>\n",
       "      <td>-1.0</td>\n",
       "      <td>-1.0</td>\n",
       "      <td>-1.0</td>\n",
       "      <td>8.50</td>\n",
       "      <td>8.00</td>\n",
       "      <td>-1.0</td>\n",
       "    </tr>\n",
       "  </tbody>\n",
       "</table>\n",
       "</div>"
      ],
      "text/plain": [
       "        Số báo danh  Toán  Ngữ văn  Ngoại ngữ  Vật lý  Hóa học  Sinh học  \\\n",
       "858744      1000009   2.6     5.25       -1.0    -1.0     -1.0      -1.0   \n",
       "858747      1000012   6.4     7.50       -1.0    -1.0     -1.0      -1.0   \n",
       "858749      1000014   5.8     5.50        6.4    -1.0     -1.0      -1.0   \n",
       "858754      1000019   6.8     7.50       -1.0    -1.0     -1.0      -1.0   \n",
       "858755      1000020  -1.0     6.75       -1.0    -1.0     -1.0      -1.0   \n",
       "\n",
       "        Lịch sử  Địa lý  GDCD  \n",
       "858744     5.25    6.75  -1.0  \n",
       "858747     4.75    5.00   8.0  \n",
       "858749     8.50    8.00  -1.0  \n",
       "858754     7.25    6.25   8.0  \n",
       "858755     8.50    8.00  -1.0  "
      ]
     },
     "execution_count": 30,
     "metadata": {},
     "output_type": "execute_result"
    }
   ],
   "source": [
    "thi_sinh_khong_hop_le.head()"
   ]
  },
  {
   "cell_type": "code",
   "execution_count": 31,
   "id": "6189b332",
   "metadata": {
    "scrolled": true
   },
   "outputs": [
    {
     "ename": "NameError",
     "evalue": "name 'so_thi_sinh_khong_hop_le' is not defined",
     "output_type": "error",
     "traceback": [
      "\u001b[1;31m---------------------------------------------------------------------------\u001b[0m",
      "\u001b[1;31mNameError\u001b[0m                                 Traceback (most recent call last)",
      "Input \u001b[1;32mIn [31]\u001b[0m, in \u001b[0;36m<module>\u001b[1;34m\u001b[0m\n\u001b[1;32m----> 1\u001b[0m thi_sinh_khong_hop_le\u001b[38;5;241m.\u001b[39mshape[\u001b[38;5;241m0\u001b[39m] \u001b[38;5;241m==\u001b[39m \u001b[43mso_thi_sinh_khong_hop_le\u001b[49m\n",
      "\u001b[1;31mNameError\u001b[0m: name 'so_thi_sinh_khong_hop_le' is not defined"
     ]
    }
   ],
   "source": [
    "# thi_sinh_khong_hop_le.shape[0] == so_thi_sinh_khong_hop_le"
   ]
  },
  {
   "cell_type": "code",
   "execution_count": 32,
   "id": "7cdcd737",
   "metadata": {},
   "outputs": [
    {
     "data": {
      "text/html": [
       "<div>\n",
       "<style scoped>\n",
       "    .dataframe tbody tr th:only-of-type {\n",
       "        vertical-align: middle;\n",
       "    }\n",
       "\n",
       "    .dataframe tbody tr th {\n",
       "        vertical-align: top;\n",
       "    }\n",
       "\n",
       "    .dataframe thead th {\n",
       "        text-align: right;\n",
       "    }\n",
       "</style>\n",
       "<table border=\"1\" class=\"dataframe\">\n",
       "  <thead>\n",
       "    <tr style=\"text-align: right;\">\n",
       "      <th></th>\n",
       "      <th>Số báo danh</th>\n",
       "      <th>Toán</th>\n",
       "      <th>Ngữ văn</th>\n",
       "      <th>Ngoại ngữ</th>\n",
       "      <th>Vật lý</th>\n",
       "      <th>Hóa học</th>\n",
       "      <th>Sinh học</th>\n",
       "      <th>Lịch sử</th>\n",
       "      <th>Địa lý</th>\n",
       "      <th>GDCD</th>\n",
       "    </tr>\n",
       "  </thead>\n",
       "  <tbody>\n",
       "    <tr>\n",
       "      <th>0</th>\n",
       "      <td>1000009</td>\n",
       "      <td>2.6</td>\n",
       "      <td>5.25</td>\n",
       "      <td>-1.0</td>\n",
       "      <td>-1.0</td>\n",
       "      <td>-1.0</td>\n",
       "      <td>-1.0</td>\n",
       "      <td>5.25</td>\n",
       "      <td>6.75</td>\n",
       "      <td>-1.0</td>\n",
       "    </tr>\n",
       "    <tr>\n",
       "      <th>1</th>\n",
       "      <td>1000012</td>\n",
       "      <td>6.4</td>\n",
       "      <td>7.50</td>\n",
       "      <td>-1.0</td>\n",
       "      <td>-1.0</td>\n",
       "      <td>-1.0</td>\n",
       "      <td>-1.0</td>\n",
       "      <td>4.75</td>\n",
       "      <td>5.00</td>\n",
       "      <td>8.0</td>\n",
       "    </tr>\n",
       "    <tr>\n",
       "      <th>2</th>\n",
       "      <td>1000014</td>\n",
       "      <td>5.8</td>\n",
       "      <td>5.50</td>\n",
       "      <td>6.4</td>\n",
       "      <td>-1.0</td>\n",
       "      <td>-1.0</td>\n",
       "      <td>-1.0</td>\n",
       "      <td>8.50</td>\n",
       "      <td>8.00</td>\n",
       "      <td>-1.0</td>\n",
       "    </tr>\n",
       "    <tr>\n",
       "      <th>3</th>\n",
       "      <td>1000019</td>\n",
       "      <td>6.8</td>\n",
       "      <td>7.50</td>\n",
       "      <td>-1.0</td>\n",
       "      <td>-1.0</td>\n",
       "      <td>-1.0</td>\n",
       "      <td>-1.0</td>\n",
       "      <td>7.25</td>\n",
       "      <td>6.25</td>\n",
       "      <td>8.0</td>\n",
       "    </tr>\n",
       "    <tr>\n",
       "      <th>4</th>\n",
       "      <td>1000020</td>\n",
       "      <td>-1.0</td>\n",
       "      <td>6.75</td>\n",
       "      <td>-1.0</td>\n",
       "      <td>-1.0</td>\n",
       "      <td>-1.0</td>\n",
       "      <td>-1.0</td>\n",
       "      <td>8.50</td>\n",
       "      <td>8.00</td>\n",
       "      <td>-1.0</td>\n",
       "    </tr>\n",
       "    <tr>\n",
       "      <th>...</th>\n",
       "      <td>...</td>\n",
       "      <td>...</td>\n",
       "      <td>...</td>\n",
       "      <td>...</td>\n",
       "      <td>...</td>\n",
       "      <td>...</td>\n",
       "      <td>...</td>\n",
       "      <td>...</td>\n",
       "      <td>...</td>\n",
       "      <td>...</td>\n",
       "    </tr>\n",
       "    <tr>\n",
       "      <th>136700</th>\n",
       "      <td>64006414</td>\n",
       "      <td>4.6</td>\n",
       "      <td>4.00</td>\n",
       "      <td>-1.0</td>\n",
       "      <td>-1.0</td>\n",
       "      <td>-1.0</td>\n",
       "      <td>-1.0</td>\n",
       "      <td>6.25</td>\n",
       "      <td>-1.00</td>\n",
       "      <td>-1.0</td>\n",
       "    </tr>\n",
       "    <tr>\n",
       "      <th>136701</th>\n",
       "      <td>64006424</td>\n",
       "      <td>8.2</td>\n",
       "      <td>6.50</td>\n",
       "      <td>-1.0</td>\n",
       "      <td>-1.0</td>\n",
       "      <td>-1.0</td>\n",
       "      <td>-1.0</td>\n",
       "      <td>7.75</td>\n",
       "      <td>-1.00</td>\n",
       "      <td>-1.0</td>\n",
       "    </tr>\n",
       "    <tr>\n",
       "      <th>136702</th>\n",
       "      <td>64006425</td>\n",
       "      <td>-1.0</td>\n",
       "      <td>3.25</td>\n",
       "      <td>-1.0</td>\n",
       "      <td>-1.0</td>\n",
       "      <td>-1.0</td>\n",
       "      <td>-1.0</td>\n",
       "      <td>5.25</td>\n",
       "      <td>6.75</td>\n",
       "      <td>-1.0</td>\n",
       "    </tr>\n",
       "    <tr>\n",
       "      <th>136703</th>\n",
       "      <td>64006430</td>\n",
       "      <td>-1.0</td>\n",
       "      <td>5.75</td>\n",
       "      <td>-1.0</td>\n",
       "      <td>-1.0</td>\n",
       "      <td>-1.0</td>\n",
       "      <td>-1.0</td>\n",
       "      <td>7.75</td>\n",
       "      <td>8.00</td>\n",
       "      <td>-1.0</td>\n",
       "    </tr>\n",
       "    <tr>\n",
       "      <th>136704</th>\n",
       "      <td>64006432</td>\n",
       "      <td>-1.0</td>\n",
       "      <td>3.25</td>\n",
       "      <td>-1.0</td>\n",
       "      <td>-1.0</td>\n",
       "      <td>-1.0</td>\n",
       "      <td>-1.0</td>\n",
       "      <td>4.00</td>\n",
       "      <td>6.75</td>\n",
       "      <td>-1.0</td>\n",
       "    </tr>\n",
       "  </tbody>\n",
       "</table>\n",
       "<p>136705 rows × 10 columns</p>\n",
       "</div>"
      ],
      "text/plain": [
       "        Số báo danh  Toán  Ngữ văn  Ngoại ngữ  Vật lý  Hóa học  Sinh học  \\\n",
       "0           1000009   2.6     5.25       -1.0    -1.0     -1.0      -1.0   \n",
       "1           1000012   6.4     7.50       -1.0    -1.0     -1.0      -1.0   \n",
       "2           1000014   5.8     5.50        6.4    -1.0     -1.0      -1.0   \n",
       "3           1000019   6.8     7.50       -1.0    -1.0     -1.0      -1.0   \n",
       "4           1000020  -1.0     6.75       -1.0    -1.0     -1.0      -1.0   \n",
       "...             ...   ...      ...        ...     ...      ...       ...   \n",
       "136700     64006414   4.6     4.00       -1.0    -1.0     -1.0      -1.0   \n",
       "136701     64006424   8.2     6.50       -1.0    -1.0     -1.0      -1.0   \n",
       "136702     64006425  -1.0     3.25       -1.0    -1.0     -1.0      -1.0   \n",
       "136703     64006430  -1.0     5.75       -1.0    -1.0     -1.0      -1.0   \n",
       "136704     64006432  -1.0     3.25       -1.0    -1.0     -1.0      -1.0   \n",
       "\n",
       "        Lịch sử  Địa lý  GDCD  \n",
       "0          5.25    6.75  -1.0  \n",
       "1          4.75    5.00   8.0  \n",
       "2          8.50    8.00  -1.0  \n",
       "3          7.25    6.25   8.0  \n",
       "4          8.50    8.00  -1.0  \n",
       "...         ...     ...   ...  \n",
       "136700     6.25   -1.00  -1.0  \n",
       "136701     7.75   -1.00  -1.0  \n",
       "136702     5.25    6.75  -1.0  \n",
       "136703     7.75    8.00  -1.0  \n",
       "136704     4.00    6.75  -1.0  \n",
       "\n",
       "[136705 rows x 10 columns]"
      ]
     },
     "execution_count": 32,
     "metadata": {},
     "output_type": "execute_result"
    }
   ],
   "source": [
    "thi_sinh_khong_hop_le.reset_index(drop=True)"
   ]
  },
  {
   "cell_type": "code",
   "execution_count": null,
   "id": "b32d9878",
   "metadata": {},
   "outputs": [],
   "source": []
  },
  {
   "cell_type": "code",
   "execution_count": 33,
   "id": "694ddd36",
   "metadata": {},
   "outputs": [
    {
     "data": {
      "text/plain": [
       "pandas.core.frame.DataFrame"
      ]
     },
     "execution_count": 33,
     "metadata": {},
     "output_type": "execute_result"
    }
   ],
   "source": [
    "type(thi_sinh_hop_le)"
   ]
  },
  {
   "cell_type": "code",
   "execution_count": 34,
   "id": "56b1560c",
   "metadata": {},
   "outputs": [],
   "source": [
    "so_thi_sinh_hop_le = thi_sinh_hop_le.shape[0]"
   ]
  },
  {
   "cell_type": "code",
   "execution_count": 35,
   "id": "b62d5e05",
   "metadata": {},
   "outputs": [],
   "source": [
    "so_thi_sinh_khong_hop_le = all_data.shape[0] - so_thi_sinh_hop_le"
   ]
  },
  {
   "cell_type": "code",
   "execution_count": 36,
   "id": "daa7d0e6",
   "metadata": {},
   "outputs": [
    {
     "name": "stdout",
     "output_type": "stream",
     "text": [
      "136705\n",
      "858736\n"
     ]
    }
   ],
   "source": [
    "print(so_thi_sinh_khong_hop_le)\n",
    "print(so_thi_sinh_hop_le)"
   ]
  },
  {
   "cell_type": "code",
   "execution_count": null,
   "id": "fbaba995",
   "metadata": {},
   "outputs": [],
   "source": []
  },
  {
   "cell_type": "markdown",
   "id": "8524428e",
   "metadata": {},
   "source": [
    "**CÓ trường hợp thí sinh nào thi nhiều hơn 6 môn không**"
   ]
  },
  {
   "cell_type": "code",
   "execution_count": 37,
   "id": "b3d41841",
   "metadata": {},
   "outputs": [],
   "source": [
    "test = all_data[(all_data[\"Toán\"] != -1) \n",
    "                            & (all_data[\"Ngữ văn\"] != -1)\n",
    "                            & (all_data[\"Ngoại ngữ\"] != -1)\n",
    "                            & (all_data[\"Lịch sử\"] != -1)\n",
    "                            & (all_data[\"Địa lý\"] != -1)\n",
    "                            & (all_data[\"GDCD\"] != -1)\n",
    "                            & (all_data[\"Vật lý\"] != -1)]"
   ]
  },
  {
   "cell_type": "code",
   "execution_count": 38,
   "id": "0f0869b7",
   "metadata": {
    "scrolled": false
   },
   "outputs": [
    {
     "data": {
      "text/html": [
       "<div>\n",
       "<style scoped>\n",
       "    .dataframe tbody tr th:only-of-type {\n",
       "        vertical-align: middle;\n",
       "    }\n",
       "\n",
       "    .dataframe tbody tr th {\n",
       "        vertical-align: top;\n",
       "    }\n",
       "\n",
       "    .dataframe thead th {\n",
       "        text-align: right;\n",
       "    }\n",
       "</style>\n",
       "<table border=\"1\" class=\"dataframe\">\n",
       "  <thead>\n",
       "    <tr style=\"text-align: right;\">\n",
       "      <th></th>\n",
       "      <th>Số báo danh</th>\n",
       "      <th>Toán</th>\n",
       "      <th>Ngữ văn</th>\n",
       "      <th>Ngoại ngữ</th>\n",
       "      <th>Vật lý</th>\n",
       "      <th>Hóa học</th>\n",
       "      <th>Sinh học</th>\n",
       "      <th>Lịch sử</th>\n",
       "      <th>Địa lý</th>\n",
       "      <th>GDCD</th>\n",
       "    </tr>\n",
       "  </thead>\n",
       "  <tbody>\n",
       "  </tbody>\n",
       "</table>\n",
       "</div>"
      ],
      "text/plain": [
       "Empty DataFrame\n",
       "Columns: [Số báo danh, Toán, Ngữ văn, Ngoại ngữ, Vật lý, Hóa học, Sinh học, Lịch sử, Địa lý, GDCD]\n",
       "Index: []"
      ]
     },
     "execution_count": 38,
     "metadata": {},
     "output_type": "execute_result"
    }
   ],
   "source": [
    "test"
   ]
  },
  {
   "cell_type": "markdown",
   "id": "49ebcc0c",
   "metadata": {},
   "source": [
    "**TÍnh số môn học sinh thi**"
   ]
  },
  {
   "cell_type": "code",
   "execution_count": 39,
   "id": "feae1822",
   "metadata": {
    "scrolled": false
   },
   "outputs": [
    {
     "name": "stdout",
     "output_type": "stream",
     "text": [
      "6\n",
      "6\n",
      "6\n",
      "6\n",
      "6\n",
      "[0, 0, 0, 0, 0, 0, 5, 0, 0, 0]\n"
     ]
    }
   ],
   "source": [
    "# xác định x là số giá trị -1 của các hàng\n",
    "# lấy 9 trừ đi x\n",
    "# từ 0 đến 9 môn\n",
    "so_mon_thi_sinh_thi = [0,0,0,0,0,0,0,0,0,0]\n",
    "for s in range(5):\n",
    "    #học sinh thứ s\n",
    "#     print(all_data.iloc[s,:])\n",
    "    #đếm số phần từ khác -1 sau đó +1 vào vị trí số phần tử khác -1\n",
    "    tong_so_mon_thi = 0\n",
    "    for i in range(1,10):\n",
    "        if all_data.iloc[s,:][i] != -1:\n",
    "            tong_so_mon_thi += 1\n",
    "#     so_mon_thi_sinh_thi[tong_so_mon_thi] = so_mon_thi_sinh_thi[tong_so_mon_thi] + 1\n",
    "    print(tong_so_mon_thi)\n",
    "    so_mon_thi_sinh_thi[tong_so_mon_thi] += 1\n",
    "#     print(tong_so_mon_thi)\n",
    "print(so_mon_thi_sinh_thi)\n",
    "        \n",
    "    "
   ]
  },
  {
   "cell_type": "code",
   "execution_count": null,
   "id": "00ce71da",
   "metadata": {},
   "outputs": [],
   "source": [
    "# xác định x là số giá trị -1 của các hàng\n",
    "# lấy 9 trừ đi x\n",
    "# từ 0 đến 9 môn\n",
    "so_mon_thi_sinh_thi = [0,0,0,0,0,0,0,0,0,0]\n",
    "for s in range(len(all_data)):\n",
    "    #học sinh thứ s\n",
    "#     print(all_data.iloc[s,:])\n",
    "    #đếm số phần từ khác -1 sau đó +1 vào vị trí số phần tử khác -1\n",
    "    tong_so_mon_thi = 0\n",
    "    for i in range(1,10):\n",
    "        if all_data.iloc[s,:][i] != -1:\n",
    "            tong_so_mon_thi += 1\n",
    "#     so_mon_thi_sinh_thi[tong_so_mon_thi] = so_mon_thi_sinh_thi[tong_so_mon_thi] + 1\n",
    "    so_mon_thi_sinh_thi[tong_so_mon_thi] += 1\n",
    "#     print(tong_so_mon_thi)\n",
    "print(so_mon_thi_sinh_thi)\n",
    "        "
   ]
  },
  {
   "cell_type": "code",
   "execution_count": null,
   "id": "0eb72c08",
   "metadata": {},
   "outputs": [],
   "source": [
    "sum(so_mon_thi_sinh_thi)"
   ]
  },
  {
   "cell_type": "code",
   "execution_count": null,
   "id": "832a25e0",
   "metadata": {},
   "outputs": [],
   "source": [
    "thi_sinh_khong_thi_mon_nao_ca =  all_data[(all_data[\"Toán\"] == -1) \n",
    "                                         & (all_data[\"Ngữ văn\"] == -1) \n",
    "                                         & (all_data[\"Ngoại ngữ\"] == -1) \n",
    "                                         & (all_data[\"Vật lý\"] == -1) \n",
    "                                         & (all_data[\"Hóa học\"] == -1) \n",
    "                                         & (all_data[\"Sinh học\"] == -1)\n",
    "                                         & (all_data[\"Lịch sử\"] == -1)\n",
    "                                         & (all_data[\"Địa lý\"] == -1)\n",
    "                                         & (all_data[\"GDCD\"] == -1)]"
   ]
  },
  {
   "cell_type": "code",
   "execution_count": null,
   "id": "eeeeb2dc",
   "metadata": {},
   "outputs": [],
   "source": [
    "thi_sinh_khong_thi_mon_nao_ca"
   ]
  },
  {
   "cell_type": "code",
   "execution_count": null,
   "id": "e12ea347",
   "metadata": {},
   "outputs": [],
   "source": [
    "path_csv = \"./data_ok/data_ok.csv\""
   ]
  },
  {
   "cell_type": "code",
   "execution_count": null,
   "id": "4b6aa153",
   "metadata": {
    "scrolled": true
   },
   "outputs": [],
   "source": [
    "all_data_csv = pd.read_csv(path_csv,index_col=0)"
   ]
  },
  {
   "cell_type": "code",
   "execution_count": null,
   "id": "e71c5621",
   "metadata": {
    "scrolled": true
   },
   "outputs": [],
   "source": [
    "all_data_csv"
   ]
  },
  {
   "cell_type": "markdown",
   "id": "cb2ae2ad",
   "metadata": {},
   "source": [
    "<center>\n",
    "<h1> Phân tích về phổ điểm tất cả các môn</h1>\n",
    "    </center>"
   ]
  },
  {
   "cell_type": "markdown",
   "id": "94662176",
   "metadata": {},
   "source": [
    "<center>\n",
    "    <h2>\n",
    "        Phổ điểm môn Toán\n",
    "    </h2>\n",
    "</center>"
   ]
  },
  {
   "cell_type": "code",
   "execution_count": null,
   "id": "1485233d",
   "metadata": {},
   "outputs": [],
   "source": [
    "# Phổ điểm môn toán\n",
    "diem_toan = all_data[[\"Toán\"]]"
   ]
  },
  {
   "cell_type": "code",
   "execution_count": null,
   "id": "ba282ff1",
   "metadata": {},
   "outputs": [],
   "source": [
    "diem_toan"
   ]
  },
  {
   "cell_type": "code",
   "execution_count": null,
   "id": "efcc2594",
   "metadata": {},
   "outputs": [],
   "source": [
    "so_luong_cac_dau_diem_toan = diem_toan.value_counts().sort_index()"
   ]
  },
  {
   "cell_type": "code",
   "execution_count": null,
   "id": "3f3d2f3e",
   "metadata": {
    "scrolled": false
   },
   "outputs": [],
   "source": [
    "print(so_luong_cac_dau_diem_toan)"
   ]
  },
  {
   "cell_type": "code",
   "execution_count": null,
   "id": "677e7d25",
   "metadata": {},
   "outputs": [],
   "source": [
    "so_luong_cac_dau_diem_toan.shape[0]"
   ]
  },
  {
   "cell_type": "code",
   "execution_count": null,
   "id": "7d9fa4af",
   "metadata": {},
   "outputs": [],
   "source": [
    "index_so_luong_cac_dau_diem_toan = so_luong_cac_dau_diem_toan.index"
   ]
  },
  {
   "cell_type": "code",
   "execution_count": null,
   "id": "97a9e9a2",
   "metadata": {
    "scrolled": true
   },
   "outputs": [],
   "source": [
    "index_so_luong_cac_dau_diem_toan.dtypes"
   ]
  },
  {
   "cell_type": "code",
   "execution_count": null,
   "id": "9f764230",
   "metadata": {},
   "outputs": [],
   "source": [
    "value_so_luong_cac_dau_diem_toan = so_luong_cac_dau_diem_toan.values"
   ]
  },
  {
   "cell_type": "code",
   "execution_count": null,
   "id": "dae133ed",
   "metadata": {},
   "outputs": [],
   "source": [
    "print(type(value_so_luong_cac_dau_diem_toan))\n",
    "print(len(value_so_luong_cac_dau_diem_toan))\n",
    "value_so_luong_cac_dau_diem_toan"
   ]
  },
  {
   "cell_type": "code",
   "execution_count": null,
   "id": "75b6cfdc",
   "metadata": {
    "scrolled": false
   },
   "outputs": [],
   "source": [
    "# type(index_so_luong_cac_dau_diem_toan)\n",
    "print(len(index_so_luong_cac_dau_diem_toan))\n",
    "# print(index_so_luong_cac_dau_diem_toan)\n",
    "# print(index_so_luong_cac_dau_diem_toan[2])\n",
    "# index_so_luong_cac_dau_diem_toan[2]\n",
    "# print(index_so_luong_cac_dau_diem_toan)\n",
    "list_dau_diem = [-1]\n",
    "for i in range(0,51):\n",
    "    list_dau_diem.append(round(i*0.2,2))\n",
    "print(list_dau_diem)"
   ]
  },
  {
   "cell_type": "code",
   "execution_count": null,
   "id": "ffd74b61",
   "metadata": {},
   "outputs": [],
   "source": []
  },
  {
   "cell_type": "code",
   "execution_count": null,
   "id": "d207e0cf",
   "metadata": {},
   "outputs": [],
   "source": []
  },
  {
   "cell_type": "code",
   "execution_count": null,
   "id": "dbd34992",
   "metadata": {},
   "outputs": [],
   "source": []
  },
  {
   "cell_type": "code",
   "execution_count": null,
   "id": "5fd1ead2",
   "metadata": {},
   "outputs": [],
   "source": [
    "a = [1,2,3]\n",
    "a.append(0)\n",
    "print(a)"
   ]
  },
  {
   "cell_type": "code",
   "execution_count": null,
   "id": "575bc917",
   "metadata": {},
   "outputs": [],
   "source": [
    "print(students)"
   ]
  },
  {
   "cell_type": "code",
   "execution_count": null,
   "id": "fa441de6",
   "metadata": {
    "scrolled": true
   },
   "outputs": [],
   "source": [
    "type(students)"
   ]
  },
  {
   "cell_type": "code",
   "execution_count": null,
   "id": "9112ff43",
   "metadata": {},
   "outputs": [],
   "source": []
  },
  {
   "cell_type": "code",
   "execution_count": null,
   "id": "50ed8553",
   "metadata": {},
   "outputs": [],
   "source": [
    "# tính số phần trăm học sinh:\n"
   ]
  },
  {
   "cell_type": "code",
   "execution_count": null,
   "id": "c6db5eeb",
   "metadata": {},
   "outputs": [],
   "source": []
  },
  {
   "cell_type": "code",
   "execution_count": null,
   "id": "4fd53ea4",
   "metadata": {},
   "outputs": [],
   "source": [
    "# function to add value labels\n",
    "def addlabels(x,y):\n",
    "    for i in range(len(x)):\n",
    "        plt.text(i, y[i], y[i], ha = 'center',rotation=\"vertical\", size = \"10\",weight=\"demi\")"
   ]
  },
  {
   "cell_type": "code",
   "execution_count": null,
   "id": "a4f5d01f",
   "metadata": {
    "scrolled": true
   },
   "outputs": [],
   "source": [
    "import matplotlib.pyplot as plt; plt.rcdefaults()\n",
    "import numpy as np\n",
    "import matplotlib.pyplot as plt\n",
    "plt.figure(figsize = (30,10))\n",
    "# objects = ('Python', 'C++', 'Java', 'Perl', 'Scala', 'Lisp')\n",
    "y_pos = np.arange(len(list_dau_diem))\n",
    "# performance = [10,8,6,4,2,1]\n",
    "\n",
    "plt.bar(y_pos, value_so_luong_cac_dau_diem_toan)\n",
    "plt.xticks(y_pos, list_dau_diem,fontsize=13, rotation=90)\n",
    "plt.yticks(fontsize=13)\n",
    "\n",
    "\n",
    "plt.xlabel('Thang điểm', fontsize=15)\n",
    "plt.ylabel('Số học sinh' ,fontsize=15)\n",
    "plt.title('Phổ điểm môn toán', fontsize=15)\n",
    "\n",
    "addlabels(list_dau_diem,value_so_luong_cac_dau_diem_toan)\n",
    "plt.savefig('Save_charts/Pho_diem_mon_toan.pdf',dpi=1500,format='pdf') #lưu file PDF\n",
    "plt.show()\n",
    "\n"
   ]
  },
  {
   "cell_type": "code",
   "execution_count": null,
   "id": "10b048b7",
   "metadata": {},
   "outputs": [],
   "source": []
  },
  {
   "cell_type": "markdown",
   "id": "497cbd8e",
   "metadata": {},
   "source": [
    "<center>\n",
    "    <h2>\n",
    "        Phổ điểm môn Ngoại ngữ\n",
    "    </h2>\n",
    "</center>"
   ]
  },
  {
   "cell_type": "code",
   "execution_count": null,
   "id": "0cd33eac",
   "metadata": {},
   "outputs": [],
   "source": [
    "# Phổ điểm môn Ngữ văn\n",
    "diem_mon_ngoai_ngu = all_data[[\"Ngoại ngữ\"]]"
   ]
  },
  {
   "cell_type": "code",
   "execution_count": null,
   "id": "72a8a840",
   "metadata": {
    "scrolled": true
   },
   "outputs": [],
   "source": [
    "so_luong_cac_dau_diem_ngoai_ngu = diem_mon_ngoai_ngu.value_counts().sort_index()\n",
    "print(so_luong_cac_dau_diem_ngoai_ngu)\n",
    "print(so_luong_cac_dau_diem_ngoai_ngu.shape[0])"
   ]
  },
  {
   "cell_type": "code",
   "execution_count": null,
   "id": "4905098d",
   "metadata": {},
   "outputs": [],
   "source": [
    "value_so_luong_cac_dau_diem_ngoai_ngu = so_luong_cac_dau_diem_ngoai_ngu.values"
   ]
  },
  {
   "cell_type": "code",
   "execution_count": null,
   "id": "65658d95",
   "metadata": {},
   "outputs": [],
   "source": [
    "#list các đầu điểm ngoại ngữ\n",
    "list_cac_dau_diem_ngoai_ngu = [-1, 0]\n",
    "for i in range(2,51):\n",
    "    list_cac_dau_diem_ngoai_ngu.append(round(i*0.2, 2))\n",
    "print(list_cac_dau_diem_ngoai_ngu)"
   ]
  },
  {
   "cell_type": "code",
   "execution_count": null,
   "id": "8a66cc3b",
   "metadata": {},
   "outputs": [],
   "source": [
    "import matplotlib.pyplot as plt; plt.rcdefaults()\n",
    "import numpy as np\n",
    "import matplotlib.pyplot as plt\n",
    "plt.figure(figsize = (30,10))\n",
    "y_pos = np.arange(len(list_cac_dau_diem_ngoai_ngu))\n",
    "\n",
    "plt.bar(y_pos, value_so_luong_cac_dau_diem_ngoai_ngu)\n",
    "plt.xticks(y_pos, list_cac_dau_diem_ngoai_ngu,fontsize=13, rotation=90)\n",
    "plt.yticks(fontsize=13)\n",
    "\n",
    "\n",
    "plt.xlabel('Thang điểm', fontsize=15)\n",
    "plt.ylabel('Số học sinh' ,fontsize=15)\n",
    "plt.title('Phổ điểm môn Ngoại ngữ', fontsize=15)\n",
    "\n",
    "addlabels(list_cac_dau_diem_ngoai_ngu,value_so_luong_cac_dau_diem_ngoai_ngu)\n",
    "plt.savefig('Save_charts/Pho_diem_mon_ngoai_ngu.pdf',dpi=1500,format='pdf') #lưu file PDF\n",
    "plt.show()\n",
    "\n"
   ]
  },
  {
   "cell_type": "code",
   "execution_count": null,
   "id": "1573d643",
   "metadata": {},
   "outputs": [],
   "source": []
  },
  {
   "cell_type": "code",
   "execution_count": null,
   "id": "f5a663ab",
   "metadata": {},
   "outputs": [],
   "source": []
  },
  {
   "cell_type": "markdown",
   "id": "d94bd267",
   "metadata": {},
   "source": [
    "<center>\n",
    "    <h1>\n",
    "        Phân tích về tỉ lệ bỏ thi\n",
    "    </h1>\n",
    "</center>"
   ]
  },
  {
   "cell_type": "markdown",
   "id": "0ecc6128",
   "metadata": {},
   "source": [
    "<center>\n",
    "<h3>\n",
    "    Thứ tự môn thi là Văn - Toán - Tổ hợp - Ngoại ngữ <br>\n",
    "    Thời gian thi lần lượt là sáng - chiều - sáng - chiều <br>\n",
    "    Có hay không việc số lượng thí sinh bỏ phụ thuộc vào điểm những bài thi đầu tiên\n",
    "</h3>\n",
    "</center>"
   ]
  },
  {
   "cell_type": "code",
   "execution_count": null,
   "id": "c2954b80",
   "metadata": {},
   "outputs": [],
   "source": [
    "so_luong_thi_sinh_bo_thi_mon_ngu_van = all_data[(all_data[\"Ngữ văn\"] == -1)]"
   ]
  },
  {
   "cell_type": "code",
   "execution_count": null,
   "id": "bcb88763",
   "metadata": {},
   "outputs": [],
   "source": [
    "so_luong_thi_sinh_bo_thi_mon_ngu_van.shape[0]"
   ]
  },
  {
   "cell_type": "code",
   "execution_count": null,
   "id": "ca04fe33",
   "metadata": {},
   "outputs": [],
   "source": [
    "so_luong_thi_sinh_bo_thi_mon_toan = all_data[(all_data[\"Toán\"] == -1)]"
   ]
  },
  {
   "cell_type": "code",
   "execution_count": null,
   "id": "13ff65a3",
   "metadata": {},
   "outputs": [],
   "source": [
    "so_luong_thi_sinh_bo_thi_mon_toan.shape[0]"
   ]
  },
  {
   "cell_type": "code",
   "execution_count": null,
   "id": "c3f7d63b",
   "metadata": {},
   "outputs": [],
   "source": [
    "so_luong_thi_sinh_bo_thi_mon_ngoai_ngu = all_data[(all_data[\"Ngoại ngữ\"] == -1)]"
   ]
  },
  {
   "cell_type": "markdown",
   "id": "dae603b2",
   "metadata": {},
   "source": []
  },
  {
   "cell_type": "code",
   "execution_count": null,
   "id": "1786c700",
   "metadata": {},
   "outputs": [],
   "source": [
    "so_luong_thi_sinh_bo_thi_mon_ngoai_ngu.shape[0]"
   ]
  },
  {
   "cell_type": "code",
   "execution_count": null,
   "id": "38102a7b",
   "metadata": {},
   "outputs": [],
   "source": [
    "so_luong_thi_sinh_chon_thi_khtn = all_data[(all_data[\"Vật lý\"] != -1) \n",
    "                            | (all_data[\"Sinh học\"] != -1)\n",
    "                            | (all_data[\"Hóa học\"] != -1)]"
   ]
  },
  {
   "cell_type": "code",
   "execution_count": null,
   "id": "55ae93b6",
   "metadata": {
    "scrolled": false
   },
   "outputs": [],
   "source": [
    "so_luong_thi_sinh_chon_thi_khtn.shape[0]"
   ]
  },
  {
   "cell_type": "code",
   "execution_count": null,
   "id": "48d9dcaf",
   "metadata": {},
   "outputs": [],
   "source": [
    "so_luong_thi_sinh_chon_thi_khtn"
   ]
  },
  {
   "cell_type": "code",
   "execution_count": null,
   "id": "44398c7f",
   "metadata": {},
   "outputs": [],
   "source": [
    "so_luong_thi_sinh_bo_thi_khtn = so_luong_thi_sinh_chon_thi_khtn[(so_luong_thi_sinh_chon_thi_khtn[\"Vật lý\"] == -1)\n",
    "                                                               | (so_luong_thi_sinh_chon_thi_khtn[\"Hóa học\"] == -1)\n",
    "                                                               | (so_luong_thi_sinh_chon_thi_khtn[\"Sinh học\"] == -1)]"
   ]
  },
  {
   "cell_type": "code",
   "execution_count": null,
   "id": "531cb1bb",
   "metadata": {},
   "outputs": [],
   "source": [
    "so_luong_thi_sinh_bo_thi_khtn.shape[0]"
   ]
  },
  {
   "cell_type": "code",
   "execution_count": null,
   "id": "f9bc6265",
   "metadata": {},
   "outputs": [],
   "source": [
    "so_luong_thi_sinh_chon_thi_khxh = all_data[(all_data[\"GDCD\"] != -1) \n",
    "                            | (all_data[\"Địa lý\"] != -1)\n",
    "                            | (all_data[\"Lịch sử\"] != -1)]"
   ]
  },
  {
   "cell_type": "code",
   "execution_count": null,
   "id": "f9629ece",
   "metadata": {},
   "outputs": [],
   "source": [
    "so_luong_thi_sinh_chon_thi_khxh.shape[0]"
   ]
  },
  {
   "cell_type": "code",
   "execution_count": null,
   "id": "e8993100",
   "metadata": {},
   "outputs": [],
   "source": [
    "so_luong_thi_sinh_bo_thi_khxh = so_luong_thi_sinh_chon_thi_khxh[(so_luong_thi_sinh_chon_thi_khxh[\"GDCD\"] == -1)\n",
    "                                                               | (so_luong_thi_sinh_chon_thi_khxh[\"Lịch sử\"] == -1)\n",
    "                                                               | (so_luong_thi_sinh_chon_thi_khxh[\"Địa lý\"] == -1)]"
   ]
  },
  {
   "cell_type": "code",
   "execution_count": null,
   "id": "277f7833",
   "metadata": {
    "scrolled": true
   },
   "outputs": [],
   "source": [
    "so_luong_thi_sinh_bo_thi_khxh.shape[0]"
   ]
  },
  {
   "cell_type": "code",
   "execution_count": null,
   "id": "5dac25aa",
   "metadata": {},
   "outputs": [],
   "source": []
  },
  {
   "cell_type": "code",
   "execution_count": null,
   "id": "889b9040",
   "metadata": {},
   "outputs": [],
   "source": []
  },
  {
   "cell_type": "code",
   "execution_count": null,
   "id": "807674bf",
   "metadata": {},
   "outputs": [],
   "source": [
    "nhung_thi_sinh_khong_xac_dinh_duoc_to_hop = all_data.shape[0] - so_luong_thi_sinh_chon_thi_khtn.shape[0] - so_luong_thi_sinh_chon_thi_khxh.shape[0]"
   ]
  },
  {
   "cell_type": "code",
   "execution_count": null,
   "id": "3658796f",
   "metadata": {
    "scrolled": true
   },
   "outputs": [],
   "source": [
    "nhung_thi_sinh_khong_xac_dinh_duoc_to_hop"
   ]
  },
  {
   "cell_type": "code",
   "execution_count": null,
   "id": "167a0d09",
   "metadata": {},
   "outputs": [],
   "source": [
    "tong_so_hoc_sinh_bo_thi_mon_to_hop = so_luong_thi_sinh_bo_thi_khxh.shape[0] + so_luong_thi_sinh_bo_thi_khtn.shape[0]\n",
    "print(tong_so_hoc_sinh_bo_thi_mon_to_hop)"
   ]
  },
  {
   "cell_type": "code",
   "execution_count": null,
   "id": "9217ea6d",
   "metadata": {},
   "outputs": [],
   "source": [
    "tong_so_hoc_sinh_co_to_hop_xac_dinh = all_data.shape[0] - nhung_thi_sinh_khong_xac_dinh_duoc_to_hop\n",
    "print(tong_so_hoc_sinh_co_to_hop_xac_dinh)"
   ]
  },
  {
   "cell_type": "code",
   "execution_count": null,
   "id": "1aa0dc0c",
   "metadata": {},
   "outputs": [],
   "source": [
    "#danh sách số học sinh bỏ thi theo thứ tự Văn-Toán-Tổ hợp-Ngoại ngữ\n",
    "danh_sach_so_hoc_sinh_bo_thi = [so_luong_thi_sinh_bo_thi_mon_van.shape[0],\n",
    "                               so_luong_thi_sinh_bo_thi_mon_toan.shape[0],\n",
    "                               tong_so_hoc_sinh_bo_thi_mon_to_hop,\n",
    "                               so_luong_thi_sinh_bo_thi_mon_ngoai_ngu.shape[0]]\n",
    "print(danh_sach_so_hoc_sinh_bo_thi)"
   ]
  },
  {
   "cell_type": "code",
   "execution_count": null,
   "id": "e7131900",
   "metadata": {},
   "outputs": [],
   "source": [
    "# danh sách tỉ lệ số học sinh bỏ thi theo thứ tự Văn-Toán-Tổ hợp-Ngoại ngữ\n",
    "danh_sach_ti_le_hoc_sinh_bo_thi = [round(100*so_luong_thi_sinh_bo_thi_mon_ngu_van.shape[0]/all_data.shape[0],2)\n",
    ",round(100*so_luong_thi_sinh_bo_thi_mon_toan.shape[0]/all_data.shape[0],2)\n",
    ",round(tong_so_hoc_sinh_bo_thi_mon_to_hop*100/tong_so_hoc_sinh_co_to_hop_xac_dinh,2)\n",
    ",round(100*so_luong_thi_sinh_bo_thi_mon_ngoai_ngu.shape[0]/all_data.shape[0],2)\n",
    "\n",
    "]\n",
    "print(danh_sach_ti_le_hoc_sinh_bo_thi)\n"
   ]
  },
  {
   "cell_type": "code",
   "execution_count": null,
   "id": "3c71de24",
   "metadata": {},
   "outputs": [],
   "source": [
    "# danh sách các môn thi\n",
    "danh_sach_cac_mon_thi = [\"Ngữ văn\", \"Toán\", \"Tổ hợp\", \"Ngoại ngữ\"]"
   ]
  },
  {
   "cell_type": "markdown",
   "id": "e40d5b29",
   "metadata": {},
   "source": [
    "<center>\n",
    "<h3>\n",
    "    Vẽ biểu đồ\n",
    "</h3>\n",
    "    </center>\n"
   ]
  },
  {
   "cell_type": "code",
   "execution_count": null,
   "id": "b97ba6e7",
   "metadata": {},
   "outputs": [],
   "source": [
    "# function to add value labels\n",
    "def addlabels_1(x,y):\n",
    "    for i in range(len(x)):\n",
    "        plt.text(i, y[i], y[i], ha = 'center', size = \"20\",weight=\"demi\")"
   ]
  },
  {
   "cell_type": "code",
   "execution_count": null,
   "id": "14e51579",
   "metadata": {
    "scrolled": false
   },
   "outputs": [],
   "source": [
    "import matplotlib.pyplot as plt; plt.rcdefaults()\n",
    "import numpy as np\n",
    "import matplotlib.pyplot as plt\n",
    "# fig, ax = plt.subplots()\n",
    "plt.figure(figsize = (30,10))\n",
    "y_pos = np.arange(4)\n",
    "\n",
    "\n",
    "\n",
    "plt.bar(y_pos, danh_sach_so_hoc_sinh_bo_thi, width=0.5)\n",
    "plt.xticks(y_pos, danh_sach_cac_mon_thi,fontsize=25)\n",
    "plt.yticks(fontsize=25)\n",
    "#Setup giới hạn cho trục Y:\n",
    "plt.ylim(0,130000)\n",
    "\n",
    "plt.xlabel('Môn thi', fontsize=30)\n",
    "plt.ylabel('Số học sinh' ,fontsize=30)\n",
    "plt.title('Số học sinh bỏ thi giữa các môn', fontsize=45)\n",
    "\n",
    "addlabels_1(danh_sach_cac_mon_thi,danh_sach_so_hoc_sinh_bo_thi)\n",
    "\n",
    "\n",
    "\n",
    "# plt.plot(y_pos, np.array(danh_sach_so_hoc_sinh_bo_thi),'r-*',linewidth=3.0, markersize = 20)\n",
    "\n",
    "\n",
    "\n",
    "# # Create a second y-axis\n",
    "# y2 = ax.twinx()\n",
    "# # Copy the y limits from the left axis\n",
    "# y2.set_ylim(ax.get_ylim())\n",
    "# # Set the right y-yick positions\n",
    "# y2.set_yticks([2, 6])\n",
    "# # Set the right y-tick labels\n",
    "# y2.set_yticklabels([\"A\", \"B\"])\n",
    "\n",
    "# # plt.subplots()\n",
    "# f = plt.figure()\n",
    "# ax = f.add_subplot(111)\n",
    "# ax.yaxis.tick_right()\n",
    "# plt.ylim(1,5)\n",
    "\n",
    "\n",
    "\n",
    "# plt.plot(danh_sach_ti_le_hoc_sinh_bo_thi,                 #Dữ liệu trục X\n",
    "#          y2,                 #Dữ liệu trục Y\n",
    "#          color='g',         #Màu của đường\n",
    "#          linestyle='-.',    #Kiểu đường\n",
    "#          linewidth=1.5,     #Độ rộng của đường line\n",
    "#          marker='D',        #Kiểu điểm\n",
    "#          markersize = 8)   #Kích thước điểm\n",
    "\n",
    "plt.grid(axis='y',\n",
    "         c='black',\n",
    "         ls='-.',\n",
    "         lw=1.0)\n",
    "# plt.bar(y_pos, danh_sach_so_hoc_sinh_bo_thi, width=0.5)\n",
    "# plt.savefig('Save_charts/Ti_le_bo_thi_giua_cac_mon.pdf',dpi=1500,format='pdf') #lưu file PDF\n",
    "plt.show()\n",
    "\n"
   ]
  },
  {
   "cell_type": "code",
   "execution_count": null,
   "id": "97c2da05",
   "metadata": {},
   "outputs": [],
   "source": [
    "# tỉ lệ bỏ thi giữa các môn"
   ]
  },
  {
   "cell_type": "code",
   "execution_count": null,
   "id": "42924508",
   "metadata": {},
   "outputs": [],
   "source": [
    "x = danh_sach_cac_mon_thi\n",
    "y = danh_sach_ti_le_hoc_sinh_bo_thi\n",
    "# print('Time:',x)\n",
    "# print('Values:',y)\n",
    "# plt.figure(figsize = (8,4)) #Thiết lập kích thước biểu đồ\n",
    "plt.figure(figsize = (16,4)) #Thiết lập kích thước biểu đồ\n",
    "\n",
    "plt.plot(x,                 #Dữ liệu trục X\n",
    "         y,                 #Dữ liệu trục Y\n",
    "         color='g',         #Màu của đường\n",
    "         linestyle='-',    #Kiểu đường\n",
    "         linewidth=1.5,     #Độ rộng của đường line\n",
    "         marker='D',        #Kiểu điểm\n",
    "         markersize = 8)   #Kích thước điểm\n",
    "\n",
    "#Tiêu đề của đồ thị\n",
    "plt.title('Biểu đồ tỉ lệ học sinh bỏ thi' ,fontsize=20)\n",
    "#Nhãn cho trục X\n",
    "# plt.xlabel('Thời gian')\n",
    "#Nhãn cho trục Y\n",
    "plt.ylabel('Tỉ lệ(%)', fontsize=15)\n",
    "plt.xlabel(\"Môn thi\", fontsize=20)\n",
    "#Setup giới hạn cho trục X:\n",
    "# plt.xlim(1989,2009)\n",
    "\n",
    "#Setup giới hạn cho trục Y:\n",
    "# plt.ylim(2.5,6)\n",
    "\n",
    "#Setup tick cho trục X:\n",
    "plt.xticks(x, fontsize=15)\n",
    "\n",
    "#Thiết lập lưới:\n",
    "plt.grid(axis='y',\n",
    "         c='black',\n",
    "         ls='-.',\n",
    "         lw=1.0)\n",
    "\n",
    "plt.show()\n",
    "\n"
   ]
  },
  {
   "cell_type": "code",
   "execution_count": null,
   "id": "062cc3cf",
   "metadata": {},
   "outputs": [],
   "source": []
  },
  {
   "cell_type": "code",
   "execution_count": null,
   "id": "8f2c9622",
   "metadata": {},
   "outputs": [],
   "source": []
  },
  {
   "cell_type": "code",
   "execution_count": null,
   "id": "017e7f12",
   "metadata": {},
   "outputs": [],
   "source": []
  },
  {
   "cell_type": "code",
   "execution_count": null,
   "id": "bdf0c4fa",
   "metadata": {},
   "outputs": [],
   "source": []
  },
  {
   "cell_type": "markdown",
   "id": "8045b355",
   "metadata": {},
   "source": [
    "<h4>\n",
    "    Có hay không việc thí sinh bỏ thi toán văn nhưng vẫn thi đủ 3 môn tự chọn\n",
    "</h4>"
   ]
  },
  {
   "cell_type": "code",
   "execution_count": null,
   "id": "0ac2f518",
   "metadata": {},
   "outputs": [],
   "source": [
    "test_1 = all_data[(all_data[\"Toán\"] == -1) \n",
    "                            & (all_data[\"Ngữ văn\"] == -1)\n",
    "                            & (all_data[\"Hóa học\"] != -1)\n",
    "                            & (all_data[\"Vật lý\"] != -1)\n",
    "                            & (all_data[\"Sinh học\"] != -1)]"
   ]
  },
  {
   "cell_type": "code",
   "execution_count": null,
   "id": "2f4b6f4f",
   "metadata": {},
   "outputs": [],
   "source": [
    "test_1"
   ]
  },
  {
   "cell_type": "code",
   "execution_count": null,
   "id": "d4f8c716",
   "metadata": {},
   "outputs": [],
   "source": []
  },
  {
   "cell_type": "code",
   "execution_count": null,
   "id": "c853bddf",
   "metadata": {},
   "outputs": [],
   "source": []
  },
  {
   "cell_type": "markdown",
   "id": "a0f74c8a",
   "metadata": {},
   "source": [
    "<center>\n",
    "    <h1>\n",
    "        Phân tích về tỉ lệ số lượng môn học sinh thi\n",
    "    </h1>\n",
    "</center>"
   ]
  },
  {
   "cell_type": "code",
   "execution_count": null,
   "id": "240f032d",
   "metadata": {},
   "outputs": [],
   "source": [
    "Thí sinh chon thi tổ hợp nào\n",
    "\n",
    "Tổ hợp nào có tỉ lệ thí sinh bỏ thi nhiều nhất\n",
    "\n"
   ]
  },
  {
   "cell_type": "code",
   "execution_count": null,
   "id": "be11be37",
   "metadata": {},
   "outputs": [],
   "source": [
    "thi_sinh_hop_le"
   ]
  },
  {
   "cell_type": "code",
   "execution_count": null,
   "id": "ddd61ccc",
   "metadata": {},
   "outputs": [],
   "source": [
    "#THí sinh hợp lệ\n",
    "thi_sinh_hop_le\n",
    "thi_sinh_khong_hop_le\n",
    "\n",
    "plt.figure(figsize = (12,8))\n",
    "#Làm nổi bật một phần:\n",
    "e = [0,0.05]\n",
    "plt.pie([thi_sinh_hop_le.shape[0],thi_sinh_khong_hop_le.shape[0]], \n",
    "        labels=[\"Thí sinh hợp lệ\", \"Thí sinh không hợp lệ\"],\n",
    "        autopct='%.2f %%', \n",
    "        pctdistance=0.8,\n",
    "        startangle=90,\n",
    "        labeldistance=1.05,\n",
    "        textprops={'color':'w','fontweight':'bold'},\n",
    "        rotatelabels=True,\n",
    "        wedgeprops=dict(edgecolor='w'),#Đường viền màu trắng\n",
    "        explode=e)#Làm nổi bật một phần\n",
    "\n",
    "plt.title('Tỷ lệ thí sinh hợp lệ', fontdict={'fontname':'Tahoma',\n",
    "                                                    'fontweight':'bold',\n",
    "                                                   'fontsize':18})\n",
    "plt.legend(ncol=2, loc='center')\n",
    "plt.show()\n"
   ]
  },
  {
   "cell_type": "code",
   "execution_count": null,
   "id": "fda6e63a",
   "metadata": {},
   "outputs": [],
   "source": [
    "a  = [thi_sinh_hop_le.shape[0],thi_sinh_khong_hop_le.shape[0]]\n",
    "print(a)\n",
    "labels=[\"Thí sinh hợp lệ\", \"Thí sinh không hợp lệ\"]"
   ]
  },
  {
   "cell_type": "code",
   "execution_count": null,
   "id": "119e3a35",
   "metadata": {},
   "outputs": [],
   "source": [
    "# function to add value labels\n",
    "def addlabels_2(x,y):\n",
    "    for i in range(len(x)):\n",
    "        plt.text(i, y[i], y[i], ha = 'center', size = \"15\",weight=\"demi\")\n",
    "\n",
    "\n",
    "\n",
    "plt.figure(figsize = (12,5)) #Thiết lập kích thước biểu đồ\n",
    "\n",
    "#Vẽ biểu đồ cột:\n",
    "plt.bar(labels,         #Nhãn của trục X\n",
    "        a,        #Giá trị tương ứng với nhãn\n",
    "        color='green', #Màu của thanh\n",
    "     #Giá trị bắt đầu của trục Y\n",
    "        width = 0.5)   #Chiều rộng của thanh\n",
    "\n",
    "\n",
    "addlabels_2(labels,a)\n",
    "#Tiêu đề của đồ thị\n",
    "plt.title('BIỂU ĐỒ THỂ HIỆN SỐ HỌC SINH HỢP LỆ')\n",
    "plt.ylabel('Số học sinh')\n",
    "plt.grid(ls='--')\n",
    "\n",
    "plt.show()"
   ]
  },
  {
   "cell_type": "code",
   "execution_count": null,
   "id": "6834ad1c",
   "metadata": {},
   "outputs": [],
   "source": []
  },
  {
   "cell_type": "code",
   "execution_count": null,
   "id": "b03dd9ad",
   "metadata": {},
   "outputs": [],
   "source": [
    "# Thí sinh thi KHTN or KHXH or Không rõ "
   ]
  },
  {
   "cell_type": "code",
   "execution_count": null,
   "id": "e5ee37a4",
   "metadata": {},
   "outputs": [],
   "source": [
    "print(thi_sinh_thi_KHTN.shape[0])\n",
    "\n",
    "print(thi_sinh_thi_KHXH.shape[0])\n",
    "\n",
    "print("
   ]
  },
  {
   "cell_type": "code",
   "execution_count": null,
   "id": "2ccb4457",
   "metadata": {},
   "outputs": [],
   "source": [
    "print(so_luong_thi_sinh_chon_thi_khtn.shape[0])\n",
    "\n",
    "print(so_luong_thi_sinh_chon_thi_khxh.shape[0])\n",
    "\n",
    "print(nhung_thi_sinh_khong_xac_dinh_duoc_to_hop)"
   ]
  },
  {
   "cell_type": "code",
   "execution_count": null,
   "id": "d006b25e",
   "metadata": {},
   "outputs": [],
   "source": [
    "danh_sach_to_hop = [so_luong_thi_sinh_chon_thi_khtn.shape[0],so_luong_thi_sinh_chon_thi_khxh.shape[0],nhung_thi_sinh_khong_xac_dinh_duoc_to_hop]\n",
    "danh_sach_ten_to_hop = [\"Khoa học tự nhiên\",\"Khoa học xã hội\",\"Không xác định\"]"
   ]
  },
  {
   "cell_type": "code",
   "execution_count": null,
   "id": "5021776f",
   "metadata": {},
   "outputs": [],
   "source": [
    "plt.figure(figsize = (12,8))\n",
    "#Làm nổi bật một phần:\n",
    "e = [0,0,0.05]\n",
    "plt.pie(danh_sach_to_hop, \n",
    "        labels=danh_sach_ten_to_hop,\n",
    "        autopct='%.2f %%', \n",
    "        pctdistance=0.8,\n",
    "        startangle=90,\n",
    "        labeldistance=1.05,\n",
    "        textprops={'color':'w','fontweight':'bold'},\n",
    "        rotatelabels=True,\n",
    "        wedgeprops=dict(edgecolor='w'),#Đường viền màu trắng\n",
    "        explode=e)#Làm nổi bật một phần\n",
    "\n",
    "plt.title('Tỷ lệ chọn tổ hợp thi', fontdict={'fontname':'Tahoma',\n",
    "                                                    'fontweight':'bold',\n",
    "                                                   'fontsize':18})\n",
    "plt.legend(ncol=2, loc='center')\n",
    "plt.show()"
   ]
  },
  {
   "cell_type": "code",
   "execution_count": null,
   "id": "40c56d54",
   "metadata": {},
   "outputs": [],
   "source": [
    "def addlabels_3(x,y):\n",
    "    for i in range(len(x)):\n",
    "        plt.text(i, y[i], y[i], ha = 'center', size = \"15\",weight=\"demi\")\n",
    "\n",
    "\n",
    "\n",
    "\n",
    "\n",
    "plt.figure(figsize = (12,5)) #Thiết lập kích thước biểu đồ\n",
    "\n",
    "#Vẽ biểu đồ cột:\n",
    "plt.bar(danh_sach_ten_to_hop,         #Nhãn của trục X\n",
    "        danh_sach_to_hop,        #Giá trị tương ứng với nhãn\n",
    "        color='green', #Màu của thanh\n",
    "        bottom=3,      #Giá trị bắt đầu của trục Y\n",
    "        width = 0.5)   #Chiều rộng của thanh\n",
    "\n",
    "#Tiêu đề của đồ thị\n",
    "plt.title('BIỂU ĐỒ THỂ HIỆN NHÓM TỔ HỢP')\n",
    "plt.ylabel('Số học sinh')\n",
    "plt.grid(ls='--')\n",
    "\n",
    "\n",
    "addlabels_3(danh_sach_ten_to_hop,danh_sach_to_hop)\n",
    "plt.show()"
   ]
  },
  {
   "cell_type": "code",
   "execution_count": null,
   "id": "7870a53e",
   "metadata": {},
   "outputs": [],
   "source": []
  },
  {
   "cell_type": "markdown",
   "id": "14a7df76",
   "metadata": {},
   "source": [
    "<center>\n",
    "    <h1>\n",
    "        Số môn thi \n",
    "    </h1>\n",
    "</center>"
   ]
  },
  {
   "cell_type": "code",
   "execution_count": null,
   "id": "c2a0e21e",
   "metadata": {},
   "outputs": [],
   "source": [
    "so_mon_thi_sinh_thi"
   ]
  },
  {
   "cell_type": "code",
   "execution_count": null,
   "id": "37ec5994",
   "metadata": {},
   "outputs": [],
   "source": [
    "list_so_luong = [\"0 môn\",\"1 môn\",\"2 môn\",\"3 môn\",\"4 môn\",\"5 môn\",\"6 môn\",\"7 môn\",\"8 môn\",\"9 môn\"]"
   ]
  },
  {
   "cell_type": "code",
   "execution_count": null,
   "id": "64d6f165",
   "metadata": {},
   "outputs": [],
   "source": [
    "plt.figure(figsize = (12,8))\n",
    "#Làm nổi bật một phần:\n",
    "e = [0,0,0,0,0,0,0,0.05,0,0]\n",
    "plt.pie(so_mon_thi_sinh_thi, \n",
    "        labels=list_so_luong,\n",
    "        autopct='%.2f %%', \n",
    "        pctdistance=0.8,\n",
    "        startangle=90,\n",
    "        labeldistance=1.05,\n",
    "        textprops={'color':'w','fontweight':'bold'},\n",
    "        rotatelabels=True,\n",
    "        wedgeprops=dict(edgecolor='w'),#Đường viền màu trắng\n",
    "        explode=e)#Làm nổi bật một phần\n",
    "\n",
    "plt.title('Tỷ lệ chọn tổ hợp thi', fontdict={'fontname':'Tahoma',\n",
    "                                                    'fontweight':'bold',\n",
    "                                                   'fontsize':18})\n",
    "plt.legend(ncol=2, loc='center')\n",
    "plt.show()"
   ]
  },
  {
   "cell_type": "code",
   "execution_count": null,
   "id": "2c2d3fdb",
   "metadata": {},
   "outputs": [],
   "source": [
    "def addlabels_4(x,y):\n",
    "    for i in range(len(x)):\n",
    "        plt.text(i, y[i], y[i], ha = 'center', size = \"15\",weight=\"demi\")\n",
    "\n",
    "\n",
    "\n",
    "\n",
    "\n",
    "plt.figure(figsize = (12,5)) #Thiết lập kích thước biểu đồ\n",
    "\n",
    "#Vẽ biểu đồ cột:\n",
    "plt.bar(danh_sach_ten_to_hop,         #Nhãn của trục X\n",
    "        danh_sach_to_hop,        #Giá trị tương ứng với nhãn\n",
    "        color='green', #Màu của thanh\n",
    "        bottom=3,      #Giá trị bắt đầu của trục Y\n",
    "        width = 0.5)   #Chiều rộng của thanh\n",
    "\n",
    "#Tiêu đề của đồ thị\n",
    "plt.title('BIỂU ĐỒ THỂ HIỆN NHÓM TỔ HỢP')\n",
    "plt.ylabel('Số học sinh')\n",
    "plt.grid(ls='--')\n",
    "\n",
    "\n",
    "addlabels_4(danh_sach_ten_to_hop,danh_sach_to_hop)\n",
    "plt.show()"
   ]
  },
  {
   "cell_type": "code",
   "execution_count": null,
   "id": "17b9d62e",
   "metadata": {},
   "outputs": [],
   "source": []
  },
  {
   "cell_type": "markdown",
   "id": "438a7637",
   "metadata": {},
   "source": [
    "<center>\n",
    "    <h1>\n",
    "        Tìm thủ khoa khối a1\n",
    "    </h1>\n",
    "</center>"
   ]
  },
  {
   "cell_type": "code",
   "execution_count": null,
   "id": "34c66fd2",
   "metadata": {},
   "outputs": [],
   "source": [
    "#Chỉ lấy điểm Khối A1\n",
    "df_A1 = all_data[['Số báo danh','Toán','Vật lý','Hóa học']]\n",
    "#Xóa toàn bộ các hàng chứa missing data: axis=0 -> xóa hàng | how = any (all) chỉ cần hàng có feature chứa missing\n",
    "data_A1 = df_A1.dropna(axis=0,how='any')\n",
    "data_A1.reset_index(drop=True, inplace=True)\n",
    "data_A1"
   ]
  },
  {
   "cell_type": "code",
   "execution_count": null,
   "id": "456c3eed",
   "metadata": {},
   "outputs": [],
   "source": [
    "def point(point1,point2,point3):\n",
    "    return round(point1+point2+point3,2)"
   ]
  },
  {
   "cell_type": "code",
   "execution_count": null,
   "id": "e24691a0",
   "metadata": {},
   "outputs": [],
   "source": [
    "data_A1['Total_score'] = data_A1.apply(lambda row: point(row['Toán'],\n",
    "                                              row['Vật lý'],\n",
    "                                            row['Hóa học']), \n",
    "                       axis=1)\n",
    "data_A1\n"
   ]
  },
  {
   "cell_type": "code",
   "execution_count": null,
   "id": "32f0c4e6",
   "metadata": {},
   "outputs": [],
   "source": [
    "A1_max = data_A1['Total_score'].max()\n",
    "A1_max"
   ]
  },
  {
   "cell_type": "code",
   "execution_count": null,
   "id": "f564063d",
   "metadata": {},
   "outputs": [],
   "source": [
    "A1_max.tail(1)"
   ]
  },
  {
   "cell_type": "markdown",
   "id": "d08cd1f8",
   "metadata": {},
   "source": [
    "<center>\n",
    "    <h1>\n",
    "        lấy điểm những thí sinh điểm cao\n",
    "    </h1>\n",
    "</center>"
   ]
  },
  {
   "cell_type": "code",
   "execution_count": null,
   "id": "c0d8377a",
   "metadata": {},
   "outputs": [],
   "source": [
    "#Lấy tất cả học sinh điểm văn trên 9\n",
    "data_van = all_data[['Số báo danh','Ngữ văn']]\n",
    "data_van_tren_9 = data_van[data_van['Ngữ văn']>9]\n",
    "data_van_tren_9.reset_index(drop=True, inplace=True)\n",
    "data_van_tren_9"
   ]
  },
  {
   "cell_type": "code",
   "execution_count": null,
   "id": "d9db847e",
   "metadata": {},
   "outputs": [],
   "source": [
    "#Lấy tất cả học sinh điểm toán bằng 10\n",
    "data_toan= all_data[['Số báo danh','Toán']]\n",
    "data_toan_10 = data_toan[data_toan['Toán']==10]\n",
    "data_toan_10.reset_index(drop=True, inplace=True)\n",
    "data_toan_10"
   ]
  },
  {
   "cell_type": "code",
   "execution_count": null,
   "id": "9ca75bad",
   "metadata": {},
   "outputs": [],
   "source": [
    "#Lọc lấy tất cả các học sinh tiếng anh 10đ\n",
    "data_Eng = all_data[['Số báo danh','Ngoại ngữ']]\n",
    "df_Eng_10 = data_Eng[data_Eng['Ngoại ngữ']==10]\n",
    "df_Eng_10.reset_index(drop=True, inplace=True)\n",
    "df_Eng_10"
   ]
  },
  {
   "cell_type": "markdown",
   "id": "cebe668a",
   "metadata": {},
   "source": [
    "<center>\n",
    "    <h1>\n",
    "        những thí sinh trượt tốt nghiệp\n",
    "    </h1>\n",
    "</center>"
   ]
  },
  {
   "cell_type": "code",
   "execution_count": null,
   "id": "13d8ccd0",
   "metadata": {},
   "outputs": [],
   "source": [
    "#số lượng trượt tốt nghiệp\n",
    "df_truot_tn = all_data[(all_data['Ngữ văn']<1.25) \n",
    "                         | (all_data['Toán']<1.25) \n",
    "                         | (all_data['Ngoại ngữ']<1.25) \n",
    "                         | (all_data['Vật lý']<1.25) \n",
    "                         | (all_data['Hóa học']<1.25) \n",
    "                         | (all_data['Sinh học']<1.25)\n",
    "                         | (all_data['Lịch sử']<1.25)\n",
    "                         | (all_data['Địa lý']<1.25)\n",
    "                         | (all_data['GDCD']<1.25)]\n",
    "df_truot_tn.reset_index(drop=True, inplace=True)\n",
    "\n",
    "df_truot_tn"
   ]
  }
 ],
 "metadata": {
  "kernelspec": {
   "display_name": "Python 3 (ipykernel)",
   "language": "python",
   "name": "python3"
  },
  "language_info": {
   "codemirror_mode": {
    "name": "ipython",
    "version": 3
   },
   "file_extension": ".py",
   "mimetype": "text/x-python",
   "name": "python",
   "nbconvert_exporter": "python",
   "pygments_lexer": "ipython3",
   "version": "3.10.2"
  }
 },
 "nbformat": 4,
 "nbformat_minor": 5
}
