{
 "cells": [
  {
   "cell_type": "code",
   "execution_count": 1,
   "id": "f7bcf7b0",
   "metadata": {},
   "outputs": [],
   "source": [
    "import pandas as pd\n",
    "import numpy as np\n",
    "import matplotlib.pyplot as plt"
   ]
  },
  {
   "cell_type": "code",
   "execution_count": 2,
   "id": "1ad1d49a",
   "metadata": {},
   "outputs": [],
   "source": [
    "path = \"./data_ok/all_data_ok.xlsx\""
   ]
  },
  {
   "cell_type": "markdown",
   "id": "242e5f93",
   "metadata": {},
   "source": [
    "**Không có index_col**"
   ]
  },
  {
   "cell_type": "code",
   "execution_count": 3,
   "id": "089fbf81",
   "metadata": {},
   "outputs": [],
   "source": [
    "all_data_1 = pd.read_excel(path)"
   ]
  },
  {
   "cell_type": "code",
   "execution_count": 4,
   "id": "d389f4c7",
   "metadata": {},
   "outputs": [
    {
     "data": {
      "text/html": [
       "<div>\n",
       "<style scoped>\n",
       "    .dataframe tbody tr th:only-of-type {\n",
       "        vertical-align: middle;\n",
       "    }\n",
       "\n",
       "    .dataframe tbody tr th {\n",
       "        vertical-align: top;\n",
       "    }\n",
       "\n",
       "    .dataframe thead th {\n",
       "        text-align: right;\n",
       "    }\n",
       "</style>\n",
       "<table border=\"1\" class=\"dataframe\">\n",
       "  <thead>\n",
       "    <tr style=\"text-align: right;\">\n",
       "      <th></th>\n",
       "      <th>Unnamed: 0</th>\n",
       "      <th>Số báo danh</th>\n",
       "      <th>Toán</th>\n",
       "      <th>Ngữ văn</th>\n",
       "      <th>Ngoại ngữ</th>\n",
       "      <th>Vật lý</th>\n",
       "      <th>Hóa học</th>\n",
       "      <th>Sinh học</th>\n",
       "      <th>Lịch sử</th>\n",
       "      <th>Địa lý</th>\n",
       "      <th>GDCD</th>\n",
       "    </tr>\n",
       "  </thead>\n",
       "  <tbody>\n",
       "    <tr>\n",
       "      <th>0</th>\n",
       "      <td>0</td>\n",
       "      <td>1000001</td>\n",
       "      <td>3.6</td>\n",
       "      <td>5.00</td>\n",
       "      <td>4.0</td>\n",
       "      <td>NaN</td>\n",
       "      <td>NaN</td>\n",
       "      <td>NaN</td>\n",
       "      <td>2.75</td>\n",
       "      <td>6.00</td>\n",
       "      <td>8.75</td>\n",
       "    </tr>\n",
       "    <tr>\n",
       "      <th>1</th>\n",
       "      <td>1</td>\n",
       "      <td>1000002</td>\n",
       "      <td>8.4</td>\n",
       "      <td>6.75</td>\n",
       "      <td>7.6</td>\n",
       "      <td>NaN</td>\n",
       "      <td>NaN</td>\n",
       "      <td>NaN</td>\n",
       "      <td>8.50</td>\n",
       "      <td>7.50</td>\n",
       "      <td>8.25</td>\n",
       "    </tr>\n",
       "    <tr>\n",
       "      <th>2</th>\n",
       "      <td>2</td>\n",
       "      <td>1000003</td>\n",
       "      <td>5.8</td>\n",
       "      <td>7.50</td>\n",
       "      <td>5.0</td>\n",
       "      <td>NaN</td>\n",
       "      <td>NaN</td>\n",
       "      <td>NaN</td>\n",
       "      <td>7.25</td>\n",
       "      <td>5.50</td>\n",
       "      <td>8.75</td>\n",
       "    </tr>\n",
       "    <tr>\n",
       "      <th>3</th>\n",
       "      <td>3</td>\n",
       "      <td>1000004</td>\n",
       "      <td>7.4</td>\n",
       "      <td>7.50</td>\n",
       "      <td>8.6</td>\n",
       "      <td>NaN</td>\n",
       "      <td>NaN</td>\n",
       "      <td>NaN</td>\n",
       "      <td>7.50</td>\n",
       "      <td>6.50</td>\n",
       "      <td>7.50</td>\n",
       "    </tr>\n",
       "    <tr>\n",
       "      <th>4</th>\n",
       "      <td>4</td>\n",
       "      <td>1000005</td>\n",
       "      <td>7.2</td>\n",
       "      <td>8.50</td>\n",
       "      <td>9.0</td>\n",
       "      <td>NaN</td>\n",
       "      <td>NaN</td>\n",
       "      <td>NaN</td>\n",
       "      <td>8.00</td>\n",
       "      <td>8.50</td>\n",
       "      <td>8.25</td>\n",
       "    </tr>\n",
       "    <tr>\n",
       "      <th>...</th>\n",
       "      <td>...</td>\n",
       "      <td>...</td>\n",
       "      <td>...</td>\n",
       "      <td>...</td>\n",
       "      <td>...</td>\n",
       "      <td>...</td>\n",
       "      <td>...</td>\n",
       "      <td>...</td>\n",
       "      <td>...</td>\n",
       "      <td>...</td>\n",
       "      <td>...</td>\n",
       "    </tr>\n",
       "    <tr>\n",
       "      <th>995436</th>\n",
       "      <td>995436</td>\n",
       "      <td>64006584</td>\n",
       "      <td>8.4</td>\n",
       "      <td>6.75</td>\n",
       "      <td>4.6</td>\n",
       "      <td>NaN</td>\n",
       "      <td>NaN</td>\n",
       "      <td>NaN</td>\n",
       "      <td>6.50</td>\n",
       "      <td>6.75</td>\n",
       "      <td>9.00</td>\n",
       "    </tr>\n",
       "    <tr>\n",
       "      <th>995437</th>\n",
       "      <td>995437</td>\n",
       "      <td>64006585</td>\n",
       "      <td>5.6</td>\n",
       "      <td>6.50</td>\n",
       "      <td>2.8</td>\n",
       "      <td>NaN</td>\n",
       "      <td>NaN</td>\n",
       "      <td>NaN</td>\n",
       "      <td>6.25</td>\n",
       "      <td>6.75</td>\n",
       "      <td>8.50</td>\n",
       "    </tr>\n",
       "    <tr>\n",
       "      <th>995438</th>\n",
       "      <td>995438</td>\n",
       "      <td>64006586</td>\n",
       "      <td>5.8</td>\n",
       "      <td>6.00</td>\n",
       "      <td>6.6</td>\n",
       "      <td>NaN</td>\n",
       "      <td>NaN</td>\n",
       "      <td>NaN</td>\n",
       "      <td>7.25</td>\n",
       "      <td>8.00</td>\n",
       "      <td>8.00</td>\n",
       "    </tr>\n",
       "    <tr>\n",
       "      <th>995439</th>\n",
       "      <td>995439</td>\n",
       "      <td>64006587</td>\n",
       "      <td>7.6</td>\n",
       "      <td>6.75</td>\n",
       "      <td>7.0</td>\n",
       "      <td>NaN</td>\n",
       "      <td>NaN</td>\n",
       "      <td>NaN</td>\n",
       "      <td>8.75</td>\n",
       "      <td>7.25</td>\n",
       "      <td>9.75</td>\n",
       "    </tr>\n",
       "    <tr>\n",
       "      <th>995440</th>\n",
       "      <td>995440</td>\n",
       "      <td>64006588</td>\n",
       "      <td>6.6</td>\n",
       "      <td>4.50</td>\n",
       "      <td>3.2</td>\n",
       "      <td>NaN</td>\n",
       "      <td>NaN</td>\n",
       "      <td>NaN</td>\n",
       "      <td>3.00</td>\n",
       "      <td>6.00</td>\n",
       "      <td>7.50</td>\n",
       "    </tr>\n",
       "  </tbody>\n",
       "</table>\n",
       "<p>995441 rows × 11 columns</p>\n",
       "</div>"
      ],
      "text/plain": [
       "        Unnamed: 0  Số báo danh  Toán  Ngữ văn  Ngoại ngữ  Vật lý  Hóa học  \\\n",
       "0                0      1000001   3.6     5.00        4.0     NaN      NaN   \n",
       "1                1      1000002   8.4     6.75        7.6     NaN      NaN   \n",
       "2                2      1000003   5.8     7.50        5.0     NaN      NaN   \n",
       "3                3      1000004   7.4     7.50        8.6     NaN      NaN   \n",
       "4                4      1000005   7.2     8.50        9.0     NaN      NaN   \n",
       "...            ...          ...   ...      ...        ...     ...      ...   \n",
       "995436      995436     64006584   8.4     6.75        4.6     NaN      NaN   \n",
       "995437      995437     64006585   5.6     6.50        2.8     NaN      NaN   \n",
       "995438      995438     64006586   5.8     6.00        6.6     NaN      NaN   \n",
       "995439      995439     64006587   7.6     6.75        7.0     NaN      NaN   \n",
       "995440      995440     64006588   6.6     4.50        3.2     NaN      NaN   \n",
       "\n",
       "        Sinh học  Lịch sử  Địa lý  GDCD  \n",
       "0            NaN     2.75    6.00  8.75  \n",
       "1            NaN     8.50    7.50  8.25  \n",
       "2            NaN     7.25    5.50  8.75  \n",
       "3            NaN     7.50    6.50  7.50  \n",
       "4            NaN     8.00    8.50  8.25  \n",
       "...          ...      ...     ...   ...  \n",
       "995436       NaN     6.50    6.75  9.00  \n",
       "995437       NaN     6.25    6.75  8.50  \n",
       "995438       NaN     7.25    8.00  8.00  \n",
       "995439       NaN     8.75    7.25  9.75  \n",
       "995440       NaN     3.00    6.00  7.50  \n",
       "\n",
       "[995441 rows x 11 columns]"
      ]
     },
     "execution_count": 4,
     "metadata": {},
     "output_type": "execute_result"
    }
   ],
   "source": [
    "all_data_1"
   ]
  },
  {
   "cell_type": "markdown",
   "id": "836d3258",
   "metadata": {},
   "source": [
    "**Có index_col**"
   ]
  },
  {
   "cell_type": "code",
   "execution_count": 5,
   "id": "d07db09a",
   "metadata": {},
   "outputs": [],
   "source": [
    "all_data = pd.read_excel(path, index_col=0)"
   ]
  },
  {
   "cell_type": "code",
   "execution_count": 6,
   "id": "d4885e5c",
   "metadata": {},
   "outputs": [
    {
     "name": "stdout",
     "output_type": "stream",
     "text": [
      "<class 'pandas.core.frame.DataFrame'>\n",
      "Int64Index: 995441 entries, 0 to 995440\n",
      "Data columns (total 10 columns):\n",
      " #   Column       Non-Null Count   Dtype  \n",
      "---  ------       --------------   -----  \n",
      " 0   Số báo danh  995441 non-null  int64  \n",
      " 1   Toán         982726 non-null  float64\n",
      " 2   Ngữ văn      981407 non-null  float64\n",
      " 3   Ngoại ngữ    870609 non-null  float64\n",
      " 4   Vật lý       325523 non-null  float64\n",
      " 5   Hóa học      327367 non-null  float64\n",
      " 6   Sinh học     322198 non-null  float64\n",
      " 7   Lịch sử      659662 non-null  float64\n",
      " 8   Địa lý       657421 non-null  float64\n",
      " 9   GDCD         554343 non-null  float64\n",
      "dtypes: float64(9), int64(1)\n",
      "memory usage: 83.5 MB\n"
     ]
    }
   ],
   "source": [
    "all_data.info()"
   ]
  },
  {
   "cell_type": "code",
   "execution_count": 7,
   "id": "46561cea",
   "metadata": {},
   "outputs": [
    {
     "data": {
      "text/html": [
       "<div>\n",
       "<style scoped>\n",
       "    .dataframe tbody tr th:only-of-type {\n",
       "        vertical-align: middle;\n",
       "    }\n",
       "\n",
       "    .dataframe tbody tr th {\n",
       "        vertical-align: top;\n",
       "    }\n",
       "\n",
       "    .dataframe thead th {\n",
       "        text-align: right;\n",
       "    }\n",
       "</style>\n",
       "<table border=\"1\" class=\"dataframe\">\n",
       "  <thead>\n",
       "    <tr style=\"text-align: right;\">\n",
       "      <th></th>\n",
       "      <th>Số báo danh</th>\n",
       "      <th>Toán</th>\n",
       "      <th>Ngữ văn</th>\n",
       "      <th>Ngoại ngữ</th>\n",
       "      <th>Vật lý</th>\n",
       "      <th>Hóa học</th>\n",
       "      <th>Sinh học</th>\n",
       "      <th>Lịch sử</th>\n",
       "      <th>Địa lý</th>\n",
       "      <th>GDCD</th>\n",
       "    </tr>\n",
       "  </thead>\n",
       "  <tbody>\n",
       "    <tr>\n",
       "      <th>0</th>\n",
       "      <td>1000001</td>\n",
       "      <td>3.6</td>\n",
       "      <td>5.00</td>\n",
       "      <td>4.0</td>\n",
       "      <td>NaN</td>\n",
       "      <td>NaN</td>\n",
       "      <td>NaN</td>\n",
       "      <td>2.75</td>\n",
       "      <td>6.0</td>\n",
       "      <td>8.75</td>\n",
       "    </tr>\n",
       "    <tr>\n",
       "      <th>1</th>\n",
       "      <td>1000002</td>\n",
       "      <td>8.4</td>\n",
       "      <td>6.75</td>\n",
       "      <td>7.6</td>\n",
       "      <td>NaN</td>\n",
       "      <td>NaN</td>\n",
       "      <td>NaN</td>\n",
       "      <td>8.50</td>\n",
       "      <td>7.5</td>\n",
       "      <td>8.25</td>\n",
       "    </tr>\n",
       "    <tr>\n",
       "      <th>2</th>\n",
       "      <td>1000003</td>\n",
       "      <td>5.8</td>\n",
       "      <td>7.50</td>\n",
       "      <td>5.0</td>\n",
       "      <td>NaN</td>\n",
       "      <td>NaN</td>\n",
       "      <td>NaN</td>\n",
       "      <td>7.25</td>\n",
       "      <td>5.5</td>\n",
       "      <td>8.75</td>\n",
       "    </tr>\n",
       "    <tr>\n",
       "      <th>3</th>\n",
       "      <td>1000004</td>\n",
       "      <td>7.4</td>\n",
       "      <td>7.50</td>\n",
       "      <td>8.6</td>\n",
       "      <td>NaN</td>\n",
       "      <td>NaN</td>\n",
       "      <td>NaN</td>\n",
       "      <td>7.50</td>\n",
       "      <td>6.5</td>\n",
       "      <td>7.50</td>\n",
       "    </tr>\n",
       "    <tr>\n",
       "      <th>4</th>\n",
       "      <td>1000005</td>\n",
       "      <td>7.2</td>\n",
       "      <td>8.50</td>\n",
       "      <td>9.0</td>\n",
       "      <td>NaN</td>\n",
       "      <td>NaN</td>\n",
       "      <td>NaN</td>\n",
       "      <td>8.00</td>\n",
       "      <td>8.5</td>\n",
       "      <td>8.25</td>\n",
       "    </tr>\n",
       "  </tbody>\n",
       "</table>\n",
       "</div>"
      ],
      "text/plain": [
       "   Số báo danh  Toán  Ngữ văn  Ngoại ngữ  Vật lý  Hóa học  Sinh học  Lịch sử  \\\n",
       "0      1000001   3.6     5.00        4.0     NaN      NaN       NaN     2.75   \n",
       "1      1000002   8.4     6.75        7.6     NaN      NaN       NaN     8.50   \n",
       "2      1000003   5.8     7.50        5.0     NaN      NaN       NaN     7.25   \n",
       "3      1000004   7.4     7.50        8.6     NaN      NaN       NaN     7.50   \n",
       "4      1000005   7.2     8.50        9.0     NaN      NaN       NaN     8.00   \n",
       "\n",
       "   Địa lý  GDCD  \n",
       "0     6.0  8.75  \n",
       "1     7.5  8.25  \n",
       "2     5.5  8.75  \n",
       "3     6.5  7.50  \n",
       "4     8.5  8.25  "
      ]
     },
     "execution_count": 7,
     "metadata": {},
     "output_type": "execute_result"
    }
   ],
   "source": [
    "all_data.head()"
   ]
  },
  {
   "cell_type": "code",
   "execution_count": 8,
   "id": "b6758977",
   "metadata": {
    "scrolled": true
   },
   "outputs": [
    {
     "data": {
      "text/html": [
       "<div>\n",
       "<style scoped>\n",
       "    .dataframe tbody tr th:only-of-type {\n",
       "        vertical-align: middle;\n",
       "    }\n",
       "\n",
       "    .dataframe tbody tr th {\n",
       "        vertical-align: top;\n",
       "    }\n",
       "\n",
       "    .dataframe thead th {\n",
       "        text-align: right;\n",
       "    }\n",
       "</style>\n",
       "<table border=\"1\" class=\"dataframe\">\n",
       "  <thead>\n",
       "    <tr style=\"text-align: right;\">\n",
       "      <th></th>\n",
       "      <th>Số báo danh</th>\n",
       "      <th>Toán</th>\n",
       "      <th>Ngữ văn</th>\n",
       "      <th>Ngoại ngữ</th>\n",
       "      <th>Vật lý</th>\n",
       "      <th>Hóa học</th>\n",
       "      <th>Sinh học</th>\n",
       "      <th>Lịch sử</th>\n",
       "      <th>Địa lý</th>\n",
       "      <th>GDCD</th>\n",
       "    </tr>\n",
       "  </thead>\n",
       "  <tbody>\n",
       "    <tr>\n",
       "      <th>995436</th>\n",
       "      <td>64006584</td>\n",
       "      <td>8.4</td>\n",
       "      <td>6.75</td>\n",
       "      <td>4.6</td>\n",
       "      <td>NaN</td>\n",
       "      <td>NaN</td>\n",
       "      <td>NaN</td>\n",
       "      <td>6.50</td>\n",
       "      <td>6.75</td>\n",
       "      <td>9.00</td>\n",
       "    </tr>\n",
       "    <tr>\n",
       "      <th>995437</th>\n",
       "      <td>64006585</td>\n",
       "      <td>5.6</td>\n",
       "      <td>6.50</td>\n",
       "      <td>2.8</td>\n",
       "      <td>NaN</td>\n",
       "      <td>NaN</td>\n",
       "      <td>NaN</td>\n",
       "      <td>6.25</td>\n",
       "      <td>6.75</td>\n",
       "      <td>8.50</td>\n",
       "    </tr>\n",
       "    <tr>\n",
       "      <th>995438</th>\n",
       "      <td>64006586</td>\n",
       "      <td>5.8</td>\n",
       "      <td>6.00</td>\n",
       "      <td>6.6</td>\n",
       "      <td>NaN</td>\n",
       "      <td>NaN</td>\n",
       "      <td>NaN</td>\n",
       "      <td>7.25</td>\n",
       "      <td>8.00</td>\n",
       "      <td>8.00</td>\n",
       "    </tr>\n",
       "    <tr>\n",
       "      <th>995439</th>\n",
       "      <td>64006587</td>\n",
       "      <td>7.6</td>\n",
       "      <td>6.75</td>\n",
       "      <td>7.0</td>\n",
       "      <td>NaN</td>\n",
       "      <td>NaN</td>\n",
       "      <td>NaN</td>\n",
       "      <td>8.75</td>\n",
       "      <td>7.25</td>\n",
       "      <td>9.75</td>\n",
       "    </tr>\n",
       "    <tr>\n",
       "      <th>995440</th>\n",
       "      <td>64006588</td>\n",
       "      <td>6.6</td>\n",
       "      <td>4.50</td>\n",
       "      <td>3.2</td>\n",
       "      <td>NaN</td>\n",
       "      <td>NaN</td>\n",
       "      <td>NaN</td>\n",
       "      <td>3.00</td>\n",
       "      <td>6.00</td>\n",
       "      <td>7.50</td>\n",
       "    </tr>\n",
       "  </tbody>\n",
       "</table>\n",
       "</div>"
      ],
      "text/plain": [
       "        Số báo danh  Toán  Ngữ văn  Ngoại ngữ  Vật lý  Hóa học  Sinh học  \\\n",
       "995436     64006584   8.4     6.75        4.6     NaN      NaN       NaN   \n",
       "995437     64006585   5.6     6.50        2.8     NaN      NaN       NaN   \n",
       "995438     64006586   5.8     6.00        6.6     NaN      NaN       NaN   \n",
       "995439     64006587   7.6     6.75        7.0     NaN      NaN       NaN   \n",
       "995440     64006588   6.6     4.50        3.2     NaN      NaN       NaN   \n",
       "\n",
       "        Lịch sử  Địa lý  GDCD  \n",
       "995436     6.50    6.75  9.00  \n",
       "995437     6.25    6.75  8.50  \n",
       "995438     7.25    8.00  8.00  \n",
       "995439     8.75    7.25  9.75  \n",
       "995440     3.00    6.00  7.50  "
      ]
     },
     "execution_count": 8,
     "metadata": {},
     "output_type": "execute_result"
    }
   ],
   "source": [
    "all_data.tail()"
   ]
  },
  {
   "cell_type": "code",
   "execution_count": 9,
   "id": "317aa190",
   "metadata": {},
   "outputs": [],
   "source": [
    "all_data.fillna(-1, inplace=True)"
   ]
  },
  {
   "cell_type": "code",
   "execution_count": 10,
   "id": "414e4f6a",
   "metadata": {
    "scrolled": true
   },
   "outputs": [
    {
     "data": {
      "text/html": [
       "<div>\n",
       "<style scoped>\n",
       "    .dataframe tbody tr th:only-of-type {\n",
       "        vertical-align: middle;\n",
       "    }\n",
       "\n",
       "    .dataframe tbody tr th {\n",
       "        vertical-align: top;\n",
       "    }\n",
       "\n",
       "    .dataframe thead th {\n",
       "        text-align: right;\n",
       "    }\n",
       "</style>\n",
       "<table border=\"1\" class=\"dataframe\">\n",
       "  <thead>\n",
       "    <tr style=\"text-align: right;\">\n",
       "      <th></th>\n",
       "      <th>Số báo danh</th>\n",
       "      <th>Toán</th>\n",
       "      <th>Ngữ văn</th>\n",
       "      <th>Ngoại ngữ</th>\n",
       "      <th>Vật lý</th>\n",
       "      <th>Hóa học</th>\n",
       "      <th>Sinh học</th>\n",
       "      <th>Lịch sử</th>\n",
       "      <th>Địa lý</th>\n",
       "      <th>GDCD</th>\n",
       "    </tr>\n",
       "  </thead>\n",
       "  <tbody>\n",
       "    <tr>\n",
       "      <th>995436</th>\n",
       "      <td>64006584</td>\n",
       "      <td>8.4</td>\n",
       "      <td>6.75</td>\n",
       "      <td>4.6</td>\n",
       "      <td>-1.0</td>\n",
       "      <td>-1.0</td>\n",
       "      <td>-1.0</td>\n",
       "      <td>6.50</td>\n",
       "      <td>6.75</td>\n",
       "      <td>9.00</td>\n",
       "    </tr>\n",
       "    <tr>\n",
       "      <th>995437</th>\n",
       "      <td>64006585</td>\n",
       "      <td>5.6</td>\n",
       "      <td>6.50</td>\n",
       "      <td>2.8</td>\n",
       "      <td>-1.0</td>\n",
       "      <td>-1.0</td>\n",
       "      <td>-1.0</td>\n",
       "      <td>6.25</td>\n",
       "      <td>6.75</td>\n",
       "      <td>8.50</td>\n",
       "    </tr>\n",
       "    <tr>\n",
       "      <th>995438</th>\n",
       "      <td>64006586</td>\n",
       "      <td>5.8</td>\n",
       "      <td>6.00</td>\n",
       "      <td>6.6</td>\n",
       "      <td>-1.0</td>\n",
       "      <td>-1.0</td>\n",
       "      <td>-1.0</td>\n",
       "      <td>7.25</td>\n",
       "      <td>8.00</td>\n",
       "      <td>8.00</td>\n",
       "    </tr>\n",
       "    <tr>\n",
       "      <th>995439</th>\n",
       "      <td>64006587</td>\n",
       "      <td>7.6</td>\n",
       "      <td>6.75</td>\n",
       "      <td>7.0</td>\n",
       "      <td>-1.0</td>\n",
       "      <td>-1.0</td>\n",
       "      <td>-1.0</td>\n",
       "      <td>8.75</td>\n",
       "      <td>7.25</td>\n",
       "      <td>9.75</td>\n",
       "    </tr>\n",
       "    <tr>\n",
       "      <th>995440</th>\n",
       "      <td>64006588</td>\n",
       "      <td>6.6</td>\n",
       "      <td>4.50</td>\n",
       "      <td>3.2</td>\n",
       "      <td>-1.0</td>\n",
       "      <td>-1.0</td>\n",
       "      <td>-1.0</td>\n",
       "      <td>3.00</td>\n",
       "      <td>6.00</td>\n",
       "      <td>7.50</td>\n",
       "    </tr>\n",
       "  </tbody>\n",
       "</table>\n",
       "</div>"
      ],
      "text/plain": [
       "        Số báo danh  Toán  Ngữ văn  Ngoại ngữ  Vật lý  Hóa học  Sinh học  \\\n",
       "995436     64006584   8.4     6.75        4.6    -1.0     -1.0      -1.0   \n",
       "995437     64006585   5.6     6.50        2.8    -1.0     -1.0      -1.0   \n",
       "995438     64006586   5.8     6.00        6.6    -1.0     -1.0      -1.0   \n",
       "995439     64006587   7.6     6.75        7.0    -1.0     -1.0      -1.0   \n",
       "995440     64006588   6.6     4.50        3.2    -1.0     -1.0      -1.0   \n",
       "\n",
       "        Lịch sử  Địa lý  GDCD  \n",
       "995436     6.50    6.75  9.00  \n",
       "995437     6.25    6.75  8.50  \n",
       "995438     7.25    8.00  8.00  \n",
       "995439     8.75    7.25  9.75  \n",
       "995440     3.00    6.00  7.50  "
      ]
     },
     "execution_count": 10,
     "metadata": {},
     "output_type": "execute_result"
    }
   ],
   "source": [
    "all_data.tail()"
   ]
  },
  {
   "cell_type": "code",
   "execution_count": 11,
   "id": "c3b0f13a",
   "metadata": {},
   "outputs": [
    {
     "data": {
      "text/plain": [
       "995441"
      ]
     },
     "execution_count": 11,
     "metadata": {},
     "output_type": "execute_result"
    }
   ],
   "source": [
    "all_data.shape[0]"
   ]
  },
  {
   "cell_type": "code",
   "execution_count": 12,
   "id": "3c3370f9",
   "metadata": {},
   "outputs": [
    {
     "data": {
      "text/plain": [
       "0"
      ]
     },
     "execution_count": 12,
     "metadata": {},
     "output_type": "execute_result"
    }
   ],
   "source": [
    "all_data[\"Toán\"].isnull().sum()"
   ]
  },
  {
   "cell_type": "code",
   "execution_count": 13,
   "id": "008a51ff",
   "metadata": {},
   "outputs": [
    {
     "data": {
      "text/plain": [
       "0"
      ]
     },
     "execution_count": 13,
     "metadata": {},
     "output_type": "execute_result"
    }
   ],
   "source": [
    "all_data[\"Ngữ văn\"].isnull().sum()"
   ]
  },
  {
   "cell_type": "markdown",
   "id": "d7c0141d",
   "metadata": {},
   "source": [
    "**Thí sinh hợp lệ là thí sinh thi đủ 6 môn**\n",
    "\n",
    "**Thí sinh hợp lệ = KHXH + KHTN**"
   ]
  },
  {
   "cell_type": "code",
   "execution_count": 14,
   "id": "45ad239e",
   "metadata": {},
   "outputs": [],
   "source": [
    "thi_sinh_thi_KHXH = all_data[(all_data[\"Toán\"] != -1) \n",
    "                            & (all_data[\"Ngữ văn\"] != -1)\n",
    "                            & (all_data[\"Ngoại ngữ\"] != -1)\n",
    "                            & (all_data[\"Lịch sử\"] != -1)\n",
    "                            & (all_data[\"Địa lý\"] != -1)\n",
    "                            & (all_data[\"GDCD\"] != -1)]"
   ]
  },
  {
   "cell_type": "code",
   "execution_count": 15,
   "id": "8dcc7b8d",
   "metadata": {
    "scrolled": true
   },
   "outputs": [
    {
     "name": "stdout",
     "output_type": "stream",
     "text": [
      "<class 'pandas.core.frame.DataFrame'>\n",
      "Int64Index: 549574 entries, 0 to 995440\n",
      "Data columns (total 10 columns):\n",
      " #   Column       Non-Null Count   Dtype  \n",
      "---  ------       --------------   -----  \n",
      " 0   Số báo danh  549574 non-null  int64  \n",
      " 1   Toán         549574 non-null  float64\n",
      " 2   Ngữ văn      549574 non-null  float64\n",
      " 3   Ngoại ngữ    549574 non-null  float64\n",
      " 4   Vật lý       549574 non-null  float64\n",
      " 5   Hóa học      549574 non-null  float64\n",
      " 6   Sinh học     549574 non-null  float64\n",
      " 7   Lịch sử      549574 non-null  float64\n",
      " 8   Địa lý       549574 non-null  float64\n",
      " 9   GDCD         549574 non-null  float64\n",
      "dtypes: float64(9), int64(1)\n",
      "memory usage: 46.1 MB\n"
     ]
    }
   ],
   "source": [
    "thi_sinh_thi_KHXH.info()"
   ]
  },
  {
   "cell_type": "code",
   "execution_count": 16,
   "id": "095dc3e4",
   "metadata": {
    "scrolled": false
   },
   "outputs": [
    {
     "data": {
      "text/plain": [
       "Số báo danh    549574\n",
       "Toán           549574\n",
       "Ngữ văn        549574\n",
       "Ngoại ngữ      549574\n",
       "Vật lý         549574\n",
       "Hóa học        549574\n",
       "Sinh học       549574\n",
       "Lịch sử        549574\n",
       "Địa lý         549574\n",
       "GDCD           549574\n",
       "dtype: int64"
      ]
     },
     "execution_count": 16,
     "metadata": {},
     "output_type": "execute_result"
    }
   ],
   "source": [
    "thi_sinh_thi_KHXH.count()"
   ]
  },
  {
   "cell_type": "code",
   "execution_count": 17,
   "id": "3271d33c",
   "metadata": {},
   "outputs": [
    {
     "data": {
      "text/plain": [
       "(549574, 10)"
      ]
     },
     "execution_count": 17,
     "metadata": {},
     "output_type": "execute_result"
    }
   ],
   "source": [
    "thi_sinh_thi_KHXH.shape"
   ]
  },
  {
   "cell_type": "code",
   "execution_count": 18,
   "id": "1ff52274",
   "metadata": {},
   "outputs": [
    {
     "data": {
      "text/plain": [
       "549574"
      ]
     },
     "execution_count": 18,
     "metadata": {},
     "output_type": "execute_result"
    }
   ],
   "source": [
    "thi_sinh_thi_KHXH.shape[0]"
   ]
  },
  {
   "cell_type": "code",
   "execution_count": null,
   "id": "d97c6775",
   "metadata": {},
   "outputs": [],
   "source": []
  },
  {
   "cell_type": "code",
   "execution_count": 19,
   "id": "6f38ce0c",
   "metadata": {},
   "outputs": [],
   "source": [
    "thi_sinh_thi_KHTN = all_data[(all_data[\"Toán\"] != -1) \n",
    "                            & (all_data[\"Ngữ văn\"] != -1)\n",
    "                            & (all_data[\"Ngoại ngữ\"] != -1)\n",
    "                            & (all_data[\"Vật lý\"] != -1)\n",
    "                            & (all_data[\"Hóa học\"] != -1)\n",
    "                            & (all_data[\"Sinh học\"] != -1)]"
   ]
  },
  {
   "cell_type": "code",
   "execution_count": 20,
   "id": "5057ee03",
   "metadata": {
    "scrolled": true
   },
   "outputs": [
    {
     "data": {
      "text/html": [
       "<div>\n",
       "<style scoped>\n",
       "    .dataframe tbody tr th:only-of-type {\n",
       "        vertical-align: middle;\n",
       "    }\n",
       "\n",
       "    .dataframe tbody tr th {\n",
       "        vertical-align: top;\n",
       "    }\n",
       "\n",
       "    .dataframe thead th {\n",
       "        text-align: right;\n",
       "    }\n",
       "</style>\n",
       "<table border=\"1\" class=\"dataframe\">\n",
       "  <thead>\n",
       "    <tr style=\"text-align: right;\">\n",
       "      <th></th>\n",
       "      <th>Số báo danh</th>\n",
       "      <th>Toán</th>\n",
       "      <th>Ngữ văn</th>\n",
       "      <th>Ngoại ngữ</th>\n",
       "      <th>Vật lý</th>\n",
       "      <th>Hóa học</th>\n",
       "      <th>Sinh học</th>\n",
       "      <th>Lịch sử</th>\n",
       "      <th>Địa lý</th>\n",
       "      <th>GDCD</th>\n",
       "    </tr>\n",
       "  </thead>\n",
       "  <tbody>\n",
       "    <tr>\n",
       "      <th>10</th>\n",
       "      <td>1000011</td>\n",
       "      <td>6.4</td>\n",
       "      <td>7.25</td>\n",
       "      <td>7.6</td>\n",
       "      <td>3.50</td>\n",
       "      <td>8.00</td>\n",
       "      <td>3.00</td>\n",
       "      <td>-1.0</td>\n",
       "      <td>-1.0</td>\n",
       "      <td>-1.0</td>\n",
       "    </tr>\n",
       "    <tr>\n",
       "      <th>14</th>\n",
       "      <td>1000015</td>\n",
       "      <td>8.6</td>\n",
       "      <td>7.25</td>\n",
       "      <td>9.6</td>\n",
       "      <td>8.25</td>\n",
       "      <td>3.25</td>\n",
       "      <td>4.25</td>\n",
       "      <td>-1.0</td>\n",
       "      <td>-1.0</td>\n",
       "      <td>-1.0</td>\n",
       "    </tr>\n",
       "    <tr>\n",
       "      <th>15</th>\n",
       "      <td>1000016</td>\n",
       "      <td>7.8</td>\n",
       "      <td>5.75</td>\n",
       "      <td>8.4</td>\n",
       "      <td>4.25</td>\n",
       "      <td>8.00</td>\n",
       "      <td>4.75</td>\n",
       "      <td>-1.0</td>\n",
       "      <td>-1.0</td>\n",
       "      <td>-1.0</td>\n",
       "    </tr>\n",
       "    <tr>\n",
       "      <th>16</th>\n",
       "      <td>1000017</td>\n",
       "      <td>8.6</td>\n",
       "      <td>6.25</td>\n",
       "      <td>7.0</td>\n",
       "      <td>7.00</td>\n",
       "      <td>3.50</td>\n",
       "      <td>3.75</td>\n",
       "      <td>-1.0</td>\n",
       "      <td>-1.0</td>\n",
       "      <td>-1.0</td>\n",
       "    </tr>\n",
       "    <tr>\n",
       "      <th>22</th>\n",
       "      <td>1000023</td>\n",
       "      <td>6.8</td>\n",
       "      <td>6.00</td>\n",
       "      <td>6.8</td>\n",
       "      <td>2.50</td>\n",
       "      <td>5.50</td>\n",
       "      <td>3.00</td>\n",
       "      <td>-1.0</td>\n",
       "      <td>-1.0</td>\n",
       "      <td>-1.0</td>\n",
       "    </tr>\n",
       "    <tr>\n",
       "      <th>...</th>\n",
       "      <td>...</td>\n",
       "      <td>...</td>\n",
       "      <td>...</td>\n",
       "      <td>...</td>\n",
       "      <td>...</td>\n",
       "      <td>...</td>\n",
       "      <td>...</td>\n",
       "      <td>...</td>\n",
       "      <td>...</td>\n",
       "      <td>...</td>\n",
       "    </tr>\n",
       "    <tr>\n",
       "      <th>995410</th>\n",
       "      <td>64006558</td>\n",
       "      <td>8.0</td>\n",
       "      <td>5.00</td>\n",
       "      <td>3.0</td>\n",
       "      <td>6.00</td>\n",
       "      <td>8.00</td>\n",
       "      <td>2.75</td>\n",
       "      <td>-1.0</td>\n",
       "      <td>-1.0</td>\n",
       "      <td>-1.0</td>\n",
       "    </tr>\n",
       "    <tr>\n",
       "      <th>995411</th>\n",
       "      <td>64006559</td>\n",
       "      <td>5.8</td>\n",
       "      <td>4.75</td>\n",
       "      <td>3.6</td>\n",
       "      <td>4.75</td>\n",
       "      <td>3.50</td>\n",
       "      <td>3.50</td>\n",
       "      <td>-1.0</td>\n",
       "      <td>-1.0</td>\n",
       "      <td>-1.0</td>\n",
       "    </tr>\n",
       "    <tr>\n",
       "      <th>995423</th>\n",
       "      <td>64006571</td>\n",
       "      <td>6.4</td>\n",
       "      <td>6.50</td>\n",
       "      <td>3.4</td>\n",
       "      <td>6.75</td>\n",
       "      <td>6.00</td>\n",
       "      <td>5.25</td>\n",
       "      <td>-1.0</td>\n",
       "      <td>-1.0</td>\n",
       "      <td>-1.0</td>\n",
       "    </tr>\n",
       "    <tr>\n",
       "      <th>995427</th>\n",
       "      <td>64006575</td>\n",
       "      <td>5.8</td>\n",
       "      <td>5.25</td>\n",
       "      <td>3.4</td>\n",
       "      <td>5.00</td>\n",
       "      <td>5.00</td>\n",
       "      <td>2.00</td>\n",
       "      <td>-1.0</td>\n",
       "      <td>-1.0</td>\n",
       "      <td>-1.0</td>\n",
       "    </tr>\n",
       "    <tr>\n",
       "      <th>995429</th>\n",
       "      <td>64006577</td>\n",
       "      <td>7.2</td>\n",
       "      <td>4.25</td>\n",
       "      <td>4.6</td>\n",
       "      <td>6.25</td>\n",
       "      <td>5.25</td>\n",
       "      <td>3.50</td>\n",
       "      <td>-1.0</td>\n",
       "      <td>-1.0</td>\n",
       "      <td>-1.0</td>\n",
       "    </tr>\n",
       "  </tbody>\n",
       "</table>\n",
       "<p>309162 rows × 10 columns</p>\n",
       "</div>"
      ],
      "text/plain": [
       "        Số báo danh  Toán  Ngữ văn  Ngoại ngữ  Vật lý  Hóa học  Sinh học  \\\n",
       "10          1000011   6.4     7.25        7.6    3.50     8.00      3.00   \n",
       "14          1000015   8.6     7.25        9.6    8.25     3.25      4.25   \n",
       "15          1000016   7.8     5.75        8.4    4.25     8.00      4.75   \n",
       "16          1000017   8.6     6.25        7.0    7.00     3.50      3.75   \n",
       "22          1000023   6.8     6.00        6.8    2.50     5.50      3.00   \n",
       "...             ...   ...      ...        ...     ...      ...       ...   \n",
       "995410     64006558   8.0     5.00        3.0    6.00     8.00      2.75   \n",
       "995411     64006559   5.8     4.75        3.6    4.75     3.50      3.50   \n",
       "995423     64006571   6.4     6.50        3.4    6.75     6.00      5.25   \n",
       "995427     64006575   5.8     5.25        3.4    5.00     5.00      2.00   \n",
       "995429     64006577   7.2     4.25        4.6    6.25     5.25      3.50   \n",
       "\n",
       "        Lịch sử  Địa lý  GDCD  \n",
       "10         -1.0    -1.0  -1.0  \n",
       "14         -1.0    -1.0  -1.0  \n",
       "15         -1.0    -1.0  -1.0  \n",
       "16         -1.0    -1.0  -1.0  \n",
       "22         -1.0    -1.0  -1.0  \n",
       "...         ...     ...   ...  \n",
       "995410     -1.0    -1.0  -1.0  \n",
       "995411     -1.0    -1.0  -1.0  \n",
       "995423     -1.0    -1.0  -1.0  \n",
       "995427     -1.0    -1.0  -1.0  \n",
       "995429     -1.0    -1.0  -1.0  \n",
       "\n",
       "[309162 rows x 10 columns]"
      ]
     },
     "execution_count": 20,
     "metadata": {},
     "output_type": "execute_result"
    }
   ],
   "source": [
    "thi_sinh_thi_KHTN"
   ]
  },
  {
   "cell_type": "code",
   "execution_count": 21,
   "id": "9cce6abb",
   "metadata": {},
   "outputs": [
    {
     "data": {
      "text/plain": [
       "Số báo danh    309162\n",
       "Toán           309162\n",
       "Ngữ văn        309162\n",
       "Ngoại ngữ      309162\n",
       "Vật lý         309162\n",
       "Hóa học        309162\n",
       "Sinh học       309162\n",
       "Lịch sử        309162\n",
       "Địa lý         309162\n",
       "GDCD           309162\n",
       "dtype: int64"
      ]
     },
     "execution_count": 21,
     "metadata": {},
     "output_type": "execute_result"
    }
   ],
   "source": [
    "thi_sinh_thi_KHTN.count()"
   ]
  },
  {
   "cell_type": "code",
   "execution_count": 22,
   "id": "ece787a3",
   "metadata": {
    "scrolled": true
   },
   "outputs": [
    {
     "name": "stdout",
     "output_type": "stream",
     "text": [
      "<class 'pandas.core.frame.DataFrame'>\n",
      "Int64Index: 309162 entries, 10 to 995429\n",
      "Data columns (total 10 columns):\n",
      " #   Column       Non-Null Count   Dtype  \n",
      "---  ------       --------------   -----  \n",
      " 0   Số báo danh  309162 non-null  int64  \n",
      " 1   Toán         309162 non-null  float64\n",
      " 2   Ngữ văn      309162 non-null  float64\n",
      " 3   Ngoại ngữ    309162 non-null  float64\n",
      " 4   Vật lý       309162 non-null  float64\n",
      " 5   Hóa học      309162 non-null  float64\n",
      " 6   Sinh học     309162 non-null  float64\n",
      " 7   Lịch sử      309162 non-null  float64\n",
      " 8   Địa lý       309162 non-null  float64\n",
      " 9   GDCD         309162 non-null  float64\n",
      "dtypes: float64(9), int64(1)\n",
      "memory usage: 25.9 MB\n"
     ]
    }
   ],
   "source": [
    "thi_sinh_thi_KHTN.info()"
   ]
  },
  {
   "cell_type": "markdown",
   "id": "4881ca07",
   "metadata": {},
   "source": [
    "**Thí sinh hợp lệ**"
   ]
  },
  {
   "cell_type": "code",
   "execution_count": 23,
   "id": "aa6e923d",
   "metadata": {},
   "outputs": [],
   "source": [
    "thi_sinh_hop_le = pd.concat([thi_sinh_thi_KHTN,thi_sinh_thi_KHXH],ignore_index=True)"
   ]
  },
  {
   "cell_type": "code",
   "execution_count": 24,
   "id": "fa9f72f0",
   "metadata": {},
   "outputs": [
    {
     "name": "stdout",
     "output_type": "stream",
     "text": [
      "<class 'pandas.core.frame.DataFrame'>\n",
      "RangeIndex: 858736 entries, 0 to 858735\n",
      "Data columns (total 10 columns):\n",
      " #   Column       Non-Null Count   Dtype  \n",
      "---  ------       --------------   -----  \n",
      " 0   Số báo danh  858736 non-null  int64  \n",
      " 1   Toán         858736 non-null  float64\n",
      " 2   Ngữ văn      858736 non-null  float64\n",
      " 3   Ngoại ngữ    858736 non-null  float64\n",
      " 4   Vật lý       858736 non-null  float64\n",
      " 5   Hóa học      858736 non-null  float64\n",
      " 6   Sinh học     858736 non-null  float64\n",
      " 7   Lịch sử      858736 non-null  float64\n",
      " 8   Địa lý       858736 non-null  float64\n",
      " 9   GDCD         858736 non-null  float64\n",
      "dtypes: float64(9), int64(1)\n",
      "memory usage: 65.5 MB\n"
     ]
    }
   ],
   "source": [
    "thi_sinh_hop_le.info()"
   ]
  },
  {
   "cell_type": "code",
   "execution_count": 25,
   "id": "f5736cb5",
   "metadata": {},
   "outputs": [
    {
     "data": {
      "text/plain": [
       "True"
      ]
     },
     "execution_count": 25,
     "metadata": {},
     "output_type": "execute_result"
    }
   ],
   "source": [
    "thi_sinh_hop_le.shape[0] == thi_sinh_thi_KHTN.shape[0] + thi_sinh_thi_KHXH.shape[0]"
   ]
  },
  {
   "cell_type": "code",
   "execution_count": null,
   "id": "5c095413",
   "metadata": {},
   "outputs": [],
   "source": []
  },
  {
   "cell_type": "code",
   "execution_count": 26,
   "id": "8adf8be7",
   "metadata": {},
   "outputs": [],
   "source": [
    "# tạo dataframe chứa tất cả các thí sinh không hợp lệ\n",
    "# ứng dụng xóa các hàng trùng lặp\n",
    "# df.drop_duplicates(keep=False):\n",
    "#thi_sinh_hop_le = pd.concat([thi_sinh_thi_KHTN,thi_sinh_thi_KHXH],ignore_index=True)\n",
    "join_data = pd.concat([thi_sinh_hop_le, all_data], ignore_index=True)"
   ]
  },
  {
   "cell_type": "code",
   "execution_count": 27,
   "id": "5c7f39c7",
   "metadata": {},
   "outputs": [],
   "source": [
    "# xóa các hàng trùng lặp sẽ có df thi_sinh_khong_hop_le\n",
    "thi_sinh_khong_hop_le = join_data.drop_duplicates(keep=False)"
   ]
  },
  {
   "cell_type": "code",
   "execution_count": 30,
   "id": "341f8536",
   "metadata": {},
   "outputs": [
    {
     "data": {
      "text/html": [
       "<div>\n",
       "<style scoped>\n",
       "    .dataframe tbody tr th:only-of-type {\n",
       "        vertical-align: middle;\n",
       "    }\n",
       "\n",
       "    .dataframe tbody tr th {\n",
       "        vertical-align: top;\n",
       "    }\n",
       "\n",
       "    .dataframe thead th {\n",
       "        text-align: right;\n",
       "    }\n",
       "</style>\n",
       "<table border=\"1\" class=\"dataframe\">\n",
       "  <thead>\n",
       "    <tr style=\"text-align: right;\">\n",
       "      <th></th>\n",
       "      <th>Số báo danh</th>\n",
       "      <th>Toán</th>\n",
       "      <th>Ngữ văn</th>\n",
       "      <th>Ngoại ngữ</th>\n",
       "      <th>Vật lý</th>\n",
       "      <th>Hóa học</th>\n",
       "      <th>Sinh học</th>\n",
       "      <th>Lịch sử</th>\n",
       "      <th>Địa lý</th>\n",
       "      <th>GDCD</th>\n",
       "    </tr>\n",
       "  </thead>\n",
       "  <tbody>\n",
       "    <tr>\n",
       "      <th>858744</th>\n",
       "      <td>1000009</td>\n",
       "      <td>2.6</td>\n",
       "      <td>5.25</td>\n",
       "      <td>-1.0</td>\n",
       "      <td>-1.0</td>\n",
       "      <td>-1.0</td>\n",
       "      <td>-1.0</td>\n",
       "      <td>5.25</td>\n",
       "      <td>6.75</td>\n",
       "      <td>-1.0</td>\n",
       "    </tr>\n",
       "    <tr>\n",
       "      <th>858747</th>\n",
       "      <td>1000012</td>\n",
       "      <td>6.4</td>\n",
       "      <td>7.50</td>\n",
       "      <td>-1.0</td>\n",
       "      <td>-1.0</td>\n",
       "      <td>-1.0</td>\n",
       "      <td>-1.0</td>\n",
       "      <td>4.75</td>\n",
       "      <td>5.00</td>\n",
       "      <td>8.0</td>\n",
       "    </tr>\n",
       "    <tr>\n",
       "      <th>858749</th>\n",
       "      <td>1000014</td>\n",
       "      <td>5.8</td>\n",
       "      <td>5.50</td>\n",
       "      <td>6.4</td>\n",
       "      <td>-1.0</td>\n",
       "      <td>-1.0</td>\n",
       "      <td>-1.0</td>\n",
       "      <td>8.50</td>\n",
       "      <td>8.00</td>\n",
       "      <td>-1.0</td>\n",
       "    </tr>\n",
       "    <tr>\n",
       "      <th>858754</th>\n",
       "      <td>1000019</td>\n",
       "      <td>6.8</td>\n",
       "      <td>7.50</td>\n",
       "      <td>-1.0</td>\n",
       "      <td>-1.0</td>\n",
       "      <td>-1.0</td>\n",
       "      <td>-1.0</td>\n",
       "      <td>7.25</td>\n",
       "      <td>6.25</td>\n",
       "      <td>8.0</td>\n",
       "    </tr>\n",
       "    <tr>\n",
       "      <th>858755</th>\n",
       "      <td>1000020</td>\n",
       "      <td>-1.0</td>\n",
       "      <td>6.75</td>\n",
       "      <td>-1.0</td>\n",
       "      <td>-1.0</td>\n",
       "      <td>-1.0</td>\n",
       "      <td>-1.0</td>\n",
       "      <td>8.50</td>\n",
       "      <td>8.00</td>\n",
       "      <td>-1.0</td>\n",
       "    </tr>\n",
       "  </tbody>\n",
       "</table>\n",
       "</div>"
      ],
      "text/plain": [
       "        Số báo danh  Toán  Ngữ văn  Ngoại ngữ  Vật lý  Hóa học  Sinh học  \\\n",
       "858744      1000009   2.6     5.25       -1.0    -1.0     -1.0      -1.0   \n",
       "858747      1000012   6.4     7.50       -1.0    -1.0     -1.0      -1.0   \n",
       "858749      1000014   5.8     5.50        6.4    -1.0     -1.0      -1.0   \n",
       "858754      1000019   6.8     7.50       -1.0    -1.0     -1.0      -1.0   \n",
       "858755      1000020  -1.0     6.75       -1.0    -1.0     -1.0      -1.0   \n",
       "\n",
       "        Lịch sử  Địa lý  GDCD  \n",
       "858744     5.25    6.75  -1.0  \n",
       "858747     4.75    5.00   8.0  \n",
       "858749     8.50    8.00  -1.0  \n",
       "858754     7.25    6.25   8.0  \n",
       "858755     8.50    8.00  -1.0  "
      ]
     },
     "execution_count": 30,
     "metadata": {},
     "output_type": "execute_result"
    }
   ],
   "source": [
    "thi_sinh_khong_hop_le.head()"
   ]
  },
  {
   "cell_type": "code",
   "execution_count": 42,
   "id": "6189b332",
   "metadata": {
    "scrolled": true
   },
   "outputs": [],
   "source": [
    "# thi_sinh_khong_hop_le.shape[0] == so_thi_sinh_khong_hop_le"
   ]
  },
  {
   "cell_type": "code",
   "execution_count": 32,
   "id": "7cdcd737",
   "metadata": {},
   "outputs": [
    {
     "data": {
      "text/html": [
       "<div>\n",
       "<style scoped>\n",
       "    .dataframe tbody tr th:only-of-type {\n",
       "        vertical-align: middle;\n",
       "    }\n",
       "\n",
       "    .dataframe tbody tr th {\n",
       "        vertical-align: top;\n",
       "    }\n",
       "\n",
       "    .dataframe thead th {\n",
       "        text-align: right;\n",
       "    }\n",
       "</style>\n",
       "<table border=\"1\" class=\"dataframe\">\n",
       "  <thead>\n",
       "    <tr style=\"text-align: right;\">\n",
       "      <th></th>\n",
       "      <th>Số báo danh</th>\n",
       "      <th>Toán</th>\n",
       "      <th>Ngữ văn</th>\n",
       "      <th>Ngoại ngữ</th>\n",
       "      <th>Vật lý</th>\n",
       "      <th>Hóa học</th>\n",
       "      <th>Sinh học</th>\n",
       "      <th>Lịch sử</th>\n",
       "      <th>Địa lý</th>\n",
       "      <th>GDCD</th>\n",
       "    </tr>\n",
       "  </thead>\n",
       "  <tbody>\n",
       "    <tr>\n",
       "      <th>0</th>\n",
       "      <td>1000009</td>\n",
       "      <td>2.6</td>\n",
       "      <td>5.25</td>\n",
       "      <td>-1.0</td>\n",
       "      <td>-1.0</td>\n",
       "      <td>-1.0</td>\n",
       "      <td>-1.0</td>\n",
       "      <td>5.25</td>\n",
       "      <td>6.75</td>\n",
       "      <td>-1.0</td>\n",
       "    </tr>\n",
       "    <tr>\n",
       "      <th>1</th>\n",
       "      <td>1000012</td>\n",
       "      <td>6.4</td>\n",
       "      <td>7.50</td>\n",
       "      <td>-1.0</td>\n",
       "      <td>-1.0</td>\n",
       "      <td>-1.0</td>\n",
       "      <td>-1.0</td>\n",
       "      <td>4.75</td>\n",
       "      <td>5.00</td>\n",
       "      <td>8.0</td>\n",
       "    </tr>\n",
       "    <tr>\n",
       "      <th>2</th>\n",
       "      <td>1000014</td>\n",
       "      <td>5.8</td>\n",
       "      <td>5.50</td>\n",
       "      <td>6.4</td>\n",
       "      <td>-1.0</td>\n",
       "      <td>-1.0</td>\n",
       "      <td>-1.0</td>\n",
       "      <td>8.50</td>\n",
       "      <td>8.00</td>\n",
       "      <td>-1.0</td>\n",
       "    </tr>\n",
       "    <tr>\n",
       "      <th>3</th>\n",
       "      <td>1000019</td>\n",
       "      <td>6.8</td>\n",
       "      <td>7.50</td>\n",
       "      <td>-1.0</td>\n",
       "      <td>-1.0</td>\n",
       "      <td>-1.0</td>\n",
       "      <td>-1.0</td>\n",
       "      <td>7.25</td>\n",
       "      <td>6.25</td>\n",
       "      <td>8.0</td>\n",
       "    </tr>\n",
       "    <tr>\n",
       "      <th>4</th>\n",
       "      <td>1000020</td>\n",
       "      <td>-1.0</td>\n",
       "      <td>6.75</td>\n",
       "      <td>-1.0</td>\n",
       "      <td>-1.0</td>\n",
       "      <td>-1.0</td>\n",
       "      <td>-1.0</td>\n",
       "      <td>8.50</td>\n",
       "      <td>8.00</td>\n",
       "      <td>-1.0</td>\n",
       "    </tr>\n",
       "    <tr>\n",
       "      <th>...</th>\n",
       "      <td>...</td>\n",
       "      <td>...</td>\n",
       "      <td>...</td>\n",
       "      <td>...</td>\n",
       "      <td>...</td>\n",
       "      <td>...</td>\n",
       "      <td>...</td>\n",
       "      <td>...</td>\n",
       "      <td>...</td>\n",
       "      <td>...</td>\n",
       "    </tr>\n",
       "    <tr>\n",
       "      <th>136700</th>\n",
       "      <td>64006414</td>\n",
       "      <td>4.6</td>\n",
       "      <td>4.00</td>\n",
       "      <td>-1.0</td>\n",
       "      <td>-1.0</td>\n",
       "      <td>-1.0</td>\n",
       "      <td>-1.0</td>\n",
       "      <td>6.25</td>\n",
       "      <td>-1.00</td>\n",
       "      <td>-1.0</td>\n",
       "    </tr>\n",
       "    <tr>\n",
       "      <th>136701</th>\n",
       "      <td>64006424</td>\n",
       "      <td>8.2</td>\n",
       "      <td>6.50</td>\n",
       "      <td>-1.0</td>\n",
       "      <td>-1.0</td>\n",
       "      <td>-1.0</td>\n",
       "      <td>-1.0</td>\n",
       "      <td>7.75</td>\n",
       "      <td>-1.00</td>\n",
       "      <td>-1.0</td>\n",
       "    </tr>\n",
       "    <tr>\n",
       "      <th>136702</th>\n",
       "      <td>64006425</td>\n",
       "      <td>-1.0</td>\n",
       "      <td>3.25</td>\n",
       "      <td>-1.0</td>\n",
       "      <td>-1.0</td>\n",
       "      <td>-1.0</td>\n",
       "      <td>-1.0</td>\n",
       "      <td>5.25</td>\n",
       "      <td>6.75</td>\n",
       "      <td>-1.0</td>\n",
       "    </tr>\n",
       "    <tr>\n",
       "      <th>136703</th>\n",
       "      <td>64006430</td>\n",
       "      <td>-1.0</td>\n",
       "      <td>5.75</td>\n",
       "      <td>-1.0</td>\n",
       "      <td>-1.0</td>\n",
       "      <td>-1.0</td>\n",
       "      <td>-1.0</td>\n",
       "      <td>7.75</td>\n",
       "      <td>8.00</td>\n",
       "      <td>-1.0</td>\n",
       "    </tr>\n",
       "    <tr>\n",
       "      <th>136704</th>\n",
       "      <td>64006432</td>\n",
       "      <td>-1.0</td>\n",
       "      <td>3.25</td>\n",
       "      <td>-1.0</td>\n",
       "      <td>-1.0</td>\n",
       "      <td>-1.0</td>\n",
       "      <td>-1.0</td>\n",
       "      <td>4.00</td>\n",
       "      <td>6.75</td>\n",
       "      <td>-1.0</td>\n",
       "    </tr>\n",
       "  </tbody>\n",
       "</table>\n",
       "<p>136705 rows × 10 columns</p>\n",
       "</div>"
      ],
      "text/plain": [
       "        Số báo danh  Toán  Ngữ văn  Ngoại ngữ  Vật lý  Hóa học  Sinh học  \\\n",
       "0           1000009   2.6     5.25       -1.0    -1.0     -1.0      -1.0   \n",
       "1           1000012   6.4     7.50       -1.0    -1.0     -1.0      -1.0   \n",
       "2           1000014   5.8     5.50        6.4    -1.0     -1.0      -1.0   \n",
       "3           1000019   6.8     7.50       -1.0    -1.0     -1.0      -1.0   \n",
       "4           1000020  -1.0     6.75       -1.0    -1.0     -1.0      -1.0   \n",
       "...             ...   ...      ...        ...     ...      ...       ...   \n",
       "136700     64006414   4.6     4.00       -1.0    -1.0     -1.0      -1.0   \n",
       "136701     64006424   8.2     6.50       -1.0    -1.0     -1.0      -1.0   \n",
       "136702     64006425  -1.0     3.25       -1.0    -1.0     -1.0      -1.0   \n",
       "136703     64006430  -1.0     5.75       -1.0    -1.0     -1.0      -1.0   \n",
       "136704     64006432  -1.0     3.25       -1.0    -1.0     -1.0      -1.0   \n",
       "\n",
       "        Lịch sử  Địa lý  GDCD  \n",
       "0          5.25    6.75  -1.0  \n",
       "1          4.75    5.00   8.0  \n",
       "2          8.50    8.00  -1.0  \n",
       "3          7.25    6.25   8.0  \n",
       "4          8.50    8.00  -1.0  \n",
       "...         ...     ...   ...  \n",
       "136700     6.25   -1.00  -1.0  \n",
       "136701     7.75   -1.00  -1.0  \n",
       "136702     5.25    6.75  -1.0  \n",
       "136703     7.75    8.00  -1.0  \n",
       "136704     4.00    6.75  -1.0  \n",
       "\n",
       "[136705 rows x 10 columns]"
      ]
     },
     "execution_count": 32,
     "metadata": {},
     "output_type": "execute_result"
    }
   ],
   "source": [
    "thi_sinh_khong_hop_le.reset_index(drop=True)"
   ]
  },
  {
   "cell_type": "code",
   "execution_count": null,
   "id": "b32d9878",
   "metadata": {},
   "outputs": [],
   "source": []
  },
  {
   "cell_type": "code",
   "execution_count": 33,
   "id": "694ddd36",
   "metadata": {},
   "outputs": [
    {
     "data": {
      "text/plain": [
       "pandas.core.frame.DataFrame"
      ]
     },
     "execution_count": 33,
     "metadata": {},
     "output_type": "execute_result"
    }
   ],
   "source": [
    "type(thi_sinh_hop_le)"
   ]
  },
  {
   "cell_type": "code",
   "execution_count": 34,
   "id": "56b1560c",
   "metadata": {},
   "outputs": [],
   "source": [
    "so_thi_sinh_hop_le = thi_sinh_hop_le.shape[0]"
   ]
  },
  {
   "cell_type": "code",
   "execution_count": 35,
   "id": "b62d5e05",
   "metadata": {},
   "outputs": [],
   "source": [
    "so_thi_sinh_khong_hop_le = all_data.shape[0] - so_thi_sinh_hop_le"
   ]
  },
  {
   "cell_type": "code",
   "execution_count": 36,
   "id": "daa7d0e6",
   "metadata": {},
   "outputs": [
    {
     "name": "stdout",
     "output_type": "stream",
     "text": [
      "136705\n",
      "858736\n"
     ]
    }
   ],
   "source": [
    "print(so_thi_sinh_khong_hop_le)\n",
    "print(so_thi_sinh_hop_le)"
   ]
  },
  {
   "cell_type": "code",
   "execution_count": null,
   "id": "fbaba995",
   "metadata": {},
   "outputs": [],
   "source": []
  },
  {
   "cell_type": "markdown",
   "id": "8524428e",
   "metadata": {},
   "source": [
    "**CÓ trường hợp thí sinh nào thi nhiều hơn 6 môn không**"
   ]
  },
  {
   "cell_type": "code",
   "execution_count": 37,
   "id": "b3d41841",
   "metadata": {},
   "outputs": [],
   "source": [
    "test = all_data[(all_data[\"Toán\"] != -1) \n",
    "                            & (all_data[\"Ngữ văn\"] != -1)\n",
    "                            & (all_data[\"Ngoại ngữ\"] != -1)\n",
    "                            & (all_data[\"Lịch sử\"] != -1)\n",
    "                            & (all_data[\"Địa lý\"] != -1)\n",
    "                            & (all_data[\"GDCD\"] != -1)\n",
    "                            & (all_data[\"Vật lý\"] != -1)]"
   ]
  },
  {
   "cell_type": "code",
   "execution_count": 38,
   "id": "0f0869b7",
   "metadata": {
    "scrolled": false
   },
   "outputs": [
    {
     "data": {
      "text/html": [
       "<div>\n",
       "<style scoped>\n",
       "    .dataframe tbody tr th:only-of-type {\n",
       "        vertical-align: middle;\n",
       "    }\n",
       "\n",
       "    .dataframe tbody tr th {\n",
       "        vertical-align: top;\n",
       "    }\n",
       "\n",
       "    .dataframe thead th {\n",
       "        text-align: right;\n",
       "    }\n",
       "</style>\n",
       "<table border=\"1\" class=\"dataframe\">\n",
       "  <thead>\n",
       "    <tr style=\"text-align: right;\">\n",
       "      <th></th>\n",
       "      <th>Số báo danh</th>\n",
       "      <th>Toán</th>\n",
       "      <th>Ngữ văn</th>\n",
       "      <th>Ngoại ngữ</th>\n",
       "      <th>Vật lý</th>\n",
       "      <th>Hóa học</th>\n",
       "      <th>Sinh học</th>\n",
       "      <th>Lịch sử</th>\n",
       "      <th>Địa lý</th>\n",
       "      <th>GDCD</th>\n",
       "    </tr>\n",
       "  </thead>\n",
       "  <tbody>\n",
       "  </tbody>\n",
       "</table>\n",
       "</div>"
      ],
      "text/plain": [
       "Empty DataFrame\n",
       "Columns: [Số báo danh, Toán, Ngữ văn, Ngoại ngữ, Vật lý, Hóa học, Sinh học, Lịch sử, Địa lý, GDCD]\n",
       "Index: []"
      ]
     },
     "execution_count": 38,
     "metadata": {},
     "output_type": "execute_result"
    }
   ],
   "source": [
    "test"
   ]
  },
  {
   "cell_type": "markdown",
   "id": "49ebcc0c",
   "metadata": {},
   "source": [
    "**TÍnh số môn học sinh thi**"
   ]
  },
  {
   "cell_type": "code",
   "execution_count": 39,
   "id": "feae1822",
   "metadata": {
    "scrolled": false
   },
   "outputs": [
    {
     "name": "stdout",
     "output_type": "stream",
     "text": [
      "6\n",
      "6\n",
      "6\n",
      "6\n",
      "6\n",
      "[0, 0, 0, 0, 0, 0, 5, 0, 0, 0]\n"
     ]
    }
   ],
   "source": [
    "# xác định x là số giá trị -1 của các hàng\n",
    "# lấy 9 trừ đi x\n",
    "# từ 0 đến 9 môn\n",
    "so_mon_thi_sinh_thi = [0,0,0,0,0,0,0,0,0,0]\n",
    "for s in range(5):\n",
    "    #học sinh thứ s\n",
    "#     print(all_data.iloc[s,:])\n",
    "    #đếm số phần từ khác -1 sau đó +1 vào vị trí số phần tử khác -1\n",
    "    tong_so_mon_thi = 0\n",
    "    for i in range(1,10):\n",
    "        if all_data.iloc[s,:][i] != -1:\n",
    "            tong_so_mon_thi += 1\n",
    "#     so_mon_thi_sinh_thi[tong_so_mon_thi] = so_mon_thi_sinh_thi[tong_so_mon_thi] + 1\n",
    "    print(tong_so_mon_thi)\n",
    "    so_mon_thi_sinh_thi[tong_so_mon_thi] += 1\n",
    "#     print(tong_so_mon_thi)\n",
    "print(so_mon_thi_sinh_thi)\n",
    "        \n",
    "    "
   ]
  },
  {
   "cell_type": "code",
   "execution_count": 40,
   "id": "00ce71da",
   "metadata": {},
   "outputs": [
    {
     "name": "stdout",
     "output_type": "stream",
     "text": [
      "[6, 414, 636, 28198, 94695, 12756, 858736, 0, 0, 0]\n"
     ]
    }
   ],
   "source": [
    "# xác định x là số giá trị -1 của các hàng\n",
    "# lấy 9 trừ đi x\n",
    "# từ 0 đến 9 môn\n",
    "so_mon_thi_sinh_thi = [0,0,0,0,0,0,0,0,0,0]\n",
    "for s in range(len(all_data)):\n",
    "    #học sinh thứ s\n",
    "#     print(all_data.iloc[s,:])\n",
    "    #đếm số phần từ khác -1 sau đó +1 vào vị trí số phần tử khác -1\n",
    "    tong_so_mon_thi = 0\n",
    "    for i in range(1,10):\n",
    "        if all_data.iloc[s,:][i] != -1:\n",
    "            tong_so_mon_thi += 1\n",
    "#     so_mon_thi_sinh_thi[tong_so_mon_thi] = so_mon_thi_sinh_thi[tong_so_mon_thi] + 1\n",
    "    so_mon_thi_sinh_thi[tong_so_mon_thi] += 1\n",
    "#     print(tong_so_mon_thi)\n",
    "print(so_mon_thi_sinh_thi)\n",
    "        "
   ]
  },
  {
   "cell_type": "code",
   "execution_count": 43,
   "id": "0eb72c08",
   "metadata": {},
   "outputs": [
    {
     "data": {
      "text/plain": [
       "995441"
      ]
     },
     "execution_count": 43,
     "metadata": {},
     "output_type": "execute_result"
    }
   ],
   "source": [
    "sum(so_mon_thi_sinh_thi)"
   ]
  },
  {
   "cell_type": "code",
   "execution_count": 44,
   "id": "832a25e0",
   "metadata": {},
   "outputs": [],
   "source": [
    "thi_sinh_khong_thi_mon_nao_ca =  all_data[(all_data[\"Toán\"] == -1) \n",
    "                                         & (all_data[\"Ngữ văn\"] == -1) \n",
    "                                         & (all_data[\"Ngoại ngữ\"] == -1) \n",
    "                                         & (all_data[\"Vật lý\"] == -1) \n",
    "                                         & (all_data[\"Hóa học\"] == -1) \n",
    "                                         & (all_data[\"Sinh học\"] == -1)\n",
    "                                         & (all_data[\"Lịch sử\"] == -1)\n",
    "                                         & (all_data[\"Địa lý\"] == -1)\n",
    "                                         & (all_data[\"GDCD\"] == -1)]"
   ]
  },
  {
   "cell_type": "code",
   "execution_count": 45,
   "id": "eeeeb2dc",
   "metadata": {},
   "outputs": [
    {
     "data": {
      "text/html": [
       "<div>\n",
       "<style scoped>\n",
       "    .dataframe tbody tr th:only-of-type {\n",
       "        vertical-align: middle;\n",
       "    }\n",
       "\n",
       "    .dataframe tbody tr th {\n",
       "        vertical-align: top;\n",
       "    }\n",
       "\n",
       "    .dataframe thead th {\n",
       "        text-align: right;\n",
       "    }\n",
       "</style>\n",
       "<table border=\"1\" class=\"dataframe\">\n",
       "  <thead>\n",
       "    <tr style=\"text-align: right;\">\n",
       "      <th></th>\n",
       "      <th>Số báo danh</th>\n",
       "      <th>Toán</th>\n",
       "      <th>Ngữ văn</th>\n",
       "      <th>Ngoại ngữ</th>\n",
       "      <th>Vật lý</th>\n",
       "      <th>Hóa học</th>\n",
       "      <th>Sinh học</th>\n",
       "      <th>Lịch sử</th>\n",
       "      <th>Địa lý</th>\n",
       "      <th>GDCD</th>\n",
       "    </tr>\n",
       "  </thead>\n",
       "  <tbody>\n",
       "    <tr>\n",
       "      <th>289214</th>\n",
       "      <td>14006747</td>\n",
       "      <td>-1.0</td>\n",
       "      <td>-1.0</td>\n",
       "      <td>-1.0</td>\n",
       "      <td>-1.0</td>\n",
       "      <td>-1.0</td>\n",
       "      <td>-1.0</td>\n",
       "      <td>-1.0</td>\n",
       "      <td>-1.0</td>\n",
       "      <td>-1.0</td>\n",
       "    </tr>\n",
       "    <tr>\n",
       "      <th>354593</th>\n",
       "      <td>18015504</td>\n",
       "      <td>-1.0</td>\n",
       "      <td>-1.0</td>\n",
       "      <td>-1.0</td>\n",
       "      <td>-1.0</td>\n",
       "      <td>-1.0</td>\n",
       "      <td>-1.0</td>\n",
       "      <td>-1.0</td>\n",
       "      <td>-1.0</td>\n",
       "      <td>-1.0</td>\n",
       "    </tr>\n",
       "    <tr>\n",
       "      <th>640107</th>\n",
       "      <td>37001975</td>\n",
       "      <td>-1.0</td>\n",
       "      <td>-1.0</td>\n",
       "      <td>-1.0</td>\n",
       "      <td>-1.0</td>\n",
       "      <td>-1.0</td>\n",
       "      <td>-1.0</td>\n",
       "      <td>-1.0</td>\n",
       "      <td>-1.0</td>\n",
       "      <td>-1.0</td>\n",
       "    </tr>\n",
       "    <tr>\n",
       "      <th>697288</th>\n",
       "      <td>40015744</td>\n",
       "      <td>-1.0</td>\n",
       "      <td>-1.0</td>\n",
       "      <td>-1.0</td>\n",
       "      <td>-1.0</td>\n",
       "      <td>-1.0</td>\n",
       "      <td>-1.0</td>\n",
       "      <td>-1.0</td>\n",
       "      <td>-1.0</td>\n",
       "      <td>-1.0</td>\n",
       "    </tr>\n",
       "    <tr>\n",
       "      <th>894448</th>\n",
       "      <td>54004539</td>\n",
       "      <td>-1.0</td>\n",
       "      <td>-1.0</td>\n",
       "      <td>-1.0</td>\n",
       "      <td>-1.0</td>\n",
       "      <td>-1.0</td>\n",
       "      <td>-1.0</td>\n",
       "      <td>-1.0</td>\n",
       "      <td>-1.0</td>\n",
       "      <td>-1.0</td>\n",
       "    </tr>\n",
       "    <tr>\n",
       "      <th>910349</th>\n",
       "      <td>55006110</td>\n",
       "      <td>-1.0</td>\n",
       "      <td>-1.0</td>\n",
       "      <td>-1.0</td>\n",
       "      <td>-1.0</td>\n",
       "      <td>-1.0</td>\n",
       "      <td>-1.0</td>\n",
       "      <td>-1.0</td>\n",
       "      <td>-1.0</td>\n",
       "      <td>-1.0</td>\n",
       "    </tr>\n",
       "  </tbody>\n",
       "</table>\n",
       "</div>"
      ],
      "text/plain": [
       "        Số báo danh  Toán  Ngữ văn  Ngoại ngữ  Vật lý  Hóa học  Sinh học  \\\n",
       "289214     14006747  -1.0     -1.0       -1.0    -1.0     -1.0      -1.0   \n",
       "354593     18015504  -1.0     -1.0       -1.0    -1.0     -1.0      -1.0   \n",
       "640107     37001975  -1.0     -1.0       -1.0    -1.0     -1.0      -1.0   \n",
       "697288     40015744  -1.0     -1.0       -1.0    -1.0     -1.0      -1.0   \n",
       "894448     54004539  -1.0     -1.0       -1.0    -1.0     -1.0      -1.0   \n",
       "910349     55006110  -1.0     -1.0       -1.0    -1.0     -1.0      -1.0   \n",
       "\n",
       "        Lịch sử  Địa lý  GDCD  \n",
       "289214     -1.0    -1.0  -1.0  \n",
       "354593     -1.0    -1.0  -1.0  \n",
       "640107     -1.0    -1.0  -1.0  \n",
       "697288     -1.0    -1.0  -1.0  \n",
       "894448     -1.0    -1.0  -1.0  \n",
       "910349     -1.0    -1.0  -1.0  "
      ]
     },
     "execution_count": 45,
     "metadata": {},
     "output_type": "execute_result"
    }
   ],
   "source": [
    "thi_sinh_khong_thi_mon_nao_ca"
   ]
  },
  {
   "cell_type": "code",
   "execution_count": 46,
   "id": "e12ea347",
   "metadata": {},
   "outputs": [],
   "source": [
    "path_csv = \"./data_ok/data_ok.csv\""
   ]
  },
  {
   "cell_type": "code",
   "execution_count": 47,
   "id": "4b6aa153",
   "metadata": {
    "scrolled": true
   },
   "outputs": [],
   "source": [
    "all_data_csv = pd.read_csv(path_csv,index_col=0)"
   ]
  },
  {
   "cell_type": "code",
   "execution_count": 48,
   "id": "e71c5621",
   "metadata": {
    "scrolled": true
   },
   "outputs": [
    {
     "data": {
      "text/html": [
       "<div>\n",
       "<style scoped>\n",
       "    .dataframe tbody tr th:only-of-type {\n",
       "        vertical-align: middle;\n",
       "    }\n",
       "\n",
       "    .dataframe tbody tr th {\n",
       "        vertical-align: top;\n",
       "    }\n",
       "\n",
       "    .dataframe thead th {\n",
       "        text-align: right;\n",
       "    }\n",
       "</style>\n",
       "<table border=\"1\" class=\"dataframe\">\n",
       "  <thead>\n",
       "    <tr style=\"text-align: right;\">\n",
       "      <th></th>\n",
       "      <th>toan</th>\n",
       "      <th>ngu_van</th>\n",
       "      <th>ngoai_ngu</th>\n",
       "      <th>vat_li</th>\n",
       "      <th>hoa_hoc</th>\n",
       "      <th>sinh_hoc</th>\n",
       "      <th>lich_su</th>\n",
       "      <th>dia_li</th>\n",
       "      <th>gdcd</th>\n",
       "    </tr>\n",
       "    <tr>\n",
       "      <th>sbd</th>\n",
       "      <th></th>\n",
       "      <th></th>\n",
       "      <th></th>\n",
       "      <th></th>\n",
       "      <th></th>\n",
       "      <th></th>\n",
       "      <th></th>\n",
       "      <th></th>\n",
       "      <th></th>\n",
       "    </tr>\n",
       "  </thead>\n",
       "  <tbody>\n",
       "    <tr>\n",
       "      <th>1000001</th>\n",
       "      <td>3.6</td>\n",
       "      <td>5.00</td>\n",
       "      <td>4.0</td>\n",
       "      <td>NaN</td>\n",
       "      <td>NaN</td>\n",
       "      <td>NaN</td>\n",
       "      <td>2.75</td>\n",
       "      <td>6.00</td>\n",
       "      <td>8.75</td>\n",
       "    </tr>\n",
       "    <tr>\n",
       "      <th>1000002</th>\n",
       "      <td>8.4</td>\n",
       "      <td>6.75</td>\n",
       "      <td>7.6</td>\n",
       "      <td>NaN</td>\n",
       "      <td>NaN</td>\n",
       "      <td>NaN</td>\n",
       "      <td>8.50</td>\n",
       "      <td>7.50</td>\n",
       "      <td>8.25</td>\n",
       "    </tr>\n",
       "    <tr>\n",
       "      <th>1000003</th>\n",
       "      <td>5.8</td>\n",
       "      <td>7.50</td>\n",
       "      <td>5.0</td>\n",
       "      <td>NaN</td>\n",
       "      <td>NaN</td>\n",
       "      <td>NaN</td>\n",
       "      <td>7.25</td>\n",
       "      <td>5.50</td>\n",
       "      <td>8.75</td>\n",
       "    </tr>\n",
       "    <tr>\n",
       "      <th>1000004</th>\n",
       "      <td>7.4</td>\n",
       "      <td>7.50</td>\n",
       "      <td>8.6</td>\n",
       "      <td>NaN</td>\n",
       "      <td>NaN</td>\n",
       "      <td>NaN</td>\n",
       "      <td>7.50</td>\n",
       "      <td>6.50</td>\n",
       "      <td>7.50</td>\n",
       "    </tr>\n",
       "    <tr>\n",
       "      <th>1000005</th>\n",
       "      <td>7.2</td>\n",
       "      <td>8.50</td>\n",
       "      <td>9.0</td>\n",
       "      <td>NaN</td>\n",
       "      <td>NaN</td>\n",
       "      <td>NaN</td>\n",
       "      <td>8.00</td>\n",
       "      <td>8.50</td>\n",
       "      <td>8.25</td>\n",
       "    </tr>\n",
       "    <tr>\n",
       "      <th>...</th>\n",
       "      <td>...</td>\n",
       "      <td>...</td>\n",
       "      <td>...</td>\n",
       "      <td>...</td>\n",
       "      <td>...</td>\n",
       "      <td>...</td>\n",
       "      <td>...</td>\n",
       "      <td>...</td>\n",
       "      <td>...</td>\n",
       "    </tr>\n",
       "    <tr>\n",
       "      <th>64006584</th>\n",
       "      <td>8.4</td>\n",
       "      <td>6.75</td>\n",
       "      <td>4.6</td>\n",
       "      <td>NaN</td>\n",
       "      <td>NaN</td>\n",
       "      <td>NaN</td>\n",
       "      <td>6.50</td>\n",
       "      <td>6.75</td>\n",
       "      <td>9.00</td>\n",
       "    </tr>\n",
       "    <tr>\n",
       "      <th>64006585</th>\n",
       "      <td>5.6</td>\n",
       "      <td>6.50</td>\n",
       "      <td>2.8</td>\n",
       "      <td>NaN</td>\n",
       "      <td>NaN</td>\n",
       "      <td>NaN</td>\n",
       "      <td>6.25</td>\n",
       "      <td>6.75</td>\n",
       "      <td>8.50</td>\n",
       "    </tr>\n",
       "    <tr>\n",
       "      <th>64006586</th>\n",
       "      <td>5.8</td>\n",
       "      <td>6.00</td>\n",
       "      <td>6.6</td>\n",
       "      <td>NaN</td>\n",
       "      <td>NaN</td>\n",
       "      <td>NaN</td>\n",
       "      <td>7.25</td>\n",
       "      <td>8.00</td>\n",
       "      <td>8.00</td>\n",
       "    </tr>\n",
       "    <tr>\n",
       "      <th>64006587</th>\n",
       "      <td>7.6</td>\n",
       "      <td>6.75</td>\n",
       "      <td>7.0</td>\n",
       "      <td>NaN</td>\n",
       "      <td>NaN</td>\n",
       "      <td>NaN</td>\n",
       "      <td>8.75</td>\n",
       "      <td>7.25</td>\n",
       "      <td>9.75</td>\n",
       "    </tr>\n",
       "    <tr>\n",
       "      <th>64006588</th>\n",
       "      <td>6.6</td>\n",
       "      <td>4.50</td>\n",
       "      <td>3.2</td>\n",
       "      <td>NaN</td>\n",
       "      <td>NaN</td>\n",
       "      <td>NaN</td>\n",
       "      <td>3.00</td>\n",
       "      <td>6.00</td>\n",
       "      <td>7.50</td>\n",
       "    </tr>\n",
       "  </tbody>\n",
       "</table>\n",
       "<p>995441 rows × 9 columns</p>\n",
       "</div>"
      ],
      "text/plain": [
       "          toan  ngu_van  ngoai_ngu  vat_li  hoa_hoc  sinh_hoc  lich_su  \\\n",
       "sbd                                                                      \n",
       "1000001    3.6     5.00        4.0     NaN      NaN       NaN     2.75   \n",
       "1000002    8.4     6.75        7.6     NaN      NaN       NaN     8.50   \n",
       "1000003    5.8     7.50        5.0     NaN      NaN       NaN     7.25   \n",
       "1000004    7.4     7.50        8.6     NaN      NaN       NaN     7.50   \n",
       "1000005    7.2     8.50        9.0     NaN      NaN       NaN     8.00   \n",
       "...        ...      ...        ...     ...      ...       ...      ...   \n",
       "64006584   8.4     6.75        4.6     NaN      NaN       NaN     6.50   \n",
       "64006585   5.6     6.50        2.8     NaN      NaN       NaN     6.25   \n",
       "64006586   5.8     6.00        6.6     NaN      NaN       NaN     7.25   \n",
       "64006587   7.6     6.75        7.0     NaN      NaN       NaN     8.75   \n",
       "64006588   6.6     4.50        3.2     NaN      NaN       NaN     3.00   \n",
       "\n",
       "          dia_li  gdcd  \n",
       "sbd                     \n",
       "1000001     6.00  8.75  \n",
       "1000002     7.50  8.25  \n",
       "1000003     5.50  8.75  \n",
       "1000004     6.50  7.50  \n",
       "1000005     8.50  8.25  \n",
       "...          ...   ...  \n",
       "64006584    6.75  9.00  \n",
       "64006585    6.75  8.50  \n",
       "64006586    8.00  8.00  \n",
       "64006587    7.25  9.75  \n",
       "64006588    6.00  7.50  \n",
       "\n",
       "[995441 rows x 9 columns]"
      ]
     },
     "execution_count": 48,
     "metadata": {},
     "output_type": "execute_result"
    }
   ],
   "source": [
    "all_data_csv"
   ]
  },
  {
   "cell_type": "markdown",
   "id": "cb2ae2ad",
   "metadata": {},
   "source": [
    "<center>\n",
    "<h1> Phân tích về phổ điểm tất cả các môn</h1>\n",
    "    </center>"
   ]
  },
  {
   "cell_type": "markdown",
   "id": "94662176",
   "metadata": {},
   "source": [
    "<center>\n",
    "    <h2>\n",
    "        Phổ điểm môn Toán\n",
    "    </h2>\n",
    "</center>"
   ]
  },
  {
   "cell_type": "code",
   "execution_count": 49,
   "id": "1485233d",
   "metadata": {},
   "outputs": [],
   "source": [
    "# Phổ điểm môn toán\n",
    "diem_toan = all_data[[\"Toán\"]]"
   ]
  },
  {
   "cell_type": "code",
   "execution_count": 50,
   "id": "ba282ff1",
   "metadata": {},
   "outputs": [
    {
     "data": {
      "text/html": [
       "<div>\n",
       "<style scoped>\n",
       "    .dataframe tbody tr th:only-of-type {\n",
       "        vertical-align: middle;\n",
       "    }\n",
       "\n",
       "    .dataframe tbody tr th {\n",
       "        vertical-align: top;\n",
       "    }\n",
       "\n",
       "    .dataframe thead th {\n",
       "        text-align: right;\n",
       "    }\n",
       "</style>\n",
       "<table border=\"1\" class=\"dataframe\">\n",
       "  <thead>\n",
       "    <tr style=\"text-align: right;\">\n",
       "      <th></th>\n",
       "      <th>Toán</th>\n",
       "    </tr>\n",
       "  </thead>\n",
       "  <tbody>\n",
       "    <tr>\n",
       "      <th>0</th>\n",
       "      <td>3.6</td>\n",
       "    </tr>\n",
       "    <tr>\n",
       "      <th>1</th>\n",
       "      <td>8.4</td>\n",
       "    </tr>\n",
       "    <tr>\n",
       "      <th>2</th>\n",
       "      <td>5.8</td>\n",
       "    </tr>\n",
       "    <tr>\n",
       "      <th>3</th>\n",
       "      <td>7.4</td>\n",
       "    </tr>\n",
       "    <tr>\n",
       "      <th>4</th>\n",
       "      <td>7.2</td>\n",
       "    </tr>\n",
       "    <tr>\n",
       "      <th>...</th>\n",
       "      <td>...</td>\n",
       "    </tr>\n",
       "    <tr>\n",
       "      <th>995436</th>\n",
       "      <td>8.4</td>\n",
       "    </tr>\n",
       "    <tr>\n",
       "      <th>995437</th>\n",
       "      <td>5.6</td>\n",
       "    </tr>\n",
       "    <tr>\n",
       "      <th>995438</th>\n",
       "      <td>5.8</td>\n",
       "    </tr>\n",
       "    <tr>\n",
       "      <th>995439</th>\n",
       "      <td>7.6</td>\n",
       "    </tr>\n",
       "    <tr>\n",
       "      <th>995440</th>\n",
       "      <td>6.6</td>\n",
       "    </tr>\n",
       "  </tbody>\n",
       "</table>\n",
       "<p>995441 rows × 1 columns</p>\n",
       "</div>"
      ],
      "text/plain": [
       "        Toán\n",
       "0        3.6\n",
       "1        8.4\n",
       "2        5.8\n",
       "3        7.4\n",
       "4        7.2\n",
       "...      ...\n",
       "995436   8.4\n",
       "995437   5.6\n",
       "995438   5.8\n",
       "995439   7.6\n",
       "995440   6.6\n",
       "\n",
       "[995441 rows x 1 columns]"
      ]
     },
     "execution_count": 50,
     "metadata": {},
     "output_type": "execute_result"
    }
   ],
   "source": [
    "diem_toan"
   ]
  },
  {
   "cell_type": "code",
   "execution_count": 51,
   "id": "efcc2594",
   "metadata": {},
   "outputs": [],
   "source": [
    "so_luong_cac_dau_diem_toan = diem_toan.value_counts().sort_index()"
   ]
  },
  {
   "cell_type": "code",
   "execution_count": 52,
   "id": "3f3d2f3e",
   "metadata": {
    "scrolled": false
   },
   "outputs": [
    {
     "name": "stdout",
     "output_type": "stream",
     "text": [
      "Toán \n",
      "-1.0     12715\n",
      " 0.0         3\n",
      " 0.2         1\n",
      " 0.4         3\n",
      " 0.6         6\n",
      " 0.8        42\n",
      " 1.0       109\n",
      " 1.2       260\n",
      " 1.4       568\n",
      " 1.6      1129\n",
      " 1.8      1980\n",
      " 2.0      3123\n",
      " 2.2      4373\n",
      " 2.4      5965\n",
      " 2.6      7207\n",
      " 2.8      8533\n",
      " 3.0      9661\n",
      " 3.2     10724\n",
      " 3.4     11981\n",
      " 3.6     13066\n",
      " 3.8     14265\n",
      " 4.0     15359\n",
      " 4.2     16898\n",
      " 4.4     18528\n",
      " 4.6     20204\n",
      " 4.8     22232\n",
      " 5.0     23712\n",
      " 5.2     25704\n",
      " 5.4     27651\n",
      " 5.6     29634\n",
      " 5.8     31292\n",
      " 6.0     33409\n",
      " 6.2     35357\n",
      " 6.4     37964\n",
      " 6.6     40132\n",
      " 6.8     42732\n",
      " 7.0     45808\n",
      " 7.2     48716\n",
      " 7.4     51490\n",
      " 7.6     53693\n",
      " 7.8     54495\n",
      " 8.0     52273\n",
      " 8.2     48222\n",
      " 8.4     40654\n",
      " 8.6     31021\n",
      " 8.8     20796\n",
      " 9.0     12095\n",
      " 9.2      5915\n",
      " 9.4      2540\n",
      " 9.6       926\n",
      " 9.8       240\n",
      " 10.0       35\n",
      "dtype: int64\n"
     ]
    }
   ],
   "source": [
    "print(so_luong_cac_dau_diem_toan)"
   ]
  },
  {
   "cell_type": "code",
   "execution_count": 53,
   "id": "677e7d25",
   "metadata": {},
   "outputs": [
    {
     "data": {
      "text/plain": [
       "52"
      ]
     },
     "execution_count": 53,
     "metadata": {},
     "output_type": "execute_result"
    }
   ],
   "source": [
    "so_luong_cac_dau_diem_toan.shape[0]"
   ]
  },
  {
   "cell_type": "code",
   "execution_count": 54,
   "id": "7d9fa4af",
   "metadata": {},
   "outputs": [],
   "source": [
    "index_so_luong_cac_dau_diem_toan = so_luong_cac_dau_diem_toan.index"
   ]
  },
  {
   "cell_type": "code",
   "execution_count": 55,
   "id": "97a9e9a2",
   "metadata": {
    "scrolled": true
   },
   "outputs": [
    {
     "data": {
      "text/plain": [
       "Toán    float64\n",
       "dtype: object"
      ]
     },
     "execution_count": 55,
     "metadata": {},
     "output_type": "execute_result"
    }
   ],
   "source": [
    "index_so_luong_cac_dau_diem_toan.dtypes"
   ]
  },
  {
   "cell_type": "code",
   "execution_count": 56,
   "id": "9f764230",
   "metadata": {},
   "outputs": [],
   "source": [
    "value_so_luong_cac_dau_diem_toan = so_luong_cac_dau_diem_toan.values"
   ]
  },
  {
   "cell_type": "code",
   "execution_count": 57,
   "id": "dae133ed",
   "metadata": {},
   "outputs": [
    {
     "name": "stdout",
     "output_type": "stream",
     "text": [
      "<class 'numpy.ndarray'>\n",
      "52\n"
     ]
    },
    {
     "data": {
      "text/plain": [
       "array([12715,     3,     1,     3,     6,    42,   109,   260,   568,\n",
       "        1129,  1980,  3123,  4373,  5965,  7207,  8533,  9661, 10724,\n",
       "       11981, 13066, 14265, 15359, 16898, 18528, 20204, 22232, 23712,\n",
       "       25704, 27651, 29634, 31292, 33409, 35357, 37964, 40132, 42732,\n",
       "       45808, 48716, 51490, 53693, 54495, 52273, 48222, 40654, 31021,\n",
       "       20796, 12095,  5915,  2540,   926,   240,    35], dtype=int64)"
      ]
     },
     "execution_count": 57,
     "metadata": {},
     "output_type": "execute_result"
    }
   ],
   "source": [
    "print(type(value_so_luong_cac_dau_diem_toan))\n",
    "print(len(value_so_luong_cac_dau_diem_toan))\n",
    "value_so_luong_cac_dau_diem_toan"
   ]
  },
  {
   "cell_type": "code",
   "execution_count": 58,
   "id": "75b6cfdc",
   "metadata": {
    "scrolled": false
   },
   "outputs": [
    {
     "name": "stdout",
     "output_type": "stream",
     "text": [
      "52\n",
      "[-1, 0.0, 0.2, 0.4, 0.6, 0.8, 1.0, 1.2, 1.4, 1.6, 1.8, 2.0, 2.2, 2.4, 2.6, 2.8, 3.0, 3.2, 3.4, 3.6, 3.8, 4.0, 4.2, 4.4, 4.6, 4.8, 5.0, 5.2, 5.4, 5.6, 5.8, 6.0, 6.2, 6.4, 6.6, 6.8, 7.0, 7.2, 7.4, 7.6, 7.8, 8.0, 8.2, 8.4, 8.6, 8.8, 9.0, 9.2, 9.4, 9.6, 9.8, 10.0]\n"
     ]
    }
   ],
   "source": [
    "# type(index_so_luong_cac_dau_diem_toan)\n",
    "print(len(index_so_luong_cac_dau_diem_toan))\n",
    "# print(index_so_luong_cac_dau_diem_toan)\n",
    "# print(index_so_luong_cac_dau_diem_toan[2])\n",
    "# index_so_luong_cac_dau_diem_toan[2]\n",
    "# print(index_so_luong_cac_dau_diem_toan)\n",
    "list_dau_diem = [-1]\n",
    "for i in range(0,51):\n",
    "    list_dau_diem.append(round(i*0.2,2))\n",
    "print(list_dau_diem)"
   ]
  },
  {
   "cell_type": "code",
   "execution_count": 62,
   "id": "4fd53ea4",
   "metadata": {},
   "outputs": [],
   "source": [
    "# function to add value labels\n",
    "def addlabels(x,y):\n",
    "    for i in range(len(x)):\n",
    "        plt.text(i, y[i], y[i], ha = 'center',rotation=\"vertical\", size = \"10\",weight=\"demi\")"
   ]
  },
  {
   "cell_type": "code",
   "execution_count": 63,
   "id": "a4f5d01f",
   "metadata": {
    "scrolled": true
   },
   "outputs": [
    {
     "data": {
      "image/png": "[encoded data removed]",
      "text/plain": [
       "<Figure size 2160x720 with 1 Axes>"
      ]
     },
     "metadata": {
      "needs_background": "light"
     },
     "output_type": "display_data"
    }
   ],
   "source": [
    "import matplotlib.pyplot as plt; plt.rcdefaults()\n",
    "import numpy as np\n",
    "import matplotlib.pyplot as plt\n",
    "plt.figure(figsize = (30,10))\n",
    "# objects = ('Python', 'C++', 'Java', 'Perl', 'Scala', 'Lisp')\n",
    "y_pos = np.arange(len(list_dau_diem))\n",
    "# performance = [10,8,6,4,2,1]\n",
    "\n",
    "plt.bar(y_pos, value_so_luong_cac_dau_diem_toan)\n",
    "plt.xticks(y_pos, list_dau_diem,fontsize=13, rotation=90)\n",
    "plt.yticks(fontsize=13)\n",
    "\n",
    "\n",
    "plt.xlabel('Thang điểm', fontsize=15)\n",
    "plt.ylabel('Số học sinh' ,fontsize=15)\n",
    "plt.title('Phổ điểm môn toán', fontsize=15)\n",
    "\n",
    "addlabels(list_dau_diem,value_so_luong_cac_dau_diem_toan)\n",
    "plt.savefig('Save_charts/Pho_diem_mon_toan.pdf',dpi=1500,format='pdf') #lưu file PDF\n",
    "plt.show()\n",
    "\n"
   ]
  },
  {
   "cell_type": "code",
   "execution_count": null,
   "id": "10b048b7",
   "metadata": {},
   "outputs": [],
   "source": []
  },
  {
   "cell_type": "markdown",
   "id": "497cbd8e",
   "metadata": {},
   "source": [
    "<center>\n",
    "    <h2>\n",
    "        Phổ điểm môn Ngoại ngữ\n",
    "    </h2>\n",
    "</center>"
   ]
  },
  {
   "cell_type": "code",
   "execution_count": 64,
   "id": "0cd33eac",
   "metadata": {},
   "outputs": [],
   "source": [
    "# Phổ điểm môn Ngữ văn\n",
    "diem_mon_ngoai_ngu = all_data[[\"Ngoại ngữ\"]]"
   ]
  },
  {
   "cell_type": "code",
   "execution_count": 65,
   "id": "72a8a840",
   "metadata": {
    "scrolled": true
   },
   "outputs": [
    {
     "name": "stdout",
     "output_type": "stream",
     "text": [
      "Ngoại ngữ\n",
      "-1.0         124832\n",
      " 0.0              8\n",
      " 0.4              4\n",
      " 0.6             23\n",
      " 0.8            112\n",
      " 1.0            271\n",
      " 1.2            679\n",
      " 1.4           1374\n",
      " 1.6           2928\n",
      " 1.8           5114\n",
      " 2.0           8278\n",
      " 2.2          12263\n",
      " 2.4          16824\n",
      " 2.6          21618\n",
      " 2.8          26131\n",
      " 3.0          30244\n",
      " 3.2          33381\n",
      " 3.4          35688\n",
      " 3.6          36953\n",
      " 3.8          38129\n",
      " 4.0          37943\n",
      " 4.2          36657\n",
      " 4.4          36018\n",
      " 4.6          34109\n",
      " 4.8          32649\n",
      " 5.0          30770\n",
      " 5.2          29151\n",
      " 5.4          27345\n",
      " 5.6          25539\n",
      " 5.8          23957\n",
      " 6.0          22510\n",
      " 6.2          21299\n",
      " 6.4          19849\n",
      " 6.6          19089\n",
      " 6.8          18156\n",
      " 7.0          17216\n",
      " 7.2          16405\n",
      " 7.4          15917\n",
      " 7.6          15477\n",
      " 7.8          15274\n",
      " 8.0          14852\n",
      " 8.2          14677\n",
      " 8.4          14363\n",
      " 8.6          13848\n",
      " 8.8          12832\n",
      " 9.0          11310\n",
      " 9.2           9288\n",
      " 9.4           6987\n",
      " 9.6           4395\n",
      " 9.8           2150\n",
      " 10.0           555\n",
      "dtype: int64\n",
      "51\n"
     ]
    }
   ],
   "source": [
    "so_luong_cac_dau_diem_ngoai_ngu = diem_mon_ngoai_ngu.value_counts().sort_index()\n",
    "print(so_luong_cac_dau_diem_ngoai_ngu)\n",
    "print(so_luong_cac_dau_diem_ngoai_ngu.shape[0])"
   ]
  },
  {
   "cell_type": "code",
   "execution_count": 66,
   "id": "4905098d",
   "metadata": {},
   "outputs": [],
   "source": [
    "value_so_luong_cac_dau_diem_ngoai_ngu = so_luong_cac_dau_diem_ngoai_ngu.values"
   ]
  },
  {
   "cell_type": "code",
   "execution_count": 67,
   "id": "65658d95",
   "metadata": {},
   "outputs": [
    {
     "name": "stdout",
     "output_type": "stream",
     "text": [
      "[-1, 0, 0.4, 0.6, 0.8, 1.0, 1.2, 1.4, 1.6, 1.8, 2.0, 2.2, 2.4, 2.6, 2.8, 3.0, 3.2, 3.4, 3.6, 3.8, 4.0, 4.2, 4.4, 4.6, 4.8, 5.0, 5.2, 5.4, 5.6, 5.8, 6.0, 6.2, 6.4, 6.6, 6.8, 7.0, 7.2, 7.4, 7.6, 7.8, 8.0, 8.2, 8.4, 8.6, 8.8, 9.0, 9.2, 9.4, 9.6, 9.8, 10.0]\n"
     ]
    }
   ],
   "source": [
    "#list các đầu điểm ngoại ngữ\n",
    "list_cac_dau_diem_ngoai_ngu = [-1, 0]\n",
    "for i in range(2,51):\n",
    "    list_cac_dau_diem_ngoai_ngu.append(round(i*0.2, 2))\n",
    "print(list_cac_dau_diem_ngoai_ngu)"
   ]
  },
  {
   "cell_type": "code",
   "execution_count": 68,
   "id": "8a66cc3b",
   "metadata": {},
   "outputs": [
    {
     "data": {
      "image/png": "[encoded data removed]",
      "text/plain": [
       "<Figure size 3000x1000 with 1 Axes>"
      ]
     },
     "metadata": {},
     "output_type": "display_data"
    }
   ],
   "source": [
    "import matplotlib.pyplot as plt; plt.rcdefaults()\n",
    "import numpy as np\n",
    "import matplotlib.pyplot as plt\n",
    "plt.figure(figsize = (30,10))\n",
    "y_pos = np.arange(len(list_cac_dau_diem_ngoai_ngu))\n",
    "\n",
    "plt.bar(y_pos, value_so_luong_cac_dau_diem_ngoai_ngu)\n",
    "plt.xticks(y_pos, list_cac_dau_diem_ngoai_ngu,fontsize=13, rotation=90)\n",
    "plt.yticks(fontsize=13)\n",
    "\n",
    "\n",
    "plt.xlabel('Thang điểm', fontsize=15)\n",
    "plt.ylabel('Số học sinh' ,fontsize=15)\n",
    "plt.title('Phổ điểm môn Ngoại ngữ', fontsize=15)\n",
    "\n",
    "addlabels(list_cac_dau_diem_ngoai_ngu,value_so_luong_cac_dau_diem_ngoai_ngu)\n",
    "plt.savefig('Save_charts/Pho_diem_mon_ngoai_ngu.pdf',dpi=1500,format='pdf') #lưu file PDF\n",
    "plt.show()\n",
    "\n"
   ]
  },
  {
   "cell_type": "code",
   "execution_count": null,
   "id": "1573d643",
   "metadata": {},
   "outputs": [],
   "source": []
  },
  {
   "cell_type": "code",
   "execution_count": null,
   "id": "f5a663ab",
   "metadata": {},
   "outputs": [],
   "source": []
  },
  {
   "cell_type": "markdown",
   "id": "d94bd267",
   "metadata": {},
   "source": [
    "<center>\n",
    "    <h1>\n",
    "        Phân tích về tỉ lệ bỏ thi\n",
    "    </h1>\n",
    "</center>"
   ]
  },
  {
   "cell_type": "markdown",
   "id": "0ecc6128",
   "metadata": {},
   "source": [
    "<center>\n",
    "<h3>\n",
    "    Thứ tự môn thi là Văn - Toán - Tổ hợp - Ngoại ngữ <br>\n",
    "    Thời gian thi lần lượt là sáng - chiều - sáng - chiều <br>\n",
    "    Có hay không việc số lượng thí sinh bỏ phụ thuộc vào điểm những bài thi đầu tiên\n",
    "</h3>\n",
    "</center>"
   ]
  },
  {
   "cell_type": "code",
   "execution_count": 69,
   "id": "c2954b80",
   "metadata": {},
   "outputs": [],
   "source": [
    "so_luong_thi_sinh_bo_thi_mon_ngu_van = all_data[(all_data[\"Ngữ văn\"] == -1)]"
   ]
  },
  {
   "cell_type": "code",
   "execution_count": 70,
   "id": "bcb88763",
   "metadata": {},
   "outputs": [
    {
     "data": {
      "text/plain": [
       "14034"
      ]
     },
     "execution_count": 70,
     "metadata": {},
     "output_type": "execute_result"
    }
   ],
   "source": [
    "so_luong_thi_sinh_bo_thi_mon_ngu_van.shape[0]"
   ]
  },
  {
   "cell_type": "code",
   "execution_count": 71,
   "id": "ca04fe33",
   "metadata": {},
   "outputs": [],
   "source": [
    "so_luong_thi_sinh_bo_thi_mon_toan = all_data[(all_data[\"Toán\"] == -1)]"
   ]
  },
  {
   "cell_type": "code",
   "execution_count": 72,
   "id": "13ff65a3",
   "metadata": {},
   "outputs": [
    {
     "data": {
      "text/plain": [
       "12715"
      ]
     },
     "execution_count": 72,
     "metadata": {},
     "output_type": "execute_result"
    }
   ],
   "source": [
    "so_luong_thi_sinh_bo_thi_mon_toan.shape[0]"
   ]
  },
  {
   "cell_type": "code",
   "execution_count": 73,
   "id": "c3f7d63b",
   "metadata": {},
   "outputs": [],
   "source": [
    "so_luong_thi_sinh_bo_thi_mon_ngoai_ngu = all_data[(all_data[\"Ngoại ngữ\"] == -1)]"
   ]
  },
  {
   "cell_type": "markdown",
   "id": "dae603b2",
   "metadata": {},
   "source": []
  },
  {
   "cell_type": "code",
   "execution_count": 74,
   "id": "1786c700",
   "metadata": {},
   "outputs": [
    {
     "data": {
      "text/plain": [
       "124832"
      ]
     },
     "execution_count": 74,
     "metadata": {},
     "output_type": "execute_result"
    }
   ],
   "source": [
    "so_luong_thi_sinh_bo_thi_mon_ngoai_ngu.shape[0]"
   ]
  },
  {
   "cell_type": "code",
   "execution_count": 75,
   "id": "38102a7b",
   "metadata": {},
   "outputs": [],
   "source": [
    "so_luong_thi_sinh_chon_thi_khtn = all_data[(all_data[\"Vật lý\"] != -1) \n",
    "                            | (all_data[\"Sinh học\"] != -1)\n",
    "                            | (all_data[\"Hóa học\"] != -1)]"
   ]
  },
  {
   "cell_type": "code",
   "execution_count": 76,
   "id": "55ae93b6",
   "metadata": {
    "scrolled": false
   },
   "outputs": [
    {
     "data": {
      "text/plain": [
       "329235"
      ]
     },
     "execution_count": 76,
     "metadata": {},
     "output_type": "execute_result"
    }
   ],
   "source": [
    "so_luong_thi_sinh_chon_thi_khtn.shape[0]"
   ]
  },
  {
   "cell_type": "code",
   "execution_count": 77,
   "id": "48d9dcaf",
   "metadata": {},
   "outputs": [
    {
     "data": {
      "text/html": [
       "<div>\n",
       "<style scoped>\n",
       "    .dataframe tbody tr th:only-of-type {\n",
       "        vertical-align: middle;\n",
       "    }\n",
       "\n",
       "    .dataframe tbody tr th {\n",
       "        vertical-align: top;\n",
       "    }\n",
       "\n",
       "    .dataframe thead th {\n",
       "        text-align: right;\n",
       "    }\n",
       "</style>\n",
       "<table border=\"1\" class=\"dataframe\">\n",
       "  <thead>\n",
       "    <tr style=\"text-align: right;\">\n",
       "      <th></th>\n",
       "      <th>Số báo danh</th>\n",
       "      <th>Toán</th>\n",
       "      <th>Ngữ văn</th>\n",
       "      <th>Ngoại ngữ</th>\n",
       "      <th>Vật lý</th>\n",
       "      <th>Hóa học</th>\n",
       "      <th>Sinh học</th>\n",
       "      <th>Lịch sử</th>\n",
       "      <th>Địa lý</th>\n",
       "      <th>GDCD</th>\n",
       "    </tr>\n",
       "  </thead>\n",
       "  <tbody>\n",
       "    <tr>\n",
       "      <th>10</th>\n",
       "      <td>1000011</td>\n",
       "      <td>6.4</td>\n",
       "      <td>7.25</td>\n",
       "      <td>7.6</td>\n",
       "      <td>3.50</td>\n",
       "      <td>8.00</td>\n",
       "      <td>3.00</td>\n",
       "      <td>-1.0</td>\n",
       "      <td>-1.0</td>\n",
       "      <td>-1.0</td>\n",
       "    </tr>\n",
       "    <tr>\n",
       "      <th>14</th>\n",
       "      <td>1000015</td>\n",
       "      <td>8.6</td>\n",
       "      <td>7.25</td>\n",
       "      <td>9.6</td>\n",
       "      <td>8.25</td>\n",
       "      <td>3.25</td>\n",
       "      <td>4.25</td>\n",
       "      <td>-1.0</td>\n",
       "      <td>-1.0</td>\n",
       "      <td>-1.0</td>\n",
       "    </tr>\n",
       "    <tr>\n",
       "      <th>15</th>\n",
       "      <td>1000016</td>\n",
       "      <td>7.8</td>\n",
       "      <td>5.75</td>\n",
       "      <td>8.4</td>\n",
       "      <td>4.25</td>\n",
       "      <td>8.00</td>\n",
       "      <td>4.75</td>\n",
       "      <td>-1.0</td>\n",
       "      <td>-1.0</td>\n",
       "      <td>-1.0</td>\n",
       "    </tr>\n",
       "    <tr>\n",
       "      <th>16</th>\n",
       "      <td>1000017</td>\n",
       "      <td>8.6</td>\n",
       "      <td>6.25</td>\n",
       "      <td>7.0</td>\n",
       "      <td>7.00</td>\n",
       "      <td>3.50</td>\n",
       "      <td>3.75</td>\n",
       "      <td>-1.0</td>\n",
       "      <td>-1.0</td>\n",
       "      <td>-1.0</td>\n",
       "    </tr>\n",
       "    <tr>\n",
       "      <th>22</th>\n",
       "      <td>1000023</td>\n",
       "      <td>6.8</td>\n",
       "      <td>6.00</td>\n",
       "      <td>6.8</td>\n",
       "      <td>2.50</td>\n",
       "      <td>5.50</td>\n",
       "      <td>3.00</td>\n",
       "      <td>-1.0</td>\n",
       "      <td>-1.0</td>\n",
       "      <td>-1.0</td>\n",
       "    </tr>\n",
       "    <tr>\n",
       "      <th>...</th>\n",
       "      <td>...</td>\n",
       "      <td>...</td>\n",
       "      <td>...</td>\n",
       "      <td>...</td>\n",
       "      <td>...</td>\n",
       "      <td>...</td>\n",
       "      <td>...</td>\n",
       "      <td>...</td>\n",
       "      <td>...</td>\n",
       "      <td>...</td>\n",
       "    </tr>\n",
       "    <tr>\n",
       "      <th>995410</th>\n",
       "      <td>64006558</td>\n",
       "      <td>8.0</td>\n",
       "      <td>5.00</td>\n",
       "      <td>3.0</td>\n",
       "      <td>6.00</td>\n",
       "      <td>8.00</td>\n",
       "      <td>2.75</td>\n",
       "      <td>-1.0</td>\n",
       "      <td>-1.0</td>\n",
       "      <td>-1.0</td>\n",
       "    </tr>\n",
       "    <tr>\n",
       "      <th>995411</th>\n",
       "      <td>64006559</td>\n",
       "      <td>5.8</td>\n",
       "      <td>4.75</td>\n",
       "      <td>3.6</td>\n",
       "      <td>4.75</td>\n",
       "      <td>3.50</td>\n",
       "      <td>3.50</td>\n",
       "      <td>-1.0</td>\n",
       "      <td>-1.0</td>\n",
       "      <td>-1.0</td>\n",
       "    </tr>\n",
       "    <tr>\n",
       "      <th>995423</th>\n",
       "      <td>64006571</td>\n",
       "      <td>6.4</td>\n",
       "      <td>6.50</td>\n",
       "      <td>3.4</td>\n",
       "      <td>6.75</td>\n",
       "      <td>6.00</td>\n",
       "      <td>5.25</td>\n",
       "      <td>-1.0</td>\n",
       "      <td>-1.0</td>\n",
       "      <td>-1.0</td>\n",
       "    </tr>\n",
       "    <tr>\n",
       "      <th>995427</th>\n",
       "      <td>64006575</td>\n",
       "      <td>5.8</td>\n",
       "      <td>5.25</td>\n",
       "      <td>3.4</td>\n",
       "      <td>5.00</td>\n",
       "      <td>5.00</td>\n",
       "      <td>2.00</td>\n",
       "      <td>-1.0</td>\n",
       "      <td>-1.0</td>\n",
       "      <td>-1.0</td>\n",
       "    </tr>\n",
       "    <tr>\n",
       "      <th>995429</th>\n",
       "      <td>64006577</td>\n",
       "      <td>7.2</td>\n",
       "      <td>4.25</td>\n",
       "      <td>4.6</td>\n",
       "      <td>6.25</td>\n",
       "      <td>5.25</td>\n",
       "      <td>3.50</td>\n",
       "      <td>-1.0</td>\n",
       "      <td>-1.0</td>\n",
       "      <td>-1.0</td>\n",
       "    </tr>\n",
       "  </tbody>\n",
       "</table>\n",
       "<p>329235 rows × 10 columns</p>\n",
       "</div>"
      ],
      "text/plain": [
       "        Số báo danh  Toán  Ngữ văn  Ngoại ngữ  Vật lý  Hóa học  Sinh học  \\\n",
       "10          1000011   6.4     7.25        7.6    3.50     8.00      3.00   \n",
       "14          1000015   8.6     7.25        9.6    8.25     3.25      4.25   \n",
       "15          1000016   7.8     5.75        8.4    4.25     8.00      4.75   \n",
       "16          1000017   8.6     6.25        7.0    7.00     3.50      3.75   \n",
       "22          1000023   6.8     6.00        6.8    2.50     5.50      3.00   \n",
       "...             ...   ...      ...        ...     ...      ...       ...   \n",
       "995410     64006558   8.0     5.00        3.0    6.00     8.00      2.75   \n",
       "995411     64006559   5.8     4.75        3.6    4.75     3.50      3.50   \n",
       "995423     64006571   6.4     6.50        3.4    6.75     6.00      5.25   \n",
       "995427     64006575   5.8     5.25        3.4    5.00     5.00      2.00   \n",
       "995429     64006577   7.2     4.25        4.6    6.25     5.25      3.50   \n",
       "\n",
       "        Lịch sử  Địa lý  GDCD  \n",
       "10         -1.0    -1.0  -1.0  \n",
       "14         -1.0    -1.0  -1.0  \n",
       "15         -1.0    -1.0  -1.0  \n",
       "16         -1.0    -1.0  -1.0  \n",
       "22         -1.0    -1.0  -1.0  \n",
       "...         ...     ...   ...  \n",
       "995410     -1.0    -1.0  -1.0  \n",
       "995411     -1.0    -1.0  -1.0  \n",
       "995423     -1.0    -1.0  -1.0  \n",
       "995427     -1.0    -1.0  -1.0  \n",
       "995429     -1.0    -1.0  -1.0  \n",
       "\n",
       "[329235 rows x 10 columns]"
      ]
     },
     "execution_count": 77,
     "metadata": {},
     "output_type": "execute_result"
    }
   ],
   "source": [
    "so_luong_thi_sinh_chon_thi_khtn"
   ]
  },
  {
   "cell_type": "code",
   "execution_count": 78,
   "id": "44398c7f",
   "metadata": {},
   "outputs": [],
   "source": [
    "so_luong_thi_sinh_bo_thi_khtn = so_luong_thi_sinh_chon_thi_khtn[(so_luong_thi_sinh_chon_thi_khtn[\"Vật lý\"] == -1)\n",
    "                                                               | (so_luong_thi_sinh_chon_thi_khtn[\"Hóa học\"] == -1)\n",
    "                                                               | (so_luong_thi_sinh_chon_thi_khtn[\"Sinh học\"] == -1)]"
   ]
  },
  {
   "cell_type": "code",
   "execution_count": 79,
   "id": "531cb1bb",
   "metadata": {},
   "outputs": [
    {
     "data": {
      "text/plain": [
       "10550"
      ]
     },
     "execution_count": 79,
     "metadata": {},
     "output_type": "execute_result"
    }
   ],
   "source": [
    "so_luong_thi_sinh_bo_thi_khtn.shape[0]"
   ]
  },
  {
   "cell_type": "code",
   "execution_count": 80,
   "id": "f9bc6265",
   "metadata": {},
   "outputs": [],
   "source": [
    "so_luong_thi_sinh_chon_thi_khxh = all_data[(all_data[\"GDCD\"] != -1) \n",
    "                            | (all_data[\"Địa lý\"] != -1)\n",
    "                            | (all_data[\"Lịch sử\"] != -1)]"
   ]
  },
  {
   "cell_type": "code",
   "execution_count": 81,
   "id": "f9629ece",
   "metadata": {},
   "outputs": [
    {
     "data": {
      "text/plain": [
       "660078"
      ]
     },
     "execution_count": 81,
     "metadata": {},
     "output_type": "execute_result"
    }
   ],
   "source": [
    "so_luong_thi_sinh_chon_thi_khxh.shape[0]"
   ]
  },
  {
   "cell_type": "code",
   "execution_count": 82,
   "id": "e8993100",
   "metadata": {},
   "outputs": [],
   "source": [
    "so_luong_thi_sinh_bo_thi_khxh = so_luong_thi_sinh_chon_thi_khxh[(so_luong_thi_sinh_chon_thi_khxh[\"GDCD\"] == -1)\n",
    "                                                               | (so_luong_thi_sinh_chon_thi_khxh[\"Lịch sử\"] == -1)\n",
    "                                                               | (so_luong_thi_sinh_chon_thi_khxh[\"Địa lý\"] == -1)]"
   ]
  },
  {
   "cell_type": "code",
   "execution_count": 83,
   "id": "277f7833",
   "metadata": {
    "scrolled": true
   },
   "outputs": [
    {
     "data": {
      "text/plain": [
       "105988"
      ]
     },
     "execution_count": 83,
     "metadata": {},
     "output_type": "execute_result"
    }
   ],
   "source": [
    "so_luong_thi_sinh_bo_thi_khxh.shape[0]"
   ]
  },
  {
   "cell_type": "code",
   "execution_count": null,
   "id": "5dac25aa",
   "metadata": {},
   "outputs": [],
   "source": []
  },
  {
   "cell_type": "code",
   "execution_count": null,
   "id": "889b9040",
   "metadata": {},
   "outputs": [],
   "source": []
  },
  {
   "cell_type": "code",
   "execution_count": 84,
   "id": "807674bf",
   "metadata": {},
   "outputs": [],
   "source": [
    "nhung_thi_sinh_khong_xac_dinh_duoc_to_hop = all_data.shape[0] - so_luong_thi_sinh_chon_thi_khtn.shape[0] - so_luong_thi_sinh_chon_thi_khxh.shape[0]"
   ]
  },
  {
   "cell_type": "code",
   "execution_count": 85,
   "id": "3658796f",
   "metadata": {
    "scrolled": true
   },
   "outputs": [
    {
     "data": {
      "text/plain": [
       "6128"
      ]
     },
     "execution_count": 85,
     "metadata": {},
     "output_type": "execute_result"
    }
   ],
   "source": [
    "nhung_thi_sinh_khong_xac_dinh_duoc_to_hop"
   ]
  },
  {
   "cell_type": "code",
   "execution_count": 86,
   "id": "167a0d09",
   "metadata": {},
   "outputs": [
    {
     "name": "stdout",
     "output_type": "stream",
     "text": [
      "116538\n"
     ]
    }
   ],
   "source": [
    "tong_so_hoc_sinh_bo_thi_mon_to_hop = so_luong_thi_sinh_bo_thi_khxh.shape[0] + so_luong_thi_sinh_bo_thi_khtn.shape[0]\n",
    "print(tong_so_hoc_sinh_bo_thi_mon_to_hop)"
   ]
  },
  {
   "cell_type": "code",
   "execution_count": 87,
   "id": "9217ea6d",
   "metadata": {},
   "outputs": [
    {
     "name": "stdout",
     "output_type": "stream",
     "text": [
      "989313\n"
     ]
    }
   ],
   "source": [
    "tong_so_hoc_sinh_co_to_hop_xac_dinh = all_data.shape[0] - nhung_thi_sinh_khong_xac_dinh_duoc_to_hop\n",
    "print(tong_so_hoc_sinh_co_to_hop_xac_dinh)"
   ]
  },
  {
   "cell_type": "code",
   "execution_count": 91,
   "id": "1aa0dc0c",
   "metadata": {},
   "outputs": [
    {
     "name": "stdout",
     "output_type": "stream",
     "text": [
      "[14034, 12715, 116538, 124832]\n"
     ]
    }
   ],
   "source": [
    "#danh sách số học sinh bỏ thi theo thứ tự Văn-Toán-Tổ hợp-Ngoại ngữ\n",
    "danh_sach_so_hoc_sinh_bo_thi = [so_luong_thi_sinh_bo_thi_mon_ngu_van.shape[0],\n",
    "                               so_luong_thi_sinh_bo_thi_mon_toan.shape[0],\n",
    "                               tong_so_hoc_sinh_bo_thi_mon_to_hop,\n",
    "                               so_luong_thi_sinh_bo_thi_mon_ngoai_ngu.shape[0]]\n",
    "print(danh_sach_so_hoc_sinh_bo_thi)"
   ]
  },
  {
   "cell_type": "code",
   "execution_count": 92,
   "id": "e7131900",
   "metadata": {},
   "outputs": [
    {
     "name": "stdout",
     "output_type": "stream",
     "text": [
      "[1.41, 1.28, 11.78, 12.54]\n"
     ]
    }
   ],
   "source": [
    "# danh sách tỉ lệ số học sinh bỏ thi theo thứ tự Văn-Toán-Tổ hợp-Ngoại ngữ\n",
    "danh_sach_ti_le_hoc_sinh_bo_thi = [round(100*so_luong_thi_sinh_bo_thi_mon_ngu_van.shape[0]/all_data.shape[0],2)\n",
    ",round(100*so_luong_thi_sinh_bo_thi_mon_toan.shape[0]/all_data.shape[0],2)\n",
    ",round(tong_so_hoc_sinh_bo_thi_mon_to_hop*100/tong_so_hoc_sinh_co_to_hop_xac_dinh,2)\n",
    ",round(100*so_luong_thi_sinh_bo_thi_mon_ngoai_ngu.shape[0]/all_data.shape[0],2)\n",
    "\n",
    "]\n",
    "print(danh_sach_ti_le_hoc_sinh_bo_thi)\n"
   ]
  },
  {
   "cell_type": "code",
   "execution_count": 93,
   "id": "3c71de24",
   "metadata": {},
   "outputs": [],
   "source": [
    "# danh sách các môn thi\n",
    "danh_sach_cac_mon_thi = [\"Ngữ văn\", \"Toán\", \"Tổ hợp\", \"Ngoại ngữ\"]"
   ]
  },
  {
   "cell_type": "markdown",
   "id": "e40d5b29",
   "metadata": {},
   "source": [
    "<center>\n",
    "<h3>\n",
    "    Vẽ biểu đồ\n",
    "</h3>\n",
    "    </center>\n"
   ]
  },
  {
   "cell_type": "code",
   "execution_count": 94,
   "id": "b97ba6e7",
   "metadata": {},
   "outputs": [],
   "source": [
    "# function to add value labels\n",
    "def addlabels_1(x,y):\n",
    "    for i in range(len(x)):\n",
    "        plt.text(i, y[i], y[i], ha = 'center', size = \"20\",weight=\"demi\")"
   ]
  },
  {
   "cell_type": "code",
   "execution_count": 95,
   "id": "14e51579",
   "metadata": {
    "scrolled": false
   },
   "outputs": [
    {
     "data": {
      "image/png": "[encoded data removed]",
      "text/plain": [
       "<Figure size 3000x1000 with 1 Axes>"
      ]
     },
     "metadata": {},
     "output_type": "display_data"
    }
   ],
   "source": [
    "import matplotlib.pyplot as plt; plt.rcdefaults()\n",
    "import numpy as np\n",
    "import matplotlib.pyplot as plt\n",
    "# fig, ax = plt.subplots()\n",
    "plt.figure(figsize = (30,10))\n",
    "y_pos = np.arange(4)\n",
    "\n",
    "plt.bar(y_pos, danh_sach_so_hoc_sinh_bo_thi, width=0.5)\n",
    "plt.xticks(y_pos, danh_sach_cac_mon_thi,fontsize=25)\n",
    "plt.yticks(fontsize=25)\n",
    "#Setup giới hạn cho trục Y:\n",
    "plt.ylim(0,130000)\n",
    "\n",
    "plt.xlabel('Môn thi', fontsize=30)\n",
    "plt.ylabel('Số học sinh' ,fontsize=30)\n",
    "plt.title('Số học sinh bỏ thi giữa các môn', fontsize=45)\n",
    "\n",
    "addlabels_1(danh_sach_cac_mon_thi,danh_sach_so_hoc_sinh_bo_thi)\n",
    "\n",
    "plt.grid(axis='y',\n",
    "         c='black',\n",
    "         ls='-.',\n",
    "         lw=1.0)\n",
    "plt.show()\n",
    "\n"
   ]
  },
  {
   "cell_type": "code",
   "execution_count": 96,
   "id": "97c2da05",
   "metadata": {},
   "outputs": [],
   "source": [
    "# tỉ lệ bỏ thi giữa các môn"
   ]
  },
  {
   "cell_type": "code",
   "execution_count": 97,
   "id": "42924508",
   "metadata": {},
   "outputs": [
    {
     "data": {
      "image/png": "[encoded data removed]",
      "text/plain": [
       "<Figure size 1600x400 with 1 Axes>"
      ]
     },
     "metadata": {},
     "output_type": "display_data"
    }
   ],
   "source": [
    "x = danh_sach_cac_mon_thi\n",
    "y = danh_sach_ti_le_hoc_sinh_bo_thi\n",
    "# print('Time:',x)\n",
    "# print('Values:',y)\n",
    "# plt.figure(figsize = (8,4)) #Thiết lập kích thước biểu đồ\n",
    "plt.figure(figsize = (16,4)) #Thiết lập kích thước biểu đồ\n",
    "\n",
    "plt.plot(x,                 #Dữ liệu trục X\n",
    "         y,                 #Dữ liệu trục Y\n",
    "         color='g',         #Màu của đường\n",
    "         linestyle='-',    #Kiểu đường\n",
    "         linewidth=1.5,     #Độ rộng của đường line\n",
    "         marker='D',        #Kiểu điểm\n",
    "         markersize = 8)   #Kích thước điểm\n",
    "\n",
    "#Tiêu đề của đồ thị\n",
    "plt.title('Biểu đồ tỉ lệ học sinh bỏ thi' ,fontsize=20)\n",
    "#Nhãn cho trục X\n",
    "# plt.xlabel('Thời gian')\n",
    "#Nhãn cho trục Y\n",
    "plt.ylabel('Tỉ lệ(%)', fontsize=15)\n",
    "plt.xlabel(\"Môn thi\", fontsize=20)\n",
    "#Setup giới hạn cho trục X:\n",
    "# plt.xlim(1989,2009)\n",
    "\n",
    "#Setup giới hạn cho trục Y:\n",
    "# plt.ylim(2.5,6)\n",
    "\n",
    "#Setup tick cho trục X:\n",
    "plt.xticks(x, fontsize=15)\n",
    "\n",
    "#Thiết lập lưới:\n",
    "plt.grid(axis='y',\n",
    "         c='black',\n",
    "         ls='-.',\n",
    "         lw=1.0)\n",
    "\n",
    "plt.show()\n",
    "\n"
   ]
  },
  {
   "cell_type": "markdown",
   "id": "8045b355",
   "metadata": {},
   "source": [
    "<h4>\n",
    "    Có hay không việc thí sinh bỏ thi toán văn nhưng vẫn thi đủ 3 môn tự chọn\n",
    "</h4>"
   ]
  },
  {
   "cell_type": "code",
   "execution_count": 98,
   "id": "0ac2f518",
   "metadata": {},
   "outputs": [],
   "source": [
    "test_1 = all_data[(all_data[\"Toán\"] == -1) \n",
    "                            & (all_data[\"Ngữ văn\"] == -1)\n",
    "                            & (all_data[\"Hóa học\"] != -1)\n",
    "                            & (all_data[\"Vật lý\"] != -1)\n",
    "                            & (all_data[\"Sinh học\"] != -1)]"
   ]
  },
  {
   "cell_type": "code",
   "execution_count": 99,
   "id": "2f4b6f4f",
   "metadata": {},
   "outputs": [
    {
     "data": {
      "text/html": [
       "<div>\n",
       "<style scoped>\n",
       "    .dataframe tbody tr th:only-of-type {\n",
       "        vertical-align: middle;\n",
       "    }\n",
       "\n",
       "    .dataframe tbody tr th {\n",
       "        vertical-align: top;\n",
       "    }\n",
       "\n",
       "    .dataframe thead th {\n",
       "        text-align: right;\n",
       "    }\n",
       "</style>\n",
       "<table border=\"1\" class=\"dataframe\">\n",
       "  <thead>\n",
       "    <tr style=\"text-align: right;\">\n",
       "      <th></th>\n",
       "      <th>Số báo danh</th>\n",
       "      <th>Toán</th>\n",
       "      <th>Ngữ văn</th>\n",
       "      <th>Ngoại ngữ</th>\n",
       "      <th>Vật lý</th>\n",
       "      <th>Hóa học</th>\n",
       "      <th>Sinh học</th>\n",
       "      <th>Lịch sử</th>\n",
       "      <th>Địa lý</th>\n",
       "      <th>GDCD</th>\n",
       "    </tr>\n",
       "  </thead>\n",
       "  <tbody>\n",
       "    <tr>\n",
       "      <th>13918</th>\n",
       "      <td>1014061</td>\n",
       "      <td>-1.0</td>\n",
       "      <td>-1.0</td>\n",
       "      <td>-1.0</td>\n",
       "      <td>2.25</td>\n",
       "      <td>3.25</td>\n",
       "      <td>3.50</td>\n",
       "      <td>-1.0</td>\n",
       "      <td>-1.0</td>\n",
       "      <td>-1.0</td>\n",
       "    </tr>\n",
       "    <tr>\n",
       "      <th>69467</th>\n",
       "      <td>1069895</td>\n",
       "      <td>-1.0</td>\n",
       "      <td>-1.0</td>\n",
       "      <td>5.4</td>\n",
       "      <td>5.50</td>\n",
       "      <td>5.00</td>\n",
       "      <td>5.50</td>\n",
       "      <td>-1.0</td>\n",
       "      <td>-1.0</td>\n",
       "      <td>-1.0</td>\n",
       "    </tr>\n",
       "    <tr>\n",
       "      <th>70025</th>\n",
       "      <td>1070458</td>\n",
       "      <td>-1.0</td>\n",
       "      <td>-1.0</td>\n",
       "      <td>3.2</td>\n",
       "      <td>6.00</td>\n",
       "      <td>7.25</td>\n",
       "      <td>4.75</td>\n",
       "      <td>-1.0</td>\n",
       "      <td>-1.0</td>\n",
       "      <td>-1.0</td>\n",
       "    </tr>\n",
       "    <tr>\n",
       "      <th>77688</th>\n",
       "      <td>1078156</td>\n",
       "      <td>-1.0</td>\n",
       "      <td>-1.0</td>\n",
       "      <td>-1.0</td>\n",
       "      <td>7.00</td>\n",
       "      <td>6.25</td>\n",
       "      <td>3.25</td>\n",
       "      <td>-1.0</td>\n",
       "      <td>-1.0</td>\n",
       "      <td>-1.0</td>\n",
       "    </tr>\n",
       "    <tr>\n",
       "      <th>267012</th>\n",
       "      <td>12007669</td>\n",
       "      <td>-1.0</td>\n",
       "      <td>-1.0</td>\n",
       "      <td>2.4</td>\n",
       "      <td>1.50</td>\n",
       "      <td>2.75</td>\n",
       "      <td>4.00</td>\n",
       "      <td>-1.0</td>\n",
       "      <td>-1.0</td>\n",
       "      <td>-1.0</td>\n",
       "    </tr>\n",
       "    <tr>\n",
       "      <th>267295</th>\n",
       "      <td>12007958</td>\n",
       "      <td>-1.0</td>\n",
       "      <td>-1.0</td>\n",
       "      <td>-1.0</td>\n",
       "      <td>4.75</td>\n",
       "      <td>5.75</td>\n",
       "      <td>3.25</td>\n",
       "      <td>-1.0</td>\n",
       "      <td>-1.0</td>\n",
       "      <td>-1.0</td>\n",
       "    </tr>\n",
       "    <tr>\n",
       "      <th>330638</th>\n",
       "      <td>17007174</td>\n",
       "      <td>-1.0</td>\n",
       "      <td>-1.0</td>\n",
       "      <td>-1.0</td>\n",
       "      <td>6.00</td>\n",
       "      <td>5.25</td>\n",
       "      <td>3.25</td>\n",
       "      <td>-1.0</td>\n",
       "      <td>-1.0</td>\n",
       "      <td>-1.0</td>\n",
       "    </tr>\n",
       "    <tr>\n",
       "      <th>514921</th>\n",
       "      <td>28036158</td>\n",
       "      <td>-1.0</td>\n",
       "      <td>-1.0</td>\n",
       "      <td>-1.0</td>\n",
       "      <td>0.00</td>\n",
       "      <td>0.00</td>\n",
       "      <td>0.00</td>\n",
       "      <td>-1.0</td>\n",
       "      <td>-1.0</td>\n",
       "      <td>-1.0</td>\n",
       "    </tr>\n",
       "    <tr>\n",
       "      <th>542799</th>\n",
       "      <td>29026462</td>\n",
       "      <td>-1.0</td>\n",
       "      <td>-1.0</td>\n",
       "      <td>3.4</td>\n",
       "      <td>4.75</td>\n",
       "      <td>4.75</td>\n",
       "      <td>3.75</td>\n",
       "      <td>-1.0</td>\n",
       "      <td>-1.0</td>\n",
       "      <td>-1.0</td>\n",
       "    </tr>\n",
       "    <tr>\n",
       "      <th>559522</th>\n",
       "      <td>30006510</td>\n",
       "      <td>-1.0</td>\n",
       "      <td>-1.0</td>\n",
       "      <td>5.6</td>\n",
       "      <td>8.25</td>\n",
       "      <td>9.25</td>\n",
       "      <td>4.75</td>\n",
       "      <td>-1.0</td>\n",
       "      <td>-1.0</td>\n",
       "      <td>-1.0</td>\n",
       "    </tr>\n",
       "    <tr>\n",
       "      <th>614729</th>\n",
       "      <td>34011372</td>\n",
       "      <td>-1.0</td>\n",
       "      <td>-1.0</td>\n",
       "      <td>-1.0</td>\n",
       "      <td>4.50</td>\n",
       "      <td>3.50</td>\n",
       "      <td>2.00</td>\n",
       "      <td>-1.0</td>\n",
       "      <td>-1.0</td>\n",
       "      <td>-1.0</td>\n",
       "    </tr>\n",
       "    <tr>\n",
       "      <th>629486</th>\n",
       "      <td>35009408</td>\n",
       "      <td>-1.0</td>\n",
       "      <td>-1.0</td>\n",
       "      <td>3.8</td>\n",
       "      <td>5.50</td>\n",
       "      <td>4.50</td>\n",
       "      <td>3.75</td>\n",
       "      <td>-1.0</td>\n",
       "      <td>-1.0</td>\n",
       "      <td>-1.0</td>\n",
       "    </tr>\n",
       "    <tr>\n",
       "      <th>913739</th>\n",
       "      <td>55009516</td>\n",
       "      <td>-1.0</td>\n",
       "      <td>-1.0</td>\n",
       "      <td>-1.0</td>\n",
       "      <td>6.50</td>\n",
       "      <td>5.50</td>\n",
       "      <td>4.50</td>\n",
       "      <td>-1.0</td>\n",
       "      <td>-1.0</td>\n",
       "      <td>-1.0</td>\n",
       "    </tr>\n",
       "  </tbody>\n",
       "</table>\n",
       "</div>"
      ],
      "text/plain": [
       "        Số báo danh  Toán  Ngữ văn  Ngoại ngữ  Vật lý  Hóa học  Sinh học  \\\n",
       "13918       1014061  -1.0     -1.0       -1.0    2.25     3.25      3.50   \n",
       "69467       1069895  -1.0     -1.0        5.4    5.50     5.00      5.50   \n",
       "70025       1070458  -1.0     -1.0        3.2    6.00     7.25      4.75   \n",
       "77688       1078156  -1.0     -1.0       -1.0    7.00     6.25      3.25   \n",
       "267012     12007669  -1.0     -1.0        2.4    1.50     2.75      4.00   \n",
       "267295     12007958  -1.0     -1.0       -1.0    4.75     5.75      3.25   \n",
       "330638     17007174  -1.0     -1.0       -1.0    6.00     5.25      3.25   \n",
       "514921     28036158  -1.0     -1.0       -1.0    0.00     0.00      0.00   \n",
       "542799     29026462  -1.0     -1.0        3.4    4.75     4.75      3.75   \n",
       "559522     30006510  -1.0     -1.0        5.6    8.25     9.25      4.75   \n",
       "614729     34011372  -1.0     -1.0       -1.0    4.50     3.50      2.00   \n",
       "629486     35009408  -1.0     -1.0        3.8    5.50     4.50      3.75   \n",
       "913739     55009516  -1.0     -1.0       -1.0    6.50     5.50      4.50   \n",
       "\n",
       "        Lịch sử  Địa lý  GDCD  \n",
       "13918      -1.0    -1.0  -1.0  \n",
       "69467      -1.0    -1.0  -1.0  \n",
       "70025      -1.0    -1.0  -1.0  \n",
       "77688      -1.0    -1.0  -1.0  \n",
       "267012     -1.0    -1.0  -1.0  \n",
       "267295     -1.0    -1.0  -1.0  \n",
       "330638     -1.0    -1.0  -1.0  \n",
       "514921     -1.0    -1.0  -1.0  \n",
       "542799     -1.0    -1.0  -1.0  \n",
       "559522     -1.0    -1.0  -1.0  \n",
       "614729     -1.0    -1.0  -1.0  \n",
       "629486     -1.0    -1.0  -1.0  \n",
       "913739     -1.0    -1.0  -1.0  "
      ]
     },
     "execution_count": 99,
     "metadata": {},
     "output_type": "execute_result"
    }
   ],
   "source": [
    "test_1"
   ]
  },
  {
   "cell_type": "code",
   "execution_count": null,
   "id": "d4f8c716",
   "metadata": {},
   "outputs": [],
   "source": []
  },
  {
   "cell_type": "code",
   "execution_count": null,
   "id": "c853bddf",
   "metadata": {},
   "outputs": [],
   "source": []
  },
  {
   "cell_type": "markdown",
   "id": "a0f74c8a",
   "metadata": {},
   "source": [
    "<center>\n",
    "    <h1>\n",
    "        Phân tích về tỉ lệ số lượng môn học sinh thi\n",
    "    </h1>\n",
    "</center>"
   ]
  },
  {
   "cell_type": "markdown",
   "id": "2d841058",
   "metadata": {},
   "source": [
    "Thí sinh chon thi tổ hợp nào\n",
    "\n",
    "Tổ hợp nào có tỉ lệ thí sinh bỏ thi nhiều nhất\n",
    "\n"
   ]
  },
  {
   "cell_type": "code",
   "execution_count": 103,
   "id": "be11be37",
   "metadata": {},
   "outputs": [
    {
     "data": {
      "text/html": [
       "<div>\n",
       "<style scoped>\n",
       "    .dataframe tbody tr th:only-of-type {\n",
       "        vertical-align: middle;\n",
       "    }\n",
       "\n",
       "    .dataframe tbody tr th {\n",
       "        vertical-align: top;\n",
       "    }\n",
       "\n",
       "    .dataframe thead th {\n",
       "        text-align: right;\n",
       "    }\n",
       "</style>\n",
       "<table border=\"1\" class=\"dataframe\">\n",
       "  <thead>\n",
       "    <tr style=\"text-align: right;\">\n",
       "      <th></th>\n",
       "      <th>Số báo danh</th>\n",
       "      <th>Toán</th>\n",
       "      <th>Ngữ văn</th>\n",
       "      <th>Ngoại ngữ</th>\n",
       "      <th>Vật lý</th>\n",
       "      <th>Hóa học</th>\n",
       "      <th>Sinh học</th>\n",
       "      <th>Lịch sử</th>\n",
       "      <th>Địa lý</th>\n",
       "      <th>GDCD</th>\n",
       "    </tr>\n",
       "  </thead>\n",
       "  <tbody>\n",
       "    <tr>\n",
       "      <th>0</th>\n",
       "      <td>1000011</td>\n",
       "      <td>6.4</td>\n",
       "      <td>7.25</td>\n",
       "      <td>7.6</td>\n",
       "      <td>3.50</td>\n",
       "      <td>8.00</td>\n",
       "      <td>3.00</td>\n",
       "      <td>-1.00</td>\n",
       "      <td>-1.00</td>\n",
       "      <td>-1.00</td>\n",
       "    </tr>\n",
       "    <tr>\n",
       "      <th>1</th>\n",
       "      <td>1000015</td>\n",
       "      <td>8.6</td>\n",
       "      <td>7.25</td>\n",
       "      <td>9.6</td>\n",
       "      <td>8.25</td>\n",
       "      <td>3.25</td>\n",
       "      <td>4.25</td>\n",
       "      <td>-1.00</td>\n",
       "      <td>-1.00</td>\n",
       "      <td>-1.00</td>\n",
       "    </tr>\n",
       "    <tr>\n",
       "      <th>2</th>\n",
       "      <td>1000016</td>\n",
       "      <td>7.8</td>\n",
       "      <td>5.75</td>\n",
       "      <td>8.4</td>\n",
       "      <td>4.25</td>\n",
       "      <td>8.00</td>\n",
       "      <td>4.75</td>\n",
       "      <td>-1.00</td>\n",
       "      <td>-1.00</td>\n",
       "      <td>-1.00</td>\n",
       "    </tr>\n",
       "    <tr>\n",
       "      <th>3</th>\n",
       "      <td>1000017</td>\n",
       "      <td>8.6</td>\n",
       "      <td>6.25</td>\n",
       "      <td>7.0</td>\n",
       "      <td>7.00</td>\n",
       "      <td>3.50</td>\n",
       "      <td>3.75</td>\n",
       "      <td>-1.00</td>\n",
       "      <td>-1.00</td>\n",
       "      <td>-1.00</td>\n",
       "    </tr>\n",
       "    <tr>\n",
       "      <th>4</th>\n",
       "      <td>1000023</td>\n",
       "      <td>6.8</td>\n",
       "      <td>6.00</td>\n",
       "      <td>6.8</td>\n",
       "      <td>2.50</td>\n",
       "      <td>5.50</td>\n",
       "      <td>3.00</td>\n",
       "      <td>-1.00</td>\n",
       "      <td>-1.00</td>\n",
       "      <td>-1.00</td>\n",
       "    </tr>\n",
       "    <tr>\n",
       "      <th>...</th>\n",
       "      <td>...</td>\n",
       "      <td>...</td>\n",
       "      <td>...</td>\n",
       "      <td>...</td>\n",
       "      <td>...</td>\n",
       "      <td>...</td>\n",
       "      <td>...</td>\n",
       "      <td>...</td>\n",
       "      <td>...</td>\n",
       "      <td>...</td>\n",
       "    </tr>\n",
       "    <tr>\n",
       "      <th>858731</th>\n",
       "      <td>64006584</td>\n",
       "      <td>8.4</td>\n",
       "      <td>6.75</td>\n",
       "      <td>4.6</td>\n",
       "      <td>-1.00</td>\n",
       "      <td>-1.00</td>\n",
       "      <td>-1.00</td>\n",
       "      <td>6.50</td>\n",
       "      <td>6.75</td>\n",
       "      <td>9.00</td>\n",
       "    </tr>\n",
       "    <tr>\n",
       "      <th>858732</th>\n",
       "      <td>64006585</td>\n",
       "      <td>5.6</td>\n",
       "      <td>6.50</td>\n",
       "      <td>2.8</td>\n",
       "      <td>-1.00</td>\n",
       "      <td>-1.00</td>\n",
       "      <td>-1.00</td>\n",
       "      <td>6.25</td>\n",
       "      <td>6.75</td>\n",
       "      <td>8.50</td>\n",
       "    </tr>\n",
       "    <tr>\n",
       "      <th>858733</th>\n",
       "      <td>64006586</td>\n",
       "      <td>5.8</td>\n",
       "      <td>6.00</td>\n",
       "      <td>6.6</td>\n",
       "      <td>-1.00</td>\n",
       "      <td>-1.00</td>\n",
       "      <td>-1.00</td>\n",
       "      <td>7.25</td>\n",
       "      <td>8.00</td>\n",
       "      <td>8.00</td>\n",
       "    </tr>\n",
       "    <tr>\n",
       "      <th>858734</th>\n",
       "      <td>64006587</td>\n",
       "      <td>7.6</td>\n",
       "      <td>6.75</td>\n",
       "      <td>7.0</td>\n",
       "      <td>-1.00</td>\n",
       "      <td>-1.00</td>\n",
       "      <td>-1.00</td>\n",
       "      <td>8.75</td>\n",
       "      <td>7.25</td>\n",
       "      <td>9.75</td>\n",
       "    </tr>\n",
       "    <tr>\n",
       "      <th>858735</th>\n",
       "      <td>64006588</td>\n",
       "      <td>6.6</td>\n",
       "      <td>4.50</td>\n",
       "      <td>3.2</td>\n",
       "      <td>-1.00</td>\n",
       "      <td>-1.00</td>\n",
       "      <td>-1.00</td>\n",
       "      <td>3.00</td>\n",
       "      <td>6.00</td>\n",
       "      <td>7.50</td>\n",
       "    </tr>\n",
       "  </tbody>\n",
       "</table>\n",
       "<p>858736 rows × 10 columns</p>\n",
       "</div>"
      ],
      "text/plain": [
       "        Số báo danh  Toán  Ngữ văn  Ngoại ngữ  Vật lý  Hóa học  Sinh học  \\\n",
       "0           1000011   6.4     7.25        7.6    3.50     8.00      3.00   \n",
       "1           1000015   8.6     7.25        9.6    8.25     3.25      4.25   \n",
       "2           1000016   7.8     5.75        8.4    4.25     8.00      4.75   \n",
       "3           1000017   8.6     6.25        7.0    7.00     3.50      3.75   \n",
       "4           1000023   6.8     6.00        6.8    2.50     5.50      3.00   \n",
       "...             ...   ...      ...        ...     ...      ...       ...   \n",
       "858731     64006584   8.4     6.75        4.6   -1.00    -1.00     -1.00   \n",
       "858732     64006585   5.6     6.50        2.8   -1.00    -1.00     -1.00   \n",
       "858733     64006586   5.8     6.00        6.6   -1.00    -1.00     -1.00   \n",
       "858734     64006587   7.6     6.75        7.0   -1.00    -1.00     -1.00   \n",
       "858735     64006588   6.6     4.50        3.2   -1.00    -1.00     -1.00   \n",
       "\n",
       "        Lịch sử  Địa lý  GDCD  \n",
       "0         -1.00   -1.00 -1.00  \n",
       "1         -1.00   -1.00 -1.00  \n",
       "2         -1.00   -1.00 -1.00  \n",
       "3         -1.00   -1.00 -1.00  \n",
       "4         -1.00   -1.00 -1.00  \n",
       "...         ...     ...   ...  \n",
       "858731     6.50    6.75  9.00  \n",
       "858732     6.25    6.75  8.50  \n",
       "858733     7.25    8.00  8.00  \n",
       "858734     8.75    7.25  9.75  \n",
       "858735     3.00    6.00  7.50  \n",
       "\n",
       "[858736 rows x 10 columns]"
      ]
     },
     "execution_count": 103,
     "metadata": {},
     "output_type": "execute_result"
    }
   ],
   "source": [
    "thi_sinh_hop_le"
   ]
  },
  {
   "cell_type": "code",
   "execution_count": 104,
   "id": "ddd61ccc",
   "metadata": {},
   "outputs": [
    {
     "data": {
      "image/png": "[encoded data removed]",
      "text/plain": [
       "<Figure size 1200x800 with 1 Axes>"
      ]
     },
     "metadata": {},
     "output_type": "display_data"
    }
   ],
   "source": [
    "#THí sinh hợp lệ\n",
    "thi_sinh_hop_le\n",
    "thi_sinh_khong_hop_le\n",
    "\n",
    "plt.figure(figsize = (12,8))\n",
    "#Làm nổi bật một phần:\n",
    "e = [0,0.05]\n",
    "plt.pie([thi_sinh_hop_le.shape[0],thi_sinh_khong_hop_le.shape[0]], \n",
    "        labels=[\"Thí sinh hợp lệ\", \"Thí sinh không hợp lệ\"],\n",
    "        autopct='%.2f %%', \n",
    "        pctdistance=0.8,\n",
    "        startangle=90,\n",
    "        labeldistance=1.05,\n",
    "        textprops={'color':'w','fontweight':'bold'},\n",
    "        rotatelabels=True,\n",
    "        wedgeprops=dict(edgecolor='w'),#Đường viền màu trắng\n",
    "        explode=e)#Làm nổi bật một phần\n",
    "\n",
    "plt.title('Tỷ lệ thí sinh hợp lệ', fontdict={'fontname':'Tahoma',\n",
    "                                                    'fontweight':'bold',\n",
    "                                                   'fontsize':18})\n",
    "plt.legend(ncol=2, loc='center')\n",
    "plt.show()\n"
   ]
  },
  {
   "cell_type": "code",
   "execution_count": 105,
   "id": "fda6e63a",
   "metadata": {},
   "outputs": [
    {
     "name": "stdout",
     "output_type": "stream",
     "text": [
      "[858736, 136705]\n"
     ]
    }
   ],
   "source": [
    "a  = [thi_sinh_hop_le.shape[0],thi_sinh_khong_hop_le.shape[0]]\n",
    "print(a)\n",
    "labels=[\"Thí sinh hợp lệ\", \"Thí sinh không hợp lệ\"]"
   ]
  },
  {
   "cell_type": "code",
   "execution_count": 106,
   "id": "119e3a35",
   "metadata": {},
   "outputs": [
    {
     "data": {
      "image/png": "[encoded data removed]",
      "text/plain": [
       "<Figure size 1200x500 with 1 Axes>"
      ]
     },
     "metadata": {},
     "output_type": "display_data"
    }
   ],
   "source": [
    "# function to add value labels\n",
    "def addlabels_2(x,y):\n",
    "    for i in range(len(x)):\n",
    "        plt.text(i, y[i], y[i], ha = 'center', size = \"15\",weight=\"demi\")\n",
    "\n",
    "\n",
    "\n",
    "plt.figure(figsize = (12,5)) #Thiết lập kích thước biểu đồ\n",
    "\n",
    "#Vẽ biểu đồ cột:\n",
    "plt.bar(labels,         #Nhãn của trục X\n",
    "        a,        #Giá trị tương ứng với nhãn\n",
    "        color='green', #Màu của thanh\n",
    "     #Giá trị bắt đầu của trục Y\n",
    "        width = 0.5)   #Chiều rộng của thanh\n",
    "\n",
    "\n",
    "addlabels_2(labels,a)\n",
    "#Tiêu đề của đồ thị\n",
    "plt.title('BIỂU ĐỒ THỂ HIỆN SỐ HỌC SINH HỢP LỆ')\n",
    "plt.ylabel('Số học sinh')\n",
    "plt.grid(ls='--')\n",
    "\n",
    "plt.show()"
   ]
  },
  {
   "cell_type": "code",
   "execution_count": null,
   "id": "6834ad1c",
   "metadata": {},
   "outputs": [],
   "source": []
  },
  {
   "cell_type": "code",
   "execution_count": 107,
   "id": "b03dd9ad",
   "metadata": {},
   "outputs": [],
   "source": [
    "# Thí sinh thi KHTN or KHXH or Không rõ "
   ]
  },
  {
   "cell_type": "code",
   "execution_count": 110,
   "id": "e5ee37a4",
   "metadata": {},
   "outputs": [
    {
     "name": "stdout",
     "output_type": "stream",
     "text": [
      "309162\n",
      "549574\n"
     ]
    }
   ],
   "source": [
    "print(thi_sinh_thi_KHTN.shape[0])\n",
    "\n",
    "print(thi_sinh_thi_KHXH.shape[0])\n",
    "\n"
   ]
  },
  {
   "cell_type": "code",
   "execution_count": 111,
   "id": "2ccb4457",
   "metadata": {},
   "outputs": [
    {
     "name": "stdout",
     "output_type": "stream",
     "text": [
      "329235\n",
      "660078\n",
      "6128\n"
     ]
    }
   ],
   "source": [
    "print(so_luong_thi_sinh_chon_thi_khtn.shape[0])\n",
    "\n",
    "print(so_luong_thi_sinh_chon_thi_khxh.shape[0])\n",
    "\n",
    "print(nhung_thi_sinh_khong_xac_dinh_duoc_to_hop)"
   ]
  },
  {
   "cell_type": "code",
   "execution_count": 112,
   "id": "d006b25e",
   "metadata": {},
   "outputs": [],
   "source": [
    "danh_sach_to_hop = [so_luong_thi_sinh_chon_thi_khtn.shape[0],so_luong_thi_sinh_chon_thi_khxh.shape[0],nhung_thi_sinh_khong_xac_dinh_duoc_to_hop]\n",
    "danh_sach_ten_to_hop = [\"Khoa học tự nhiên\",\"Khoa học xã hội\",\"Không xác định\"]"
   ]
  },
  {
   "cell_type": "code",
   "execution_count": 113,
   "id": "5021776f",
   "metadata": {},
   "outputs": [
    {
     "data": {
      "image/png": "[encoded data removed]",
      "text/plain": [
       "<Figure size 1200x800 with 1 Axes>"
      ]
     },
     "metadata": {},
     "output_type": "display_data"
    }
   ],
   "source": [
    "plt.figure(figsize = (12,8))\n",
    "#Làm nổi bật một phần:\n",
    "e = [0,0,0.05]\n",
    "plt.pie(danh_sach_to_hop, \n",
    "        labels=danh_sach_ten_to_hop,\n",
    "        autopct='%.2f %%', \n",
    "        pctdistance=0.8,\n",
    "        startangle=90,\n",
    "        labeldistance=1.05,\n",
    "        textprops={'color':'w','fontweight':'bold'},\n",
    "        rotatelabels=True,\n",
    "        wedgeprops=dict(edgecolor='w'),#Đường viền màu trắng\n",
    "        explode=e)#Làm nổi bật một phần\n",
    "\n",
    "plt.title('Tỷ lệ chọn tổ hợp thi', fontdict={'fontname':'Tahoma',\n",
    "                                                    'fontweight':'bold',\n",
    "                                                   'fontsize':18})\n",
    "plt.legend(ncol=2, loc='center')\n",
    "plt.show()"
   ]
  },
  {
   "cell_type": "code",
   "execution_count": 114,
   "id": "40c56d54",
   "metadata": {},
   "outputs": [
    {
     "data": {
      "image/png": "[encoded data removed]",
      "text/plain": [
       "<Figure size 1200x500 with 1 Axes>"
      ]
     },
     "metadata": {},
     "output_type": "display_data"
    }
   ],
   "source": [
    "def addlabels_3(x,y):\n",
    "    for i in range(len(x)):\n",
    "        plt.text(i, y[i], y[i], ha = 'center', size = \"15\",weight=\"demi\")\n",
    "\n",
    "\n",
    "\n",
    "\n",
    "\n",
    "plt.figure(figsize = (12,5)) #Thiết lập kích thước biểu đồ\n",
    "\n",
    "#Vẽ biểu đồ cột:\n",
    "plt.bar(danh_sach_ten_to_hop,         #Nhãn của trục X\n",
    "        danh_sach_to_hop,        #Giá trị tương ứng với nhãn\n",
    "        color='green', #Màu của thanh\n",
    "        bottom=3,      #Giá trị bắt đầu của trục Y\n",
    "        width = 0.5)   #Chiều rộng của thanh\n",
    "\n",
    "#Tiêu đề của đồ thị\n",
    "plt.title('BIỂU ĐỒ THỂ HIỆN NHÓM TỔ HỢP')\n",
    "plt.ylabel('Số học sinh')\n",
    "plt.grid(ls='--')\n",
    "\n",
    "\n",
    "addlabels_3(danh_sach_ten_to_hop,danh_sach_to_hop)\n",
    "plt.show()"
   ]
  },
  {
   "cell_type": "code",
   "execution_count": null,
   "id": "7870a53e",
   "metadata": {},
   "outputs": [],
   "source": []
  },
  {
   "cell_type": "markdown",
   "id": "037e535e",
   "metadata": {},
   "source": [
    "<center>\n",
    "    <h1>\n",
    "        Số môn thi \n",
    "    </h1>\n",
    "</center>"
   ]
  },
  {
   "cell_type": "code",
   "execution_count": 115,
   "id": "16eca527",
   "metadata": {
    "scrolled": true
   },
   "outputs": [
    {
     "data": {
      "text/plain": [
       "[6, 414, 636, 28198, 94695, 12756, 858736, 0, 0, 0]"
      ]
     },
     "execution_count": 115,
     "metadata": {},
     "output_type": "execute_result"
    }
   ],
   "source": [
    "so_mon_thi_sinh_thi"
   ]
  },
  {
   "cell_type": "code",
   "execution_count": 138,
   "id": "136a9993",
   "metadata": {},
   "outputs": [
    {
     "data": {
      "text/plain": [
       "995441"
      ]
     },
     "execution_count": 138,
     "metadata": {},
     "output_type": "execute_result"
    }
   ],
   "source": [
    "sum(so_mon_thi_sinh_thi)"
   ]
  },
  {
   "cell_type": "code",
   "execution_count": 116,
   "id": "19347753",
   "metadata": {},
   "outputs": [],
   "source": [
    "list_so_luong = [\"0 môn\",\"1 môn\",\"2 môn\",\"3 môn\",\"4 môn\",\"5 môn\",\"6 môn\",\"7 môn\",\"8 môn\",\"9 môn\"]"
   ]
  },
  {
   "cell_type": "code",
   "execution_count": 137,
   "id": "cf0399da",
   "metadata": {},
   "outputs": [
    {
     "data": {
      "image/png": "[encoded data removed]",
      "text/plain": [
       "<Figure size 1200x800 with 1 Axes>"
      ]
     },
     "metadata": {},
     "output_type": "display_data"
    }
   ],
   "source": [
    "plt.figure(figsize = (12,8))\n",
    "#Làm nổi bật một phần:\n",
    "e = [0,0,0,0,0,0,0,0,0.05,0]\n",
    "plt.pie(so_mon_thi_sinh_thi, \n",
    "        labels=list_so_luong,\n",
    "        autopct='%.2f %%', \n",
    "        pctdistance=0.8,\n",
    "        startangle=90,\n",
    "        labeldistance=1.05,\n",
    "        textprops={'color':'w','fontweight':'bold'},\n",
    "        rotatelabels=True,\n",
    "        wedgeprops=dict(edgecolor='w'),#Đường viền màu trắng\n",
    "        explode=e)#Làm nổi bật một phần\n",
    "\n",
    "plt.title('Tỷ lệ số môn thí sinh thi', fontdict={'fontname':'Tahoma',\n",
    "                                                    'fontweight':'bold',\n",
    "                                                   'fontsize':18})\n",
    "plt.legend(ncol=2, loc='center')\n",
    "plt.show()"
   ]
  },
  {
   "cell_type": "code",
   "execution_count": 135,
   "id": "d9ca45e5",
   "metadata": {},
   "outputs": [
    {
     "data": {
      "image/png": "[encoded data removed]",
      "text/plain": [
       "<Figure size 1200x500 with 1 Axes>"
      ]
     },
     "metadata": {},
     "output_type": "display_data"
    }
   ],
   "source": [
    "def addlabels_4(x,y):\n",
    "    for i in range(len(x)):\n",
    "        plt.text(i, y[i], y[i], ha = 'center', size = \"10\",weight=\"demi\")\n",
    "\n",
    "\n",
    "\n",
    "\n",
    "\n",
    "plt.figure(figsize = (12,5)) #Thiết lập kích thước biểu đồ\n",
    "\n",
    "#Vẽ biểu đồ cột:\n",
    "plt.bar(list_so_luong,         #Nhãn của trục X\n",
    "        so_mon_thi_sinh_thi,        #Giá trị tương ứng với nhãn\n",
    "        color='green', #Màu của thanh\n",
    "        bottom=3,      #Giá trị bắt đầu của trục Y\n",
    "        width = 0.5)   #Chiều rộng của thanh\n",
    "\n",
    "#Tiêu đề của đồ thị\n",
    "plt.title('BIỂU ĐỒ THỂ HIỆN SỐ MÔN THI')\n",
    "plt.ylabel('Số học sinh')\n",
    "plt.grid(ls='--')\n",
    "\n",
    "\n",
    "addlabels_4(list_so_luong,so_mon_thi_sinh_thi)\n",
    "plt.show()"
   ]
  },
  {
   "cell_type": "code",
   "execution_count": null,
   "id": "187e612d",
   "metadata": {},
   "outputs": [],
   "source": []
  },
  {
   "cell_type": "markdown",
   "id": "01cc0a11",
   "metadata": {},
   "source": [
    "<center>\n",
    "    <h1>\n",
    "        Tìm thủ khoa khối a1\n",
    "    </h1>\n",
    "</center>"
   ]
  },
  {
   "cell_type": "code",
   "execution_count": 119,
   "id": "3d55bbd2",
   "metadata": {},
   "outputs": [
    {
     "data": {
      "text/html": [
       "<div>\n",
       "<style scoped>\n",
       "    .dataframe tbody tr th:only-of-type {\n",
       "        vertical-align: middle;\n",
       "    }\n",
       "\n",
       "    .dataframe tbody tr th {\n",
       "        vertical-align: top;\n",
       "    }\n",
       "\n",
       "    .dataframe thead th {\n",
       "        text-align: right;\n",
       "    }\n",
       "</style>\n",
       "<table border=\"1\" class=\"dataframe\">\n",
       "  <thead>\n",
       "    <tr style=\"text-align: right;\">\n",
       "      <th></th>\n",
       "      <th>Số báo danh</th>\n",
       "      <th>Toán</th>\n",
       "      <th>Vật lý</th>\n",
       "      <th>Hóa học</th>\n",
       "    </tr>\n",
       "  </thead>\n",
       "  <tbody>\n",
       "    <tr>\n",
       "      <th>0</th>\n",
       "      <td>1000001</td>\n",
       "      <td>3.6</td>\n",
       "      <td>-1.0</td>\n",
       "      <td>-1.0</td>\n",
       "    </tr>\n",
       "    <tr>\n",
       "      <th>1</th>\n",
       "      <td>1000002</td>\n",
       "      <td>8.4</td>\n",
       "      <td>-1.0</td>\n",
       "      <td>-1.0</td>\n",
       "    </tr>\n",
       "    <tr>\n",
       "      <th>2</th>\n",
       "      <td>1000003</td>\n",
       "      <td>5.8</td>\n",
       "      <td>-1.0</td>\n",
       "      <td>-1.0</td>\n",
       "    </tr>\n",
       "    <tr>\n",
       "      <th>3</th>\n",
       "      <td>1000004</td>\n",
       "      <td>7.4</td>\n",
       "      <td>-1.0</td>\n",
       "      <td>-1.0</td>\n",
       "    </tr>\n",
       "    <tr>\n",
       "      <th>4</th>\n",
       "      <td>1000005</td>\n",
       "      <td>7.2</td>\n",
       "      <td>-1.0</td>\n",
       "      <td>-1.0</td>\n",
       "    </tr>\n",
       "    <tr>\n",
       "      <th>...</th>\n",
       "      <td>...</td>\n",
       "      <td>...</td>\n",
       "      <td>...</td>\n",
       "      <td>...</td>\n",
       "    </tr>\n",
       "    <tr>\n",
       "      <th>995436</th>\n",
       "      <td>64006584</td>\n",
       "      <td>8.4</td>\n",
       "      <td>-1.0</td>\n",
       "      <td>-1.0</td>\n",
       "    </tr>\n",
       "    <tr>\n",
       "      <th>995437</th>\n",
       "      <td>64006585</td>\n",
       "      <td>5.6</td>\n",
       "      <td>-1.0</td>\n",
       "      <td>-1.0</td>\n",
       "    </tr>\n",
       "    <tr>\n",
       "      <th>995438</th>\n",
       "      <td>64006586</td>\n",
       "      <td>5.8</td>\n",
       "      <td>-1.0</td>\n",
       "      <td>-1.0</td>\n",
       "    </tr>\n",
       "    <tr>\n",
       "      <th>995439</th>\n",
       "      <td>64006587</td>\n",
       "      <td>7.6</td>\n",
       "      <td>-1.0</td>\n",
       "      <td>-1.0</td>\n",
       "    </tr>\n",
       "    <tr>\n",
       "      <th>995440</th>\n",
       "      <td>64006588</td>\n",
       "      <td>6.6</td>\n",
       "      <td>-1.0</td>\n",
       "      <td>-1.0</td>\n",
       "    </tr>\n",
       "  </tbody>\n",
       "</table>\n",
       "<p>995441 rows × 4 columns</p>\n",
       "</div>"
      ],
      "text/plain": [
       "        Số báo danh  Toán  Vật lý  Hóa học\n",
       "0           1000001   3.6    -1.0     -1.0\n",
       "1           1000002   8.4    -1.0     -1.0\n",
       "2           1000003   5.8    -1.0     -1.0\n",
       "3           1000004   7.4    -1.0     -1.0\n",
       "4           1000005   7.2    -1.0     -1.0\n",
       "...             ...   ...     ...      ...\n",
       "995436     64006584   8.4    -1.0     -1.0\n",
       "995437     64006585   5.6    -1.0     -1.0\n",
       "995438     64006586   5.8    -1.0     -1.0\n",
       "995439     64006587   7.6    -1.0     -1.0\n",
       "995440     64006588   6.6    -1.0     -1.0\n",
       "\n",
       "[995441 rows x 4 columns]"
      ]
     },
     "execution_count": 119,
     "metadata": {},
     "output_type": "execute_result"
    }
   ],
   "source": [
    "#Chỉ lấy điểm Khối A1\n",
    "df_A1 = all_data[['Số báo danh','Toán','Vật lý','Hóa học']]\n",
    "#Xóa toàn bộ các hàng chứa missing data: axis=0 -> xóa hàng | how = any (all) chỉ cần hàng có feature chứa missing\n",
    "data_A1 = df_A1.dropna(axis=0,how='any')\n",
    "data_A1.reset_index(drop=True, inplace=True)\n",
    "data_A1"
   ]
  },
  {
   "cell_type": "code",
   "execution_count": 120,
   "id": "f1d2cca9",
   "metadata": {},
   "outputs": [],
   "source": [
    "def point(point1,point2,point3):\n",
    "    return round(point1+point2+point3,2)"
   ]
  },
  {
   "cell_type": "code",
   "execution_count": 121,
   "id": "a2680519",
   "metadata": {},
   "outputs": [
    {
     "data": {
      "text/html": [
       "<div>\n",
       "<style scoped>\n",
       "    .dataframe tbody tr th:only-of-type {\n",
       "        vertical-align: middle;\n",
       "    }\n",
       "\n",
       "    .dataframe tbody tr th {\n",
       "        vertical-align: top;\n",
       "    }\n",
       "\n",
       "    .dataframe thead th {\n",
       "        text-align: right;\n",
       "    }\n",
       "</style>\n",
       "<table border=\"1\" class=\"dataframe\">\n",
       "  <thead>\n",
       "    <tr style=\"text-align: right;\">\n",
       "      <th></th>\n",
       "      <th>Số báo danh</th>\n",
       "      <th>Toán</th>\n",
       "      <th>Vật lý</th>\n",
       "      <th>Hóa học</th>\n",
       "      <th>Total_score</th>\n",
       "    </tr>\n",
       "  </thead>\n",
       "  <tbody>\n",
       "    <tr>\n",
       "      <th>0</th>\n",
       "      <td>1000001</td>\n",
       "      <td>3.6</td>\n",
       "      <td>-1.0</td>\n",
       "      <td>-1.0</td>\n",
       "      <td>1.6</td>\n",
       "    </tr>\n",
       "    <tr>\n",
       "      <th>1</th>\n",
       "      <td>1000002</td>\n",
       "      <td>8.4</td>\n",
       "      <td>-1.0</td>\n",
       "      <td>-1.0</td>\n",
       "      <td>6.4</td>\n",
       "    </tr>\n",
       "    <tr>\n",
       "      <th>2</th>\n",
       "      <td>1000003</td>\n",
       "      <td>5.8</td>\n",
       "      <td>-1.0</td>\n",
       "      <td>-1.0</td>\n",
       "      <td>3.8</td>\n",
       "    </tr>\n",
       "    <tr>\n",
       "      <th>3</th>\n",
       "      <td>1000004</td>\n",
       "      <td>7.4</td>\n",
       "      <td>-1.0</td>\n",
       "      <td>-1.0</td>\n",
       "      <td>5.4</td>\n",
       "    </tr>\n",
       "    <tr>\n",
       "      <th>4</th>\n",
       "      <td>1000005</td>\n",
       "      <td>7.2</td>\n",
       "      <td>-1.0</td>\n",
       "      <td>-1.0</td>\n",
       "      <td>5.2</td>\n",
       "    </tr>\n",
       "    <tr>\n",
       "      <th>...</th>\n",
       "      <td>...</td>\n",
       "      <td>...</td>\n",
       "      <td>...</td>\n",
       "      <td>...</td>\n",
       "      <td>...</td>\n",
       "    </tr>\n",
       "    <tr>\n",
       "      <th>995436</th>\n",
       "      <td>64006584</td>\n",
       "      <td>8.4</td>\n",
       "      <td>-1.0</td>\n",
       "      <td>-1.0</td>\n",
       "      <td>6.4</td>\n",
       "    </tr>\n",
       "    <tr>\n",
       "      <th>995437</th>\n",
       "      <td>64006585</td>\n",
       "      <td>5.6</td>\n",
       "      <td>-1.0</td>\n",
       "      <td>-1.0</td>\n",
       "      <td>3.6</td>\n",
       "    </tr>\n",
       "    <tr>\n",
       "      <th>995438</th>\n",
       "      <td>64006586</td>\n",
       "      <td>5.8</td>\n",
       "      <td>-1.0</td>\n",
       "      <td>-1.0</td>\n",
       "      <td>3.8</td>\n",
       "    </tr>\n",
       "    <tr>\n",
       "      <th>995439</th>\n",
       "      <td>64006587</td>\n",
       "      <td>7.6</td>\n",
       "      <td>-1.0</td>\n",
       "      <td>-1.0</td>\n",
       "      <td>5.6</td>\n",
       "    </tr>\n",
       "    <tr>\n",
       "      <th>995440</th>\n",
       "      <td>64006588</td>\n",
       "      <td>6.6</td>\n",
       "      <td>-1.0</td>\n",
       "      <td>-1.0</td>\n",
       "      <td>4.6</td>\n",
       "    </tr>\n",
       "  </tbody>\n",
       "</table>\n",
       "<p>995441 rows × 5 columns</p>\n",
       "</div>"
      ],
      "text/plain": [
       "        Số báo danh  Toán  Vật lý  Hóa học  Total_score\n",
       "0           1000001   3.6    -1.0     -1.0          1.6\n",
       "1           1000002   8.4    -1.0     -1.0          6.4\n",
       "2           1000003   5.8    -1.0     -1.0          3.8\n",
       "3           1000004   7.4    -1.0     -1.0          5.4\n",
       "4           1000005   7.2    -1.0     -1.0          5.2\n",
       "...             ...   ...     ...      ...          ...\n",
       "995436     64006584   8.4    -1.0     -1.0          6.4\n",
       "995437     64006585   5.6    -1.0     -1.0          3.6\n",
       "995438     64006586   5.8    -1.0     -1.0          3.8\n",
       "995439     64006587   7.6    -1.0     -1.0          5.6\n",
       "995440     64006588   6.6    -1.0     -1.0          4.6\n",
       "\n",
       "[995441 rows x 5 columns]"
      ]
     },
     "execution_count": 121,
     "metadata": {},
     "output_type": "execute_result"
    }
   ],
   "source": [
    "data_A1['Total_score'] = data_A1.apply(lambda row: point(row['Toán'],\n",
    "                                              row['Vật lý'],\n",
    "                                            row['Hóa học']), \n",
    "                       axis=1)\n",
    "data_A1\n"
   ]
  },
  {
   "cell_type": "code",
   "execution_count": 125,
   "id": "d0d271bf",
   "metadata": {},
   "outputs": [
    {
     "data": {
      "text/plain": [
       "30.0"
      ]
     },
     "execution_count": 125,
     "metadata": {},
     "output_type": "execute_result"
    }
   ],
   "source": [
    "A1_max = data_A1['Total_score'].max()\n",
    "A1_max"
   ]
  },
  {
   "cell_type": "markdown",
   "id": "c811d108",
   "metadata": {},
   "source": [
    "<center>\n",
    "    <h1>\n",
    "        lấy điểm những thí sinh điểm cao\n",
    "    </h1>\n",
    "</center>"
   ]
  },
  {
   "cell_type": "code",
   "execution_count": 127,
   "id": "771a0831",
   "metadata": {},
   "outputs": [
    {
     "data": {
      "text/html": [
       "<div>\n",
       "<style scoped>\n",
       "    .dataframe tbody tr th:only-of-type {\n",
       "        vertical-align: middle;\n",
       "    }\n",
       "\n",
       "    .dataframe tbody tr th {\n",
       "        vertical-align: top;\n",
       "    }\n",
       "\n",
       "    .dataframe thead th {\n",
       "        text-align: right;\n",
       "    }\n",
       "</style>\n",
       "<table border=\"1\" class=\"dataframe\">\n",
       "  <thead>\n",
       "    <tr style=\"text-align: right;\">\n",
       "      <th></th>\n",
       "      <th>Số báo danh</th>\n",
       "      <th>Ngữ văn</th>\n",
       "    </tr>\n",
       "  </thead>\n",
       "  <tbody>\n",
       "    <tr>\n",
       "      <th>0</th>\n",
       "      <td>1000082</td>\n",
       "      <td>9.50</td>\n",
       "    </tr>\n",
       "    <tr>\n",
       "      <th>1</th>\n",
       "      <td>1000139</td>\n",
       "      <td>9.25</td>\n",
       "    </tr>\n",
       "    <tr>\n",
       "      <th>2</th>\n",
       "      <td>1000226</td>\n",
       "      <td>9.25</td>\n",
       "    </tr>\n",
       "    <tr>\n",
       "      <th>3</th>\n",
       "      <td>1000324</td>\n",
       "      <td>9.25</td>\n",
       "    </tr>\n",
       "    <tr>\n",
       "      <th>4</th>\n",
       "      <td>1000584</td>\n",
       "      <td>9.25</td>\n",
       "    </tr>\n",
       "    <tr>\n",
       "      <th>...</th>\n",
       "      <td>...</td>\n",
       "      <td>...</td>\n",
       "    </tr>\n",
       "    <tr>\n",
       "      <th>8594</th>\n",
       "      <td>62004312</td>\n",
       "      <td>9.25</td>\n",
       "    </tr>\n",
       "    <tr>\n",
       "      <th>8595</th>\n",
       "      <td>63000533</td>\n",
       "      <td>9.25</td>\n",
       "    </tr>\n",
       "    <tr>\n",
       "      <th>8596</th>\n",
       "      <td>63002548</td>\n",
       "      <td>9.25</td>\n",
       "    </tr>\n",
       "    <tr>\n",
       "      <th>8597</th>\n",
       "      <td>64004642</td>\n",
       "      <td>9.25</td>\n",
       "    </tr>\n",
       "    <tr>\n",
       "      <th>8598</th>\n",
       "      <td>64006055</td>\n",
       "      <td>9.25</td>\n",
       "    </tr>\n",
       "  </tbody>\n",
       "</table>\n",
       "<p>8599 rows × 2 columns</p>\n",
       "</div>"
      ],
      "text/plain": [
       "      Số báo danh  Ngữ văn\n",
       "0         1000082     9.50\n",
       "1         1000139     9.25\n",
       "2         1000226     9.25\n",
       "3         1000324     9.25\n",
       "4         1000584     9.25\n",
       "...           ...      ...\n",
       "8594     62004312     9.25\n",
       "8595     63000533     9.25\n",
       "8596     63002548     9.25\n",
       "8597     64004642     9.25\n",
       "8598     64006055     9.25\n",
       "\n",
       "[8599 rows x 2 columns]"
      ]
     },
     "execution_count": 127,
     "metadata": {},
     "output_type": "execute_result"
    }
   ],
   "source": [
    "#Lấy tất cả học sinh điểm văn trên 9\n",
    "data_van = all_data[['Số báo danh','Ngữ văn']]\n",
    "data_van_tren_9 = data_van[data_van['Ngữ văn']>9]\n",
    "data_van_tren_9.reset_index(drop=True, inplace=True)\n",
    "data_van_tren_9"
   ]
  },
  {
   "cell_type": "code",
   "execution_count": 128,
   "id": "f0ce4975",
   "metadata": {},
   "outputs": [
    {
     "data": {
      "text/html": [
       "<div>\n",
       "<style scoped>\n",
       "    .dataframe tbody tr th:only-of-type {\n",
       "        vertical-align: middle;\n",
       "    }\n",
       "\n",
       "    .dataframe tbody tr th {\n",
       "        vertical-align: top;\n",
       "    }\n",
       "\n",
       "    .dataframe thead th {\n",
       "        text-align: right;\n",
       "    }\n",
       "</style>\n",
       "<table border=\"1\" class=\"dataframe\">\n",
       "  <thead>\n",
       "    <tr style=\"text-align: right;\">\n",
       "      <th></th>\n",
       "      <th>Số báo danh</th>\n",
       "      <th>Toán</th>\n",
       "    </tr>\n",
       "  </thead>\n",
       "  <tbody>\n",
       "    <tr>\n",
       "      <th>0</th>\n",
       "      <td>1012943</td>\n",
       "      <td>10.0</td>\n",
       "    </tr>\n",
       "    <tr>\n",
       "      <th>1</th>\n",
       "      <td>1015777</td>\n",
       "      <td>10.0</td>\n",
       "    </tr>\n",
       "    <tr>\n",
       "      <th>2</th>\n",
       "      <td>1017880</td>\n",
       "      <td>10.0</td>\n",
       "    </tr>\n",
       "    <tr>\n",
       "      <th>3</th>\n",
       "      <td>1019676</td>\n",
       "      <td>10.0</td>\n",
       "    </tr>\n",
       "    <tr>\n",
       "      <th>4</th>\n",
       "      <td>1025302</td>\n",
       "      <td>10.0</td>\n",
       "    </tr>\n",
       "    <tr>\n",
       "      <th>5</th>\n",
       "      <td>1068510</td>\n",
       "      <td>10.0</td>\n",
       "    </tr>\n",
       "    <tr>\n",
       "      <th>6</th>\n",
       "      <td>2005344</td>\n",
       "      <td>10.0</td>\n",
       "    </tr>\n",
       "    <tr>\n",
       "      <th>7</th>\n",
       "      <td>2005655</td>\n",
       "      <td>10.0</td>\n",
       "    </tr>\n",
       "    <tr>\n",
       "      <th>8</th>\n",
       "      <td>2026884</td>\n",
       "      <td>10.0</td>\n",
       "    </tr>\n",
       "    <tr>\n",
       "      <th>9</th>\n",
       "      <td>2042310</td>\n",
       "      <td>10.0</td>\n",
       "    </tr>\n",
       "    <tr>\n",
       "      <th>10</th>\n",
       "      <td>2042472</td>\n",
       "      <td>10.0</td>\n",
       "    </tr>\n",
       "    <tr>\n",
       "      <th>11</th>\n",
       "      <td>2052657</td>\n",
       "      <td>10.0</td>\n",
       "    </tr>\n",
       "    <tr>\n",
       "      <th>12</th>\n",
       "      <td>15000207</td>\n",
       "      <td>10.0</td>\n",
       "    </tr>\n",
       "    <tr>\n",
       "      <th>13</th>\n",
       "      <td>16009757</td>\n",
       "      <td>10.0</td>\n",
       "    </tr>\n",
       "    <tr>\n",
       "      <th>14</th>\n",
       "      <td>19000291</td>\n",
       "      <td>10.0</td>\n",
       "    </tr>\n",
       "    <tr>\n",
       "      <th>15</th>\n",
       "      <td>21006920</td>\n",
       "      <td>10.0</td>\n",
       "    </tr>\n",
       "    <tr>\n",
       "      <th>16</th>\n",
       "      <td>22013504</td>\n",
       "      <td>10.0</td>\n",
       "    </tr>\n",
       "    <tr>\n",
       "      <th>17</th>\n",
       "      <td>22013629</td>\n",
       "      <td>10.0</td>\n",
       "    </tr>\n",
       "    <tr>\n",
       "      <th>18</th>\n",
       "      <td>25000071</td>\n",
       "      <td>10.0</td>\n",
       "    </tr>\n",
       "    <tr>\n",
       "      <th>19</th>\n",
       "      <td>25014741</td>\n",
       "      <td>10.0</td>\n",
       "    </tr>\n",
       "    <tr>\n",
       "      <th>20</th>\n",
       "      <td>26017925</td>\n",
       "      <td>10.0</td>\n",
       "    </tr>\n",
       "    <tr>\n",
       "      <th>21</th>\n",
       "      <td>27006879</td>\n",
       "      <td>10.0</td>\n",
       "    </tr>\n",
       "    <tr>\n",
       "      <th>22</th>\n",
       "      <td>28020828</td>\n",
       "      <td>10.0</td>\n",
       "    </tr>\n",
       "    <tr>\n",
       "      <th>23</th>\n",
       "      <td>28028012</td>\n",
       "      <td>10.0</td>\n",
       "    </tr>\n",
       "    <tr>\n",
       "      <th>24</th>\n",
       "      <td>28031668</td>\n",
       "      <td>10.0</td>\n",
       "    </tr>\n",
       "    <tr>\n",
       "      <th>25</th>\n",
       "      <td>29003593</td>\n",
       "      <td>10.0</td>\n",
       "    </tr>\n",
       "    <tr>\n",
       "      <th>26</th>\n",
       "      <td>29004083</td>\n",
       "      <td>10.0</td>\n",
       "    </tr>\n",
       "    <tr>\n",
       "      <th>27</th>\n",
       "      <td>30005646</td>\n",
       "      <td>10.0</td>\n",
       "    </tr>\n",
       "    <tr>\n",
       "      <th>28</th>\n",
       "      <td>30014074</td>\n",
       "      <td>10.0</td>\n",
       "    </tr>\n",
       "    <tr>\n",
       "      <th>29</th>\n",
       "      <td>33009347</td>\n",
       "      <td>10.0</td>\n",
       "    </tr>\n",
       "    <tr>\n",
       "      <th>30</th>\n",
       "      <td>38001280</td>\n",
       "      <td>10.0</td>\n",
       "    </tr>\n",
       "    <tr>\n",
       "      <th>31</th>\n",
       "      <td>44002368</td>\n",
       "      <td>10.0</td>\n",
       "    </tr>\n",
       "    <tr>\n",
       "      <th>32</th>\n",
       "      <td>48003667</td>\n",
       "      <td>10.0</td>\n",
       "    </tr>\n",
       "    <tr>\n",
       "      <th>33</th>\n",
       "      <td>48011217</td>\n",
       "      <td>10.0</td>\n",
       "    </tr>\n",
       "    <tr>\n",
       "      <th>34</th>\n",
       "      <td>50003946</td>\n",
       "      <td>10.0</td>\n",
       "    </tr>\n",
       "  </tbody>\n",
       "</table>\n",
       "</div>"
      ],
      "text/plain": [
       "    Số báo danh  Toán\n",
       "0       1012943  10.0\n",
       "1       1015777  10.0\n",
       "2       1017880  10.0\n",
       "3       1019676  10.0\n",
       "4       1025302  10.0\n",
       "5       1068510  10.0\n",
       "6       2005344  10.0\n",
       "7       2005655  10.0\n",
       "8       2026884  10.0\n",
       "9       2042310  10.0\n",
       "10      2042472  10.0\n",
       "11      2052657  10.0\n",
       "12     15000207  10.0\n",
       "13     16009757  10.0\n",
       "14     19000291  10.0\n",
       "15     21006920  10.0\n",
       "16     22013504  10.0\n",
       "17     22013629  10.0\n",
       "18     25000071  10.0\n",
       "19     25014741  10.0\n",
       "20     26017925  10.0\n",
       "21     27006879  10.0\n",
       "22     28020828  10.0\n",
       "23     28028012  10.0\n",
       "24     28031668  10.0\n",
       "25     29003593  10.0\n",
       "26     29004083  10.0\n",
       "27     30005646  10.0\n",
       "28     30014074  10.0\n",
       "29     33009347  10.0\n",
       "30     38001280  10.0\n",
       "31     44002368  10.0\n",
       "32     48003667  10.0\n",
       "33     48011217  10.0\n",
       "34     50003946  10.0"
      ]
     },
     "execution_count": 128,
     "metadata": {},
     "output_type": "execute_result"
    }
   ],
   "source": [
    "#Lấy tất cả học sinh điểm toán bằng 10\n",
    "data_toan= all_data[['Số báo danh','Toán']]\n",
    "data_toan_10 = data_toan[data_toan['Toán']==10]\n",
    "data_toan_10.reset_index(drop=True, inplace=True)\n",
    "data_toan_10"
   ]
  },
  {
   "cell_type": "code",
   "execution_count": 129,
   "id": "50e91e34",
   "metadata": {},
   "outputs": [
    {
     "data": {
      "text/html": [
       "<div>\n",
       "<style scoped>\n",
       "    .dataframe tbody tr th:only-of-type {\n",
       "        vertical-align: middle;\n",
       "    }\n",
       "\n",
       "    .dataframe tbody tr th {\n",
       "        vertical-align: top;\n",
       "    }\n",
       "\n",
       "    .dataframe thead th {\n",
       "        text-align: right;\n",
       "    }\n",
       "</style>\n",
       "<table border=\"1\" class=\"dataframe\">\n",
       "  <thead>\n",
       "    <tr style=\"text-align: right;\">\n",
       "      <th></th>\n",
       "      <th>Số báo danh</th>\n",
       "      <th>Ngoại ngữ</th>\n",
       "    </tr>\n",
       "  </thead>\n",
       "  <tbody>\n",
       "    <tr>\n",
       "      <th>0</th>\n",
       "      <td>1001125</td>\n",
       "      <td>10.0</td>\n",
       "    </tr>\n",
       "    <tr>\n",
       "      <th>1</th>\n",
       "      <td>1001242</td>\n",
       "      <td>10.0</td>\n",
       "    </tr>\n",
       "    <tr>\n",
       "      <th>2</th>\n",
       "      <td>1001877</td>\n",
       "      <td>10.0</td>\n",
       "    </tr>\n",
       "    <tr>\n",
       "      <th>3</th>\n",
       "      <td>1002013</td>\n",
       "      <td>10.0</td>\n",
       "    </tr>\n",
       "    <tr>\n",
       "      <th>4</th>\n",
       "      <td>1002294</td>\n",
       "      <td>10.0</td>\n",
       "    </tr>\n",
       "    <tr>\n",
       "      <th>...</th>\n",
       "      <td>...</td>\n",
       "      <td>...</td>\n",
       "    </tr>\n",
       "    <tr>\n",
       "      <th>550</th>\n",
       "      <td>58006500</td>\n",
       "      <td>10.0</td>\n",
       "    </tr>\n",
       "    <tr>\n",
       "      <th>551</th>\n",
       "      <td>58008924</td>\n",
       "      <td>10.0</td>\n",
       "    </tr>\n",
       "    <tr>\n",
       "      <th>552</th>\n",
       "      <td>61000950</td>\n",
       "      <td>10.0</td>\n",
       "    </tr>\n",
       "    <tr>\n",
       "      <th>553</th>\n",
       "      <td>61003756</td>\n",
       "      <td>10.0</td>\n",
       "    </tr>\n",
       "    <tr>\n",
       "      <th>554</th>\n",
       "      <td>62004378</td>\n",
       "      <td>10.0</td>\n",
       "    </tr>\n",
       "  </tbody>\n",
       "</table>\n",
       "<p>555 rows × 2 columns</p>\n",
       "</div>"
      ],
      "text/plain": [
       "     Số báo danh  Ngoại ngữ\n",
       "0        1001125       10.0\n",
       "1        1001242       10.0\n",
       "2        1001877       10.0\n",
       "3        1002013       10.0\n",
       "4        1002294       10.0\n",
       "..           ...        ...\n",
       "550     58006500       10.0\n",
       "551     58008924       10.0\n",
       "552     61000950       10.0\n",
       "553     61003756       10.0\n",
       "554     62004378       10.0\n",
       "\n",
       "[555 rows x 2 columns]"
      ]
     },
     "execution_count": 129,
     "metadata": {},
     "output_type": "execute_result"
    }
   ],
   "source": [
    "#Lọc lấy tất cả các học sinh tiếng anh 10đ\n",
    "data_Eng = all_data[['Số báo danh','Ngoại ngữ']]\n",
    "df_Eng_10 = data_Eng[data_Eng['Ngoại ngữ']==10]\n",
    "df_Eng_10.reset_index(drop=True, inplace=True)\n",
    "df_Eng_10"
   ]
  },
  {
   "cell_type": "markdown",
   "id": "497717bc",
   "metadata": {},
   "source": [
    "<center>\n",
    "    <h1>\n",
    "        những thí sinh trượt tốt nghiệp\n",
    "    </h1>\n",
    "</center>"
   ]
  },
  {
   "cell_type": "code",
   "execution_count": 130,
   "id": "85839dce",
   "metadata": {},
   "outputs": [
    {
     "data": {
      "text/html": [
       "<div>\n",
       "<style scoped>\n",
       "    .dataframe tbody tr th:only-of-type {\n",
       "        vertical-align: middle;\n",
       "    }\n",
       "\n",
       "    .dataframe tbody tr th {\n",
       "        vertical-align: top;\n",
       "    }\n",
       "\n",
       "    .dataframe thead th {\n",
       "        text-align: right;\n",
       "    }\n",
       "</style>\n",
       "<table border=\"1\" class=\"dataframe\">\n",
       "  <thead>\n",
       "    <tr style=\"text-align: right;\">\n",
       "      <th></th>\n",
       "      <th>Số báo danh</th>\n",
       "      <th>Toán</th>\n",
       "      <th>Ngữ văn</th>\n",
       "      <th>Ngoại ngữ</th>\n",
       "      <th>Vật lý</th>\n",
       "      <th>Hóa học</th>\n",
       "      <th>Sinh học</th>\n",
       "      <th>Lịch sử</th>\n",
       "      <th>Địa lý</th>\n",
       "      <th>GDCD</th>\n",
       "    </tr>\n",
       "  </thead>\n",
       "  <tbody>\n",
       "    <tr>\n",
       "      <th>0</th>\n",
       "      <td>1000001</td>\n",
       "      <td>3.6</td>\n",
       "      <td>5.00</td>\n",
       "      <td>4.0</td>\n",
       "      <td>-1.0</td>\n",
       "      <td>-1.0</td>\n",
       "      <td>-1.0</td>\n",
       "      <td>2.75</td>\n",
       "      <td>6.00</td>\n",
       "      <td>8.75</td>\n",
       "    </tr>\n",
       "    <tr>\n",
       "      <th>1</th>\n",
       "      <td>1000002</td>\n",
       "      <td>8.4</td>\n",
       "      <td>6.75</td>\n",
       "      <td>7.6</td>\n",
       "      <td>-1.0</td>\n",
       "      <td>-1.0</td>\n",
       "      <td>-1.0</td>\n",
       "      <td>8.50</td>\n",
       "      <td>7.50</td>\n",
       "      <td>8.25</td>\n",
       "    </tr>\n",
       "    <tr>\n",
       "      <th>2</th>\n",
       "      <td>1000003</td>\n",
       "      <td>5.8</td>\n",
       "      <td>7.50</td>\n",
       "      <td>5.0</td>\n",
       "      <td>-1.0</td>\n",
       "      <td>-1.0</td>\n",
       "      <td>-1.0</td>\n",
       "      <td>7.25</td>\n",
       "      <td>5.50</td>\n",
       "      <td>8.75</td>\n",
       "    </tr>\n",
       "    <tr>\n",
       "      <th>3</th>\n",
       "      <td>1000004</td>\n",
       "      <td>7.4</td>\n",
       "      <td>7.50</td>\n",
       "      <td>8.6</td>\n",
       "      <td>-1.0</td>\n",
       "      <td>-1.0</td>\n",
       "      <td>-1.0</td>\n",
       "      <td>7.50</td>\n",
       "      <td>6.50</td>\n",
       "      <td>7.50</td>\n",
       "    </tr>\n",
       "    <tr>\n",
       "      <th>4</th>\n",
       "      <td>1000005</td>\n",
       "      <td>7.2</td>\n",
       "      <td>8.50</td>\n",
       "      <td>9.0</td>\n",
       "      <td>-1.0</td>\n",
       "      <td>-1.0</td>\n",
       "      <td>-1.0</td>\n",
       "      <td>8.00</td>\n",
       "      <td>8.50</td>\n",
       "      <td>8.25</td>\n",
       "    </tr>\n",
       "    <tr>\n",
       "      <th>...</th>\n",
       "      <td>...</td>\n",
       "      <td>...</td>\n",
       "      <td>...</td>\n",
       "      <td>...</td>\n",
       "      <td>...</td>\n",
       "      <td>...</td>\n",
       "      <td>...</td>\n",
       "      <td>...</td>\n",
       "      <td>...</td>\n",
       "      <td>...</td>\n",
       "    </tr>\n",
       "    <tr>\n",
       "      <th>995436</th>\n",
       "      <td>64006584</td>\n",
       "      <td>8.4</td>\n",
       "      <td>6.75</td>\n",
       "      <td>4.6</td>\n",
       "      <td>-1.0</td>\n",
       "      <td>-1.0</td>\n",
       "      <td>-1.0</td>\n",
       "      <td>6.50</td>\n",
       "      <td>6.75</td>\n",
       "      <td>9.00</td>\n",
       "    </tr>\n",
       "    <tr>\n",
       "      <th>995437</th>\n",
       "      <td>64006585</td>\n",
       "      <td>5.6</td>\n",
       "      <td>6.50</td>\n",
       "      <td>2.8</td>\n",
       "      <td>-1.0</td>\n",
       "      <td>-1.0</td>\n",
       "      <td>-1.0</td>\n",
       "      <td>6.25</td>\n",
       "      <td>6.75</td>\n",
       "      <td>8.50</td>\n",
       "    </tr>\n",
       "    <tr>\n",
       "      <th>995438</th>\n",
       "      <td>64006586</td>\n",
       "      <td>5.8</td>\n",
       "      <td>6.00</td>\n",
       "      <td>6.6</td>\n",
       "      <td>-1.0</td>\n",
       "      <td>-1.0</td>\n",
       "      <td>-1.0</td>\n",
       "      <td>7.25</td>\n",
       "      <td>8.00</td>\n",
       "      <td>8.00</td>\n",
       "    </tr>\n",
       "    <tr>\n",
       "      <th>995439</th>\n",
       "      <td>64006587</td>\n",
       "      <td>7.6</td>\n",
       "      <td>6.75</td>\n",
       "      <td>7.0</td>\n",
       "      <td>-1.0</td>\n",
       "      <td>-1.0</td>\n",
       "      <td>-1.0</td>\n",
       "      <td>8.75</td>\n",
       "      <td>7.25</td>\n",
       "      <td>9.75</td>\n",
       "    </tr>\n",
       "    <tr>\n",
       "      <th>995440</th>\n",
       "      <td>64006588</td>\n",
       "      <td>6.6</td>\n",
       "      <td>4.50</td>\n",
       "      <td>3.2</td>\n",
       "      <td>-1.0</td>\n",
       "      <td>-1.0</td>\n",
       "      <td>-1.0</td>\n",
       "      <td>3.00</td>\n",
       "      <td>6.00</td>\n",
       "      <td>7.50</td>\n",
       "    </tr>\n",
       "  </tbody>\n",
       "</table>\n",
       "<p>995441 rows × 10 columns</p>\n",
       "</div>"
      ],
      "text/plain": [
       "        Số báo danh  Toán  Ngữ văn  Ngoại ngữ  Vật lý  Hóa học  Sinh học  \\\n",
       "0           1000001   3.6     5.00        4.0    -1.0     -1.0      -1.0   \n",
       "1           1000002   8.4     6.75        7.6    -1.0     -1.0      -1.0   \n",
       "2           1000003   5.8     7.50        5.0    -1.0     -1.0      -1.0   \n",
       "3           1000004   7.4     7.50        8.6    -1.0     -1.0      -1.0   \n",
       "4           1000005   7.2     8.50        9.0    -1.0     -1.0      -1.0   \n",
       "...             ...   ...      ...        ...     ...      ...       ...   \n",
       "995436     64006584   8.4     6.75        4.6    -1.0     -1.0      -1.0   \n",
       "995437     64006585   5.6     6.50        2.8    -1.0     -1.0      -1.0   \n",
       "995438     64006586   5.8     6.00        6.6    -1.0     -1.0      -1.0   \n",
       "995439     64006587   7.6     6.75        7.0    -1.0     -1.0      -1.0   \n",
       "995440     64006588   6.6     4.50        3.2    -1.0     -1.0      -1.0   \n",
       "\n",
       "        Lịch sử  Địa lý  GDCD  \n",
       "0          2.75    6.00  8.75  \n",
       "1          8.50    7.50  8.25  \n",
       "2          7.25    5.50  8.75  \n",
       "3          7.50    6.50  7.50  \n",
       "4          8.00    8.50  8.25  \n",
       "...         ...     ...   ...  \n",
       "995436     6.50    6.75  9.00  \n",
       "995437     6.25    6.75  8.50  \n",
       "995438     7.25    8.00  8.00  \n",
       "995439     8.75    7.25  9.75  \n",
       "995440     3.00    6.00  7.50  \n",
       "\n",
       "[995441 rows x 10 columns]"
      ]
     },
     "execution_count": 130,
     "metadata": {},
     "output_type": "execute_result"
    }
   ],
   "source": [
    "#số lượng trượt tốt nghiệp\n",
    "df_truot_tn = all_data[(all_data['Ngữ văn']<1.25) \n",
    "                         | (all_data['Toán']<1.25) \n",
    "                         | (all_data['Ngoại ngữ']<1.25) \n",
    "                         | (all_data['Vật lý']<1.25) \n",
    "                         | (all_data['Hóa học']<1.25) \n",
    "                         | (all_data['Sinh học']<1.25)\n",
    "                         | (all_data['Lịch sử']<1.25)\n",
    "                         | (all_data['Địa lý']<1.25)\n",
    "                         | (all_data['GDCD']<1.25)]\n",
    "df_truot_tn.reset_index(drop=True, inplace=True)\n",
    "\n",
    "df_truot_tn"
   ]
  },
  {
   "cell_type": "code",
   "execution_count": null,
   "id": "48ed20ce",
   "metadata": {},
   "outputs": [],
   "source": []
  },
  {
   "cell_type": "code",
   "execution_count": null,
   "id": "54122e26",
   "metadata": {},
   "outputs": [],
   "source": []
  },
  {
   "cell_type": "code",
   "execution_count": null,
   "id": "a79e5343",
   "metadata": {},
   "outputs": [],
   "source": []
  },
  {
   "cell_type": "code",
   "execution_count": null,
   "id": "4136dd71",
   "metadata": {},
   "outputs": [],
   "source": []
  }
 ],
 "metadata": {
  "kernelspec": {
   "display_name": "Python 3 (ipykernel)",
   "language": "python",
   "name": "python3"
  },
  "language_info": {
   "codemirror_mode": {
    "name": "ipython",
    "version": 3
   },
   "file_extension": ".py",
   "mimetype": "text/x-python",
   "name": "python",
   "nbconvert_exporter": "python",
   "pygments_lexer": "ipython3",
   "version": "3.10.2"
  }
 },
 "nbformat": 4,
 "nbformat_minor": 5
}
